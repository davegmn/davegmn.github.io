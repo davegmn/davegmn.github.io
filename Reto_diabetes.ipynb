{
  "cells": [
    {
      "attachments": {},
      "cell_type": "markdown",
      "metadata": {
        "id": "r_mfF5tMGd8C"
      },
      "source": [
        "# ***Reto***"
      ]
    },
    {
      "attachments": {},
      "cell_type": "markdown",
      "metadata": {
        "id": "1qa9sdlwGd8S"
      },
      "source": [
        "## ***Importar librerias***"
      ]
    },
    {
      "cell_type": "code",
      "execution_count": null,
      "metadata": {
        "id": "w138cK4iGd8T"
      },
      "outputs": [],
      "source": [
        "import pandas as pd\n",
        "import numpy as np\n",
        "import matplotlib.pyplot as plt\n",
        "import plotly.offline as py\n",
        "import plotly.graph_objects as go\n",
        "import plotly.tools as tls\n",
        "import plotly.express as px\n",
        "import seaborn as sns\n",
        "from numpy.linalg import eig\n",
        "from pgmpy.models import BayesianModel\n",
        "from pgmpy.estimators import MaximumLikelihoodEstimator\n",
        "from pgmpy.estimators import BayesianEstimator\n",
        "from pgmpy.inference import VariableElimination\n",
        "from pgmpy.metrics import correlation_score\n",
        "import networkx\n",
        "from sklearn.decomposition import PCA\n",
        "from sklearn.preprocessing import StandardScaler\n",
        "from sklearn.pipeline import make_pipeline\n",
        "from sklearn.model_selection import KFold, cross_val_score, train_test_split\n",
        "from sklearn.linear_model import LinearRegression, Ridge, RidgeCV, Lasso, LassoCV\n",
        "from sklearn.metrics import mean_squared_error\n",
        "from sklearn.preprocessing import scale\n",
        "from factor_analyzer.factor_analyzer import FactorAnalyzer\n",
        "from factor_analyzer import factor_analyzer"
      ]
    },
    {
      "attachments": {},
      "cell_type": "markdown",
      "metadata": {
        "id": "8TzYVf3PGd8o"
      },
      "source": [
        "## ***Analisis exploratorio***"
      ]
    },
    {
      "cell_type": "code",
      "execution_count": null,
      "metadata": {
        "id": "j_M8HiXkGd8v",
        "outputId": "3cae9140-eb01-4a2d-a39e-e182d7a8b673"
      },
      "outputs": [
        {
          "data": {
            "text/html": [
              "<div>\n",
              "<style scoped>\n",
              "    .dataframe tbody tr th:only-of-type {\n",
              "        vertical-align: middle;\n",
              "    }\n",
              "\n",
              "    .dataframe tbody tr th {\n",
              "        vertical-align: top;\n",
              "    }\n",
              "\n",
              "    .dataframe thead th {\n",
              "        text-align: right;\n",
              "    }\n",
              "</style>\n",
              "<table border=\"1\" class=\"dataframe\">\n",
              "  <thead>\n",
              "    <tr style=\"text-align: right;\">\n",
              "      <th></th>\n",
              "      <th>Unnamed: 0</th>\n",
              "      <th>colesterol</th>\n",
              "      <th>glucosa</th>\n",
              "      <th>hdl_chol</th>\n",
              "      <th>prop_col_hdl</th>\n",
              "      <th>edad</th>\n",
              "      <th>genero</th>\n",
              "      <th>altura</th>\n",
              "      <th>peso</th>\n",
              "      <th>IMC</th>\n",
              "      <th>ps_sistolica</th>\n",
              "      <th>ps_diastolica</th>\n",
              "      <th>cintura</th>\n",
              "      <th>caderas</th>\n",
              "      <th>prop_cin_cad</th>\n",
              "      <th>diabetes</th>\n",
              "    </tr>\n",
              "  </thead>\n",
              "  <tbody>\n",
              "    <tr>\n",
              "      <th>0</th>\n",
              "      <td>1</td>\n",
              "      <td>193</td>\n",
              "      <td>77</td>\n",
              "      <td>49</td>\n",
              "      <td>3.9</td>\n",
              "      <td>19</td>\n",
              "      <td>female</td>\n",
              "      <td>61</td>\n",
              "      <td>119</td>\n",
              "      <td>22.5</td>\n",
              "      <td>118</td>\n",
              "      <td>70</td>\n",
              "      <td>32</td>\n",
              "      <td>38</td>\n",
              "      <td>0.84</td>\n",
              "      <td>No_diabetes</td>\n",
              "    </tr>\n",
              "    <tr>\n",
              "      <th>1</th>\n",
              "      <td>2</td>\n",
              "      <td>146</td>\n",
              "      <td>79</td>\n",
              "      <td>41</td>\n",
              "      <td>3.6</td>\n",
              "      <td>19</td>\n",
              "      <td>female</td>\n",
              "      <td>60</td>\n",
              "      <td>135</td>\n",
              "      <td>26.4</td>\n",
              "      <td>108</td>\n",
              "      <td>58</td>\n",
              "      <td>33</td>\n",
              "      <td>40</td>\n",
              "      <td>0.83</td>\n",
              "      <td>No_diabetes</td>\n",
              "    </tr>\n",
              "    <tr>\n",
              "      <th>2</th>\n",
              "      <td>3</td>\n",
              "      <td>217</td>\n",
              "      <td>75</td>\n",
              "      <td>54</td>\n",
              "      <td>4.0</td>\n",
              "      <td>20</td>\n",
              "      <td>female</td>\n",
              "      <td>67</td>\n",
              "      <td>187</td>\n",
              "      <td>29.3</td>\n",
              "      <td>110</td>\n",
              "      <td>72</td>\n",
              "      <td>40</td>\n",
              "      <td>45</td>\n",
              "      <td>0.89</td>\n",
              "      <td>No_diabetes</td>\n",
              "    </tr>\n",
              "    <tr>\n",
              "      <th>3</th>\n",
              "      <td>4</td>\n",
              "      <td>226</td>\n",
              "      <td>97</td>\n",
              "      <td>70</td>\n",
              "      <td>3.2</td>\n",
              "      <td>20</td>\n",
              "      <td>female</td>\n",
              "      <td>64</td>\n",
              "      <td>114</td>\n",
              "      <td>19.6</td>\n",
              "      <td>122</td>\n",
              "      <td>64</td>\n",
              "      <td>31</td>\n",
              "      <td>39</td>\n",
              "      <td>0.79</td>\n",
              "      <td>No_diabetes</td>\n",
              "    </tr>\n",
              "    <tr>\n",
              "      <th>4</th>\n",
              "      <td>5</td>\n",
              "      <td>164</td>\n",
              "      <td>91</td>\n",
              "      <td>67</td>\n",
              "      <td>2.4</td>\n",
              "      <td>20</td>\n",
              "      <td>female</td>\n",
              "      <td>70</td>\n",
              "      <td>141</td>\n",
              "      <td>20.2</td>\n",
              "      <td>122</td>\n",
              "      <td>86</td>\n",
              "      <td>32</td>\n",
              "      <td>39</td>\n",
              "      <td>0.82</td>\n",
              "      <td>No_diabetes</td>\n",
              "    </tr>\n",
              "  </tbody>\n",
              "</table>\n",
              "</div>"
            ],
            "text/plain": [
              "   Unnamed: 0  colesterol  glucosa  hdl_chol  prop_col_hdl  edad  genero  \\\n",
              "0           1         193       77        49           3.9    19  female   \n",
              "1           2         146       79        41           3.6    19  female   \n",
              "2           3         217       75        54           4.0    20  female   \n",
              "3           4         226       97        70           3.2    20  female   \n",
              "4           5         164       91        67           2.4    20  female   \n",
              "\n",
              "   altura  peso   IMC  ps_sistolica  ps_diastolica  cintura  caderas  \\\n",
              "0      61   119  22.5           118             70       32       38   \n",
              "1      60   135  26.4           108             58       33       40   \n",
              "2      67   187  29.3           110             72       40       45   \n",
              "3      64   114  19.6           122             64       31       39   \n",
              "4      70   141  20.2           122             86       32       39   \n",
              "\n",
              "   prop_cin_cad     diabetes  \n",
              "0          0.84  No_diabetes  \n",
              "1          0.83  No_diabetes  \n",
              "2          0.89  No_diabetes  \n",
              "3          0.79  No_diabetes  \n",
              "4          0.82  No_diabetes  "
            ]
          },
          "execution_count": 3,
          "metadata": {},
          "output_type": "execute_result"
        }
      ],
      "source": [
        "df = pd.read_excel(\"diabetes_cortesia_promitat.xlsx\")\n",
        "df.head(5)"
      ]
    },
    {
      "cell_type": "code",
      "execution_count": null,
      "metadata": {
        "id": "pc2_3sTBGd8x",
        "outputId": "ad4e5a11-0e66-4a35-c98a-bccb190336d6"
      },
      "outputs": [
        {
          "name": "stdout",
          "output_type": "stream",
          "text": [
            "In Unnamed: 0 there are 0 na's\n",
            "In colesterol there are 0 na's\n",
            "In glucosa there are 0 na's\n",
            "In hdl_chol there are 0 na's\n",
            "In prop_col_hdl there are 0 na's\n",
            "In edad there are 0 na's\n",
            "In genero there are 0 na's\n",
            "In altura there are 0 na's\n",
            "In peso there are 0 na's\n",
            "In IMC there are 0 na's\n",
            "In ps_sistolica there are 0 na's\n",
            "In ps_diastolica there are 0 na's\n",
            "In cintura there are 0 na's\n",
            "In caderas there are 0 na's\n",
            "In prop_cin_cad there are 0 na's\n",
            "In diabetes there are 0 na's\n"
          ]
        }
      ],
      "source": [
        "for i in df.columns:\n",
        "    print(f\"In {i} there are {df[i].isna().sum()} na's\")"
      ]
    },
    {
      "attachments": {},
      "cell_type": "markdown",
      "metadata": {
        "id": "s5RPGUu7Gd8z"
      },
      "source": [
        "Este pedo esta en sistema de unidades inglesa"
      ]
    },
    {
      "cell_type": "code",
      "execution_count": null,
      "metadata": {
        "id": "FbFP3TOmGd80",
        "outputId": "3271060a-1989-45ff-a28a-022af31be6bd"
      },
      "outputs": [
        {
          "data": {
            "text/html": [
              "<div>\n",
              "<style scoped>\n",
              "    .dataframe tbody tr th:only-of-type {\n",
              "        vertical-align: middle;\n",
              "    }\n",
              "\n",
              "    .dataframe tbody tr th {\n",
              "        vertical-align: top;\n",
              "    }\n",
              "\n",
              "    .dataframe thead th {\n",
              "        text-align: right;\n",
              "    }\n",
              "</style>\n",
              "<table border=\"1\" class=\"dataframe\">\n",
              "  <thead>\n",
              "    <tr style=\"text-align: right;\">\n",
              "      <th></th>\n",
              "      <th>colesterol</th>\n",
              "      <th>glucosa</th>\n",
              "      <th>hdl_chol</th>\n",
              "      <th>prop_col_hdl</th>\n",
              "      <th>edad</th>\n",
              "      <th>genero</th>\n",
              "      <th>altura</th>\n",
              "      <th>peso</th>\n",
              "      <th>IMC</th>\n",
              "      <th>ps_sistolica</th>\n",
              "      <th>ps_diastolica</th>\n",
              "      <th>cintura</th>\n",
              "      <th>caderas</th>\n",
              "      <th>prop_cin_cad</th>\n",
              "      <th>diabetes</th>\n",
              "    </tr>\n",
              "  </thead>\n",
              "  <tbody>\n",
              "    <tr>\n",
              "      <th>0</th>\n",
              "      <td>193</td>\n",
              "      <td>77</td>\n",
              "      <td>49</td>\n",
              "      <td>3.9</td>\n",
              "      <td>19</td>\n",
              "      <td>female</td>\n",
              "      <td>61</td>\n",
              "      <td>119</td>\n",
              "      <td>22.5</td>\n",
              "      <td>118</td>\n",
              "      <td>70</td>\n",
              "      <td>32</td>\n",
              "      <td>38</td>\n",
              "      <td>0.84</td>\n",
              "      <td>No_diabetes</td>\n",
              "    </tr>\n",
              "    <tr>\n",
              "      <th>1</th>\n",
              "      <td>146</td>\n",
              "      <td>79</td>\n",
              "      <td>41</td>\n",
              "      <td>3.6</td>\n",
              "      <td>19</td>\n",
              "      <td>female</td>\n",
              "      <td>60</td>\n",
              "      <td>135</td>\n",
              "      <td>26.4</td>\n",
              "      <td>108</td>\n",
              "      <td>58</td>\n",
              "      <td>33</td>\n",
              "      <td>40</td>\n",
              "      <td>0.83</td>\n",
              "      <td>No_diabetes</td>\n",
              "    </tr>\n",
              "    <tr>\n",
              "      <th>2</th>\n",
              "      <td>217</td>\n",
              "      <td>75</td>\n",
              "      <td>54</td>\n",
              "      <td>4.0</td>\n",
              "      <td>20</td>\n",
              "      <td>female</td>\n",
              "      <td>67</td>\n",
              "      <td>187</td>\n",
              "      <td>29.3</td>\n",
              "      <td>110</td>\n",
              "      <td>72</td>\n",
              "      <td>40</td>\n",
              "      <td>45</td>\n",
              "      <td>0.89</td>\n",
              "      <td>No_diabetes</td>\n",
              "    </tr>\n",
              "    <tr>\n",
              "      <th>3</th>\n",
              "      <td>226</td>\n",
              "      <td>97</td>\n",
              "      <td>70</td>\n",
              "      <td>3.2</td>\n",
              "      <td>20</td>\n",
              "      <td>female</td>\n",
              "      <td>64</td>\n",
              "      <td>114</td>\n",
              "      <td>19.6</td>\n",
              "      <td>122</td>\n",
              "      <td>64</td>\n",
              "      <td>31</td>\n",
              "      <td>39</td>\n",
              "      <td>0.79</td>\n",
              "      <td>No_diabetes</td>\n",
              "    </tr>\n",
              "    <tr>\n",
              "      <th>4</th>\n",
              "      <td>164</td>\n",
              "      <td>91</td>\n",
              "      <td>67</td>\n",
              "      <td>2.4</td>\n",
              "      <td>20</td>\n",
              "      <td>female</td>\n",
              "      <td>70</td>\n",
              "      <td>141</td>\n",
              "      <td>20.2</td>\n",
              "      <td>122</td>\n",
              "      <td>86</td>\n",
              "      <td>32</td>\n",
              "      <td>39</td>\n",
              "      <td>0.82</td>\n",
              "      <td>No_diabetes</td>\n",
              "    </tr>\n",
              "    <tr>\n",
              "      <th>...</th>\n",
              "      <td>...</td>\n",
              "      <td>...</td>\n",
              "      <td>...</td>\n",
              "      <td>...</td>\n",
              "      <td>...</td>\n",
              "      <td>...</td>\n",
              "      <td>...</td>\n",
              "      <td>...</td>\n",
              "      <td>...</td>\n",
              "      <td>...</td>\n",
              "      <td>...</td>\n",
              "      <td>...</td>\n",
              "      <td>...</td>\n",
              "      <td>...</td>\n",
              "      <td>...</td>\n",
              "    </tr>\n",
              "    <tr>\n",
              "      <th>385</th>\n",
              "      <td>227</td>\n",
              "      <td>105</td>\n",
              "      <td>44</td>\n",
              "      <td>5.2</td>\n",
              "      <td>83</td>\n",
              "      <td>female</td>\n",
              "      <td>59</td>\n",
              "      <td>125</td>\n",
              "      <td>25.2</td>\n",
              "      <td>150</td>\n",
              "      <td>90</td>\n",
              "      <td>35</td>\n",
              "      <td>40</td>\n",
              "      <td>0.88</td>\n",
              "      <td>No_diabetes</td>\n",
              "    </tr>\n",
              "    <tr>\n",
              "      <th>386</th>\n",
              "      <td>226</td>\n",
              "      <td>279</td>\n",
              "      <td>52</td>\n",
              "      <td>4.3</td>\n",
              "      <td>84</td>\n",
              "      <td>female</td>\n",
              "      <td>60</td>\n",
              "      <td>192</td>\n",
              "      <td>37.5</td>\n",
              "      <td>144</td>\n",
              "      <td>88</td>\n",
              "      <td>41</td>\n",
              "      <td>48</td>\n",
              "      <td>0.85</td>\n",
              "      <td>Diabetes</td>\n",
              "    </tr>\n",
              "    <tr>\n",
              "      <th>387</th>\n",
              "      <td>301</td>\n",
              "      <td>90</td>\n",
              "      <td>118</td>\n",
              "      <td>2.6</td>\n",
              "      <td>89</td>\n",
              "      <td>female</td>\n",
              "      <td>61</td>\n",
              "      <td>115</td>\n",
              "      <td>21.7</td>\n",
              "      <td>218</td>\n",
              "      <td>90</td>\n",
              "      <td>31</td>\n",
              "      <td>41</td>\n",
              "      <td>0.76</td>\n",
              "      <td>No_diabetes</td>\n",
              "    </tr>\n",
              "    <tr>\n",
              "      <th>388</th>\n",
              "      <td>232</td>\n",
              "      <td>184</td>\n",
              "      <td>114</td>\n",
              "      <td>2.0</td>\n",
              "      <td>91</td>\n",
              "      <td>female</td>\n",
              "      <td>61</td>\n",
              "      <td>127</td>\n",
              "      <td>24.0</td>\n",
              "      <td>170</td>\n",
              "      <td>82</td>\n",
              "      <td>35</td>\n",
              "      <td>38</td>\n",
              "      <td>0.92</td>\n",
              "      <td>Diabetes</td>\n",
              "    </tr>\n",
              "    <tr>\n",
              "      <th>389</th>\n",
              "      <td>165</td>\n",
              "      <td>94</td>\n",
              "      <td>69</td>\n",
              "      <td>2.4</td>\n",
              "      <td>92</td>\n",
              "      <td>female</td>\n",
              "      <td>62</td>\n",
              "      <td>217</td>\n",
              "      <td>39.7</td>\n",
              "      <td>160</td>\n",
              "      <td>82</td>\n",
              "      <td>51</td>\n",
              "      <td>51</td>\n",
              "      <td>1.00</td>\n",
              "      <td>No_diabetes</td>\n",
              "    </tr>\n",
              "  </tbody>\n",
              "</table>\n",
              "<p>390 rows × 15 columns</p>\n",
              "</div>"
            ],
            "text/plain": [
              "     colesterol  glucosa  hdl_chol  prop_col_hdl  edad  genero  altura  peso  \\\n",
              "0           193       77        49           3.9    19  female      61   119   \n",
              "1           146       79        41           3.6    19  female      60   135   \n",
              "2           217       75        54           4.0    20  female      67   187   \n",
              "3           226       97        70           3.2    20  female      64   114   \n",
              "4           164       91        67           2.4    20  female      70   141   \n",
              "..          ...      ...       ...           ...   ...     ...     ...   ...   \n",
              "385         227      105        44           5.2    83  female      59   125   \n",
              "386         226      279        52           4.3    84  female      60   192   \n",
              "387         301       90       118           2.6    89  female      61   115   \n",
              "388         232      184       114           2.0    91  female      61   127   \n",
              "389         165       94        69           2.4    92  female      62   217   \n",
              "\n",
              "      IMC  ps_sistolica  ps_diastolica  cintura  caderas  prop_cin_cad  \\\n",
              "0    22.5           118             70       32       38          0.84   \n",
              "1    26.4           108             58       33       40          0.83   \n",
              "2    29.3           110             72       40       45          0.89   \n",
              "3    19.6           122             64       31       39          0.79   \n",
              "4    20.2           122             86       32       39          0.82   \n",
              "..    ...           ...            ...      ...      ...           ...   \n",
              "385  25.2           150             90       35       40          0.88   \n",
              "386  37.5           144             88       41       48          0.85   \n",
              "387  21.7           218             90       31       41          0.76   \n",
              "388  24.0           170             82       35       38          0.92   \n",
              "389  39.7           160             82       51       51          1.00   \n",
              "\n",
              "        diabetes  \n",
              "0    No_diabetes  \n",
              "1    No_diabetes  \n",
              "2    No_diabetes  \n",
              "3    No_diabetes  \n",
              "4    No_diabetes  \n",
              "..           ...  \n",
              "385  No_diabetes  \n",
              "386     Diabetes  \n",
              "387  No_diabetes  \n",
              "388     Diabetes  \n",
              "389  No_diabetes  \n",
              "\n",
              "[390 rows x 15 columns]"
            ]
          },
          "execution_count": 4,
          "metadata": {},
          "output_type": "execute_result"
        }
      ],
      "source": [
        "df.drop(columns=['Unnamed: 0'], axis=1)"
      ]
    },
    {
      "cell_type": "code",
      "execution_count": null,
      "metadata": {
        "id": "sp_EchZrGd85"
      },
      "outputs": [],
      "source": [
        "df['genero'].replace(['female', 'male'], [1,0], inplace=True)"
      ]
    },
    {
      "cell_type": "code",
      "execution_count": null,
      "metadata": {
        "id": "1LhMDFQbGd86"
      },
      "outputs": [],
      "source": [
        "df['diabetes'].replace(['No_diabetes', 'Diabetes'], [0,1], inplace=True)"
      ]
    },
    {
      "cell_type": "code",
      "execution_count": null,
      "metadata": {
        "id": "Uq9mvmh4Gd87"
      },
      "outputs": [],
      "source": [
        "df_1 = df.drop(columns=['Unnamed: 0'], axis=1)"
      ]
    },
    {
      "cell_type": "code",
      "execution_count": null,
      "metadata": {
        "id": "wVb_mhuPGd87",
        "outputId": "10de06ee-b5b8-493a-e9f4-36b0e4996197"
      },
      "outputs": [
        {
          "name": "stderr",
          "output_type": "stream",
          "text": [
            "/var/folders/nv/mjpqhd9s64z2dqx5x8gq16d40000gn/T/ipykernel_6629/1853781666.py:3: UserWarning:\n",
            "\n",
            "To output multiple subplots, the figure containing the passed axes is being cleared\n",
            "\n"
          ]
        },
        {
          "data": {
            "text/plain": [
              "array([[<AxesSubplot:title={'center':'colesterol'}>,\n",
              "        <AxesSubplot:title={'center':'glucosa'}>,\n",
              "        <AxesSubplot:title={'center':'hdl_chol'}>,\n",
              "        <AxesSubplot:title={'center':'prop_col_hdl'}>],\n",
              "       [<AxesSubplot:title={'center':'edad'}>,\n",
              "        <AxesSubplot:title={'center':'genero'}>,\n",
              "        <AxesSubplot:title={'center':'altura'}>,\n",
              "        <AxesSubplot:title={'center':'peso'}>],\n",
              "       [<AxesSubplot:title={'center':'IMC'}>,\n",
              "        <AxesSubplot:title={'center':'ps_sistolica'}>,\n",
              "        <AxesSubplot:title={'center':'ps_diastolica'}>,\n",
              "        <AxesSubplot:title={'center':'cintura'}>],\n",
              "       [<AxesSubplot:title={'center':'caderas'}>,\n",
              "        <AxesSubplot:title={'center':'prop_cin_cad'}>,\n",
              "        <AxesSubplot:title={'center':'diabetes'}>, <AxesSubplot:>]],\n",
              "      dtype=object)"
            ]
          },
          "execution_count": 46,
          "metadata": {},
          "output_type": "execute_result"
        },
        {
          "data": {
            "image/png": "[encoded data removed]",
            "text/plain": [
              "<Figure size 1080x1440 with 16 Axes>"
            ]
          },
          "metadata": {
            "needs_background": "light"
          },
          "output_type": "display_data"
        }
      ],
      "source": [
        "fig = plt.figure(figsize = (15,20))\n",
        "ax = fig.gca()\n",
        "df_1.hist(ax = ax)"
      ]
    },
    {
      "cell_type": "code",
      "execution_count": null,
      "metadata": {
        "id": "zgfK3j-iGd88",
        "outputId": "a8dc24e6-dc5c-4ea5-d17c-0b858b32ae9f"
      },
      "outputs": [
        {
          "data": {
            "application/vnd.plotly.v1+json": {
              "config": {
                "plotlyServerURL": "https://plot.ly"
              },
              "data": [
                {
                  "domain": {
                    "x": [
                      0,
                      1
                    ],
                    "y": [
                      0,
                      1
                    ]
                  },
                  "hovertemplate": "genero=%{label}<br>glucosa=%{value}<extra></extra>",
                  "labels": [
                    1,
                    1,
                    1,
                    1,
                    1,
                    1,
                    1,
                    0,
                    0,
                    1,
                    0,
                    1,
                    1,
                    1,
                    0,
                    1,
                    0,
                    1,
                    1,
                    1,
                    1,
                    1,
                    1,
                    1,
                    0,
                    1,
                    0,
                    1,
                    0,
                    1,
                    1,
                    0,
                    1,
                    1,
                    0,
                    1,
                    0,
                    1,
                    0,
                    0,
                    0,
                    1,
                    1,
                    1,
                    1,
                    1,
                    0,
                    1,
                    0,
                    1,
                    1,
                    0,
                    0,
                    0,
                    1,
                    1,
                    1,
                    1,
                    0,
                    1,
                    1,
                    1,
                    1,
                    0,
                    1,
                    1,
                    1,
                    1,
                    0,
                    1,
                    1,
                    0,
                    0,
                    0,
                    1,
                    1,
                    1,
                    1,
                    1,
                    0,
                    1,
                    0,
                    1,
                    1,
                    1,
                    1,
                    0,
                    1,
                    1,
                    0,
                    1,
                    0,
                    1,
                    0,
                    1,
                    0,
                    0,
                    1,
                    1,
                    0,
                    0,
                    0,
                    0,
                    0,
                    0,
                    1,
                    0,
                    1,
                    0,
                    1,
                    1,
                    1,
                    0,
                    0,
                    0,
                    0,
                    0,
                    0,
                    0,
                    0,
                    1,
                    1,
                    1,
                    1,
                    0,
                    0,
                    0,
                    1,
                    1,
                    1,
                    1,
                    0,
                    1,
                    1,
                    1,
                    0,
                    1,
                    1,
                    0,
                    1,
                    1,
                    0,
                    1,
                    1,
                    1,
                    1,
                    0,
                    1,
                    1,
                    0,
                    0,
                    1,
                    1,
                    1,
                    0,
                    0,
                    1,
                    1,
                    0,
                    1,
                    0,
                    1,
                    1,
                    0,
                    1,
                    1,
                    1,
                    1,
                    0,
                    1,
                    0,
                    1,
                    1,
                    1,
                    1,
                    1,
                    1,
                    1,
                    1,
                    1,
                    0,
                    1,
                    1,
                    1,
                    1,
                    0,
                    1,
                    1,
                    1,
                    0,
                    0,
                    1,
                    1,
                    1,
                    1,
                    0,
                    0,
                    1,
                    1,
                    0,
                    1,
                    0,
                    0,
                    0,
                    1,
                    1,
                    1,
                    1,
                    0,
                    1,
                    0,
                    1,
                    1,
                    0,
                    1,
                    0,
                    0,
                    0,
                    1,
                    1,
                    0,
                    0,
                    1,
                    0,
                    1,
                    0,
                    1,
                    0,
                    1,
                    0,
                    1,
                    0,
                    0,
                    0,
                    0,
                    0,
                    1,
                    1,
                    1,
                    1,
                    1,
                    1,
                    1,
                    1,
                    0,
                    0,
                    0,
                    0,
                    1,
                    0,
                    1,
                    1,
                    1,
                    1,
                    1,
                    0,
                    0,
                    0,
                    0,
                    1,
                    1,
                    1,
                    1,
                    1,
                    0,
                    1,
                    1,
                    1,
                    0,
                    0,
                    0,
                    1,
                    0,
                    0,
                    0,
                    1,
                    1,
                    0,
                    0,
                    1,
                    0,
                    0,
                    0,
                    1,
                    1,
                    1,
                    1,
                    1,
                    0,
                    0,
                    0,
                    1,
                    1,
                    0,
                    1,
                    1,
                    1,
                    1,
                    0,
                    1,
                    1,
                    1,
                    1,
                    1,
                    0,
                    1,
                    0,
                    0,
                    0,
                    0,
                    1,
                    1,
                    0,
                    0,
                    0,
                    0,
                    1,
                    1,
                    1,
                    0,
                    1,
                    1,
                    1,
                    1,
                    0,
                    0,
                    0,
                    1,
                    1,
                    1,
                    1,
                    0,
                    0,
                    0,
                    1,
                    0,
                    1,
                    1,
                    0,
                    1,
                    0,
                    0,
                    0,
                    0,
                    0,
                    1,
                    0,
                    0,
                    1,
                    1,
                    1,
                    0,
                    0,
                    1,
                    1,
                    0,
                    1,
                    1,
                    0,
                    1,
                    1,
                    0,
                    0,
                    1,
                    0,
                    1,
                    1,
                    0,
                    0,
                    0,
                    0,
                    1,
                    0,
                    1,
                    0,
                    0,
                    1,
                    0,
                    1,
                    0,
                    0,
                    1,
                    1,
                    1,
                    0,
                    1,
                    1,
                    1,
                    1,
                    1
                  ],
                  "legendgroup": "",
                  "name": "",
                  "showlegend": true,
                  "type": "pie",
                  "values": [
                    77,
                    79,
                    75,
                    97,
                    91,
                    69,
                    77,
                    71,
                    112,
                    105,
                    105,
                    106,
                    99,
                    84,
                    88,
                    84,
                    89,
                    75,
                    76,
                    70,
                    81,
                    75,
                    81,
                    91,
                    86,
                    78,
                    91,
                    75,
                    76,
                    86,
                    66,
                    87,
                    101,
                    104,
                    98,
                    138,
                    58,
                    90,
                    83,
                    79,
                    60,
                    76,
                    100,
                    75,
                    92,
                    94,
                    100,
                    62,
                    77,
                    92,
                    94,
                    111,
                    74,
                    99,
                    69,
                    77,
                    96,
                    83,
                    77,
                    88,
                    69,
                    71,
                    97,
                    101,
                    269,
                    74,
                    82,
                    77,
                    81,
                    74,
                    84,
                    92,
                    75,
                    124,
                    69,
                    92,
                    83,
                    77,
                    89,
                    77,
                    85,
                    91,
                    155,
                    81,
                    85,
                    90,
                    101,
                    83,
                    87,
                    85,
                    82,
                    84,
                    93,
                    70,
                    65,
                    94,
                    88,
                    71,
                    85,
                    90,
                    86,
                    80,
                    85,
                    97,
                    126,
                    82,
                    83,
                    71,
                    76,
                    153,
                    92,
                    81,
                    74,
                    78,
                    85,
                    81,
                    197,
                    119,
                    75,
                    89,
                    64,
                    67,
                    52,
                    86,
                    85,
                    91,
                    87,
                    88,
                    130,
                    85,
                    90,
                    86,
                    81,
                    95,
                    128,
                    88,
                    90,
                    118,
                    155,
                    299,
                    83,
                    85,
                    56,
                    98,
                    103,
                    83,
                    72,
                    105,
                    76,
                    77,
                    92,
                    79,
                    92,
                    84,
                    74,
                    87,
                    85,
                    133,
                    78,
                    112,
                    79,
                    64,
                    80,
                    84,
                    84,
                    76,
                    86,
                    106,
                    59,
                    73,
                    73,
                    101,
                    77,
                    81,
                    101,
                    81,
                    122,
                    84,
                    74,
                    85,
                    76,
                    87,
                    84,
                    100,
                    109,
                    120,
                    87,
                    84,
                    228,
                    84,
                    101,
                    101,
                    67,
                    87,
                    187,
                    71,
                    80,
                    109,
                    92,
                    87,
                    83,
                    155,
                    130,
                    107,
                    82,
                    102,
                    108,
                    81,
                    65,
                    95,
                    82,
                    90,
                    120,
                    225,
                    117,
                    74,
                    105,
                    85,
                    87,
                    81,
                    89,
                    87,
                    75,
                    196,
                    233,
                    91,
                    78,
                    115,
                    67,
                    115,
                    88,
                    173,
                    91,
                    255,
                    385,
                    85,
                    89,
                    82,
                    81,
                    79,
                    110,
                    182,
                    185,
                    68,
                    97,
                    83,
                    85,
                    83,
                    101,
                    57,
                    120,
                    78,
                    94,
                    74,
                    84,
                    297,
                    369,
                    76,
                    87,
                    79,
                    96,
                    193,
                    103,
                    94,
                    93,
                    74,
                    89,
                    122,
                    236,
                    95,
                    110,
                    173,
                    206,
                    81,
                    80,
                    176,
                    92,
                    85,
                    106,
                    94,
                    48,
                    239,
                    113,
                    97,
                    126,
                    95,
                    248,
                    108,
                    112,
                    267,
                    92,
                    56,
                    82,
                    102,
                    119,
                    90,
                    270,
                    270,
                    223,
                    90,
                    91,
                    103,
                    94,
                    85,
                    86,
                    225,
                    330,
                    128,
                    95,
                    102,
                    109,
                    206,
                    92,
                    54,
                    80,
                    82,
                    87,
                    95,
                    88,
                    91,
                    145,
                    119,
                    251,
                    81,
                    100,
                    177,
                    90,
                    197,
                    106,
                    95,
                    97,
                    67,
                    172,
                    341,
                    82,
                    76,
                    92,
                    120,
                    174,
                    104,
                    173,
                    93,
                    85,
                    125,
                    121,
                    118,
                    371,
                    77,
                    111,
                    68,
                    74,
                    97,
                    206,
                    111,
                    70,
                    85,
                    115,
                    203,
                    120,
                    83,
                    76,
                    71,
                    106,
                    118,
                    92,
                    88,
                    262,
                    79,
                    342,
                    100,
                    82,
                    131,
                    112,
                    113,
                    80,
                    81,
                    98,
                    171,
                    91,
                    235,
                    92,
                    161,
                    121,
                    88,
                    112,
                    105,
                    279,
                    90,
                    184,
                    94
                  ]
                }
              ],
              "layout": {
                "legend": {
                  "tracegroupgap": 0
                },
                "margin": {
                  "t": 60
                },
                "template": {
                  "data": {
                    "bar": [
                      {
                        "error_x": {
                          "color": "#2a3f5f"
                        },
                        "error_y": {
                          "color": "#2a3f5f"
                        },
                        "marker": {
                          "line": {
                            "color": "#E5ECF6",
                            "width": 0.5
                          },
                          "pattern": {
                            "fillmode": "overlay",
                            "size": 10,
                            "solidity": 0.2
                          }
                        },
                        "type": "bar"
                      }
                    ],
                    "barpolar": [
                      {
                        "marker": {
                          "line": {
                            "color": "#E5ECF6",
                            "width": 0.5
                          },
                          "pattern": {
                            "fillmode": "overlay",
                            "size": 10,
                            "solidity": 0.2
                          }
                        },
                        "type": "barpolar"
                      }
                    ],
                    "carpet": [
                      {
                        "aaxis": {
                          "endlinecolor": "#2a3f5f",
                          "gridcolor": "white",
                          "linecolor": "white",
                          "minorgridcolor": "white",
                          "startlinecolor": "#2a3f5f"
                        },
                        "baxis": {
                          "endlinecolor": "#2a3f5f",
                          "gridcolor": "white",
                          "linecolor": "white",
                          "minorgridcolor": "white",
                          "startlinecolor": "#2a3f5f"
                        },
                        "type": "carpet"
                      }
                    ],
                    "choropleth": [
                      {
                        "colorbar": {
                          "outlinewidth": 0,
                          "ticks": ""
                        },
                        "type": "choropleth"
                      }
                    ],
                    "contour": [
                      {
                        "colorbar": {
                          "outlinewidth": 0,
                          "ticks": ""
                        },
                        "colorscale": [
                          [
                            0,
                            "#0d0887"
                          ],
                          [
                            0.1111111111111111,
                            "#46039f"
                          ],
                          [
                            0.2222222222222222,
                            "#7201a8"
                          ],
                          [
                            0.3333333333333333,
                            "#9c179e"
                          ],
                          [
                            0.4444444444444444,
                            "#bd3786"
                          ],
                          [
                            0.5555555555555556,
                            "#d8576b"
                          ],
                          [
                            0.6666666666666666,
                            "#ed7953"
                          ],
                          [
                            0.7777777777777778,
                            "#fb9f3a"
                          ],
                          [
                            0.8888888888888888,
                            "#fdca26"
                          ],
                          [
                            1,
                            "#f0f921"
                          ]
                        ],
                        "type": "contour"
                      }
                    ],
                    "contourcarpet": [
                      {
                        "colorbar": {
                          "outlinewidth": 0,
                          "ticks": ""
                        },
                        "type": "contourcarpet"
                      }
                    ],
                    "heatmap": [
                      {
                        "colorbar": {
                          "outlinewidth": 0,
                          "ticks": ""
                        },
                        "colorscale": [
                          [
                            0,
                            "#0d0887"
                          ],
                          [
                            0.1111111111111111,
                            "#46039f"
                          ],
                          [
                            0.2222222222222222,
                            "#7201a8"
                          ],
                          [
                            0.3333333333333333,
                            "#9c179e"
                          ],
                          [
                            0.4444444444444444,
                            "#bd3786"
                          ],
                          [
                            0.5555555555555556,
                            "#d8576b"
                          ],
                          [
                            0.6666666666666666,
                            "#ed7953"
                          ],
                          [
                            0.7777777777777778,
                            "#fb9f3a"
                          ],
                          [
                            0.8888888888888888,
                            "#fdca26"
                          ],
                          [
                            1,
                            "#f0f921"
                          ]
                        ],
                        "type": "heatmap"
                      }
                    ],
                    "heatmapgl": [
                      {
                        "colorbar": {
                          "outlinewidth": 0,
                          "ticks": ""
                        },
                        "colorscale": [
                          [
                            0,
                            "#0d0887"
                          ],
                          [
                            0.1111111111111111,
                            "#46039f"
                          ],
                          [
                            0.2222222222222222,
                            "#7201a8"
                          ],
                          [
                            0.3333333333333333,
                            "#9c179e"
                          ],
                          [
                            0.4444444444444444,
                            "#bd3786"
                          ],
                          [
                            0.5555555555555556,
                            "#d8576b"
                          ],
                          [
                            0.6666666666666666,
                            "#ed7953"
                          ],
                          [
                            0.7777777777777778,
                            "#fb9f3a"
                          ],
                          [
                            0.8888888888888888,
                            "#fdca26"
                          ],
                          [
                            1,
                            "#f0f921"
                          ]
                        ],
                        "type": "heatmapgl"
                      }
                    ],
                    "histogram": [
                      {
                        "marker": {
                          "pattern": {
                            "fillmode": "overlay",
                            "size": 10,
                            "solidity": 0.2
                          }
                        },
                        "type": "histogram"
                      }
                    ],
                    "histogram2d": [
                      {
                        "colorbar": {
                          "outlinewidth": 0,
                          "ticks": ""
                        },
                        "colorscale": [
                          [
                            0,
                            "#0d0887"
                          ],
                          [
                            0.1111111111111111,
                            "#46039f"
                          ],
                          [
                            0.2222222222222222,
                            "#7201a8"
                          ],
                          [
                            0.3333333333333333,
                            "#9c179e"
                          ],
                          [
                            0.4444444444444444,
                            "#bd3786"
                          ],
                          [
                            0.5555555555555556,
                            "#d8576b"
                          ],
                          [
                            0.6666666666666666,
                            "#ed7953"
                          ],
                          [
                            0.7777777777777778,
                            "#fb9f3a"
                          ],
                          [
                            0.8888888888888888,
                            "#fdca26"
                          ],
                          [
                            1,
                            "#f0f921"
                          ]
                        ],
                        "type": "histogram2d"
                      }
                    ],
                    "histogram2dcontour": [
                      {
                        "colorbar": {
                          "outlinewidth": 0,
                          "ticks": ""
                        },
                        "colorscale": [
                          [
                            0,
                            "#0d0887"
                          ],
                          [
                            0.1111111111111111,
                            "#46039f"
                          ],
                          [
                            0.2222222222222222,
                            "#7201a8"
                          ],
                          [
                            0.3333333333333333,
                            "#9c179e"
                          ],
                          [
                            0.4444444444444444,
                            "#bd3786"
                          ],
                          [
                            0.5555555555555556,
                            "#d8576b"
                          ],
                          [
                            0.6666666666666666,
                            "#ed7953"
                          ],
                          [
                            0.7777777777777778,
                            "#fb9f3a"
                          ],
                          [
                            0.8888888888888888,
                            "#fdca26"
                          ],
                          [
                            1,
                            "#f0f921"
                          ]
                        ],
                        "type": "histogram2dcontour"
                      }
                    ],
                    "mesh3d": [
                      {
                        "colorbar": {
                          "outlinewidth": 0,
                          "ticks": ""
                        },
                        "type": "mesh3d"
                      }
                    ],
                    "parcoords": [
                      {
                        "line": {
                          "colorbar": {
                            "outlinewidth": 0,
                            "ticks": ""
                          }
                        },
                        "type": "parcoords"
                      }
                    ],
                    "pie": [
                      {
                        "automargin": true,
                        "type": "pie"
                      }
                    ],
                    "scatter": [
                      {
                        "marker": {
                          "colorbar": {
                            "outlinewidth": 0,
                            "ticks": ""
                          }
                        },
                        "type": "scatter"
                      }
                    ],
                    "scatter3d": [
                      {
                        "line": {
                          "colorbar": {
                            "outlinewidth": 0,
                            "ticks": ""
                          }
                        },
                        "marker": {
                          "colorbar": {
                            "outlinewidth": 0,
                            "ticks": ""
                          }
                        },
                        "type": "scatter3d"
                      }
                    ],
                    "scattercarpet": [
                      {
                        "marker": {
                          "colorbar": {
                            "outlinewidth": 0,
                            "ticks": ""
                          }
                        },
                        "type": "scattercarpet"
                      }
                    ],
                    "scattergeo": [
                      {
                        "marker": {
                          "colorbar": {
                            "outlinewidth": 0,
                            "ticks": ""
                          }
                        },
                        "type": "scattergeo"
                      }
                    ],
                    "scattergl": [
                      {
                        "marker": {
                          "colorbar": {
                            "outlinewidth": 0,
                            "ticks": ""
                          }
                        },
                        "type": "scattergl"
                      }
                    ],
                    "scattermapbox": [
                      {
                        "marker": {
                          "colorbar": {
                            "outlinewidth": 0,
                            "ticks": ""
                          }
                        },
                        "type": "scattermapbox"
                      }
                    ],
                    "scatterpolar": [
                      {
                        "marker": {
                          "colorbar": {
                            "outlinewidth": 0,
                            "ticks": ""
                          }
                        },
                        "type": "scatterpolar"
                      }
                    ],
                    "scatterpolargl": [
                      {
                        "marker": {
                          "colorbar": {
                            "outlinewidth": 0,
                            "ticks": ""
                          }
                        },
                        "type": "scatterpolargl"
                      }
                    ],
                    "scatterternary": [
                      {
                        "marker": {
                          "colorbar": {
                            "outlinewidth": 0,
                            "ticks": ""
                          }
                        },
                        "type": "scatterternary"
                      }
                    ],
                    "surface": [
                      {
                        "colorbar": {
                          "outlinewidth": 0,
                          "ticks": ""
                        },
                        "colorscale": [
                          [
                            0,
                            "#0d0887"
                          ],
                          [
                            0.1111111111111111,
                            "#46039f"
                          ],
                          [
                            0.2222222222222222,
                            "#7201a8"
                          ],
                          [
                            0.3333333333333333,
                            "#9c179e"
                          ],
                          [
                            0.4444444444444444,
                            "#bd3786"
                          ],
                          [
                            0.5555555555555556,
                            "#d8576b"
                          ],
                          [
                            0.6666666666666666,
                            "#ed7953"
                          ],
                          [
                            0.7777777777777778,
                            "#fb9f3a"
                          ],
                          [
                            0.8888888888888888,
                            "#fdca26"
                          ],
                          [
                            1,
                            "#f0f921"
                          ]
                        ],
                        "type": "surface"
                      }
                    ],
                    "table": [
                      {
                        "cells": {
                          "fill": {
                            "color": "#EBF0F8"
                          },
                          "line": {
                            "color": "white"
                          }
                        },
                        "header": {
                          "fill": {
                            "color": "#C8D4E3"
                          },
                          "line": {
                            "color": "white"
                          }
                        },
                        "type": "table"
                      }
                    ]
                  },
                  "layout": {
                    "annotationdefaults": {
                      "arrowcolor": "#2a3f5f",
                      "arrowhead": 0,
                      "arrowwidth": 1
                    },
                    "autotypenumbers": "strict",
                    "coloraxis": {
                      "colorbar": {
                        "outlinewidth": 0,
                        "ticks": ""
                      }
                    },
                    "colorscale": {
                      "diverging": [
                        [
                          0,
                          "#8e0152"
                        ],
                        [
                          0.1,
                          "#c51b7d"
                        ],
                        [
                          0.2,
                          "#de77ae"
                        ],
                        [
                          0.3,
                          "#f1b6da"
                        ],
                        [
                          0.4,
                          "#fde0ef"
                        ],
                        [
                          0.5,
                          "#f7f7f7"
                        ],
                        [
                          0.6,
                          "#e6f5d0"
                        ],
                        [
                          0.7,
                          "#b8e186"
                        ],
                        [
                          0.8,
                          "#7fbc41"
                        ],
                        [
                          0.9,
                          "#4d9221"
                        ],
                        [
                          1,
                          "#276419"
                        ]
                      ],
                      "sequential": [
                        [
                          0,
                          "#0d0887"
                        ],
                        [
                          0.1111111111111111,
                          "#46039f"
                        ],
                        [
                          0.2222222222222222,
                          "#7201a8"
                        ],
                        [
                          0.3333333333333333,
                          "#9c179e"
                        ],
                        [
                          0.4444444444444444,
                          "#bd3786"
                        ],
                        [
                          0.5555555555555556,
                          "#d8576b"
                        ],
                        [
                          0.6666666666666666,
                          "#ed7953"
                        ],
                        [
                          0.7777777777777778,
                          "#fb9f3a"
                        ],
                        [
                          0.8888888888888888,
                          "#fdca26"
                        ],
                        [
                          1,
                          "#f0f921"
                        ]
                      ],
                      "sequentialminus": [
                        [
                          0,
                          "#0d0887"
                        ],
                        [
                          0.1111111111111111,
                          "#46039f"
                        ],
                        [
                          0.2222222222222222,
                          "#7201a8"
                        ],
                        [
                          0.3333333333333333,
                          "#9c179e"
                        ],
                        [
                          0.4444444444444444,
                          "#bd3786"
                        ],
                        [
                          0.5555555555555556,
                          "#d8576b"
                        ],
                        [
                          0.6666666666666666,
                          "#ed7953"
                        ],
                        [
                          0.7777777777777778,
                          "#fb9f3a"
                        ],
                        [
                          0.8888888888888888,
                          "#fdca26"
                        ],
                        [
                          1,
                          "#f0f921"
                        ]
                      ]
                    },
                    "colorway": [
                      "#636efa",
                      "#EF553B",
                      "#00cc96",
                      "#ab63fa",
                      "#FFA15A",
                      "#19d3f3",
                      "#FF6692",
                      "#B6E880",
                      "#FF97FF",
                      "#FECB52"
                    ],
                    "font": {
                      "color": "#2a3f5f"
                    },
                    "geo": {
                      "bgcolor": "white",
                      "lakecolor": "white",
                      "landcolor": "#E5ECF6",
                      "showlakes": true,
                      "showland": true,
                      "subunitcolor": "white"
                    },
                    "hoverlabel": {
                      "align": "left"
                    },
                    "hovermode": "closest",
                    "mapbox": {
                      "style": "light"
                    },
                    "paper_bgcolor": "white",
                    "plot_bgcolor": "#E5ECF6",
                    "polar": {
                      "angularaxis": {
                        "gridcolor": "white",
                        "linecolor": "white",
                        "ticks": ""
                      },
                      "bgcolor": "#E5ECF6",
                      "radialaxis": {
                        "gridcolor": "white",
                        "linecolor": "white",
                        "ticks": ""
                      }
                    },
                    "scene": {
                      "xaxis": {
                        "backgroundcolor": "#E5ECF6",
                        "gridcolor": "white",
                        "gridwidth": 2,
                        "linecolor": "white",
                        "showbackground": true,
                        "ticks": "",
                        "zerolinecolor": "white"
                      },
                      "yaxis": {
                        "backgroundcolor": "#E5ECF6",
                        "gridcolor": "white",
                        "gridwidth": 2,
                        "linecolor": "white",
                        "showbackground": true,
                        "ticks": "",
                        "zerolinecolor": "white"
                      },
                      "zaxis": {
                        "backgroundcolor": "#E5ECF6",
                        "gridcolor": "white",
                        "gridwidth": 2,
                        "linecolor": "white",
                        "showbackground": true,
                        "ticks": "",
                        "zerolinecolor": "white"
                      }
                    },
                    "shapedefaults": {
                      "line": {
                        "color": "#2a3f5f"
                      }
                    },
                    "ternary": {
                      "aaxis": {
                        "gridcolor": "white",
                        "linecolor": "white",
                        "ticks": ""
                      },
                      "baxis": {
                        "gridcolor": "white",
                        "linecolor": "white",
                        "ticks": ""
                      },
                      "bgcolor": "#E5ECF6",
                      "caxis": {
                        "gridcolor": "white",
                        "linecolor": "white",
                        "ticks": ""
                      }
                    },
                    "title": {
                      "x": 0.05
                    },
                    "xaxis": {
                      "automargin": true,
                      "gridcolor": "white",
                      "linecolor": "white",
                      "ticks": "",
                      "title": {
                        "standoff": 15
                      },
                      "zerolinecolor": "white",
                      "zerolinewidth": 2
                    },
                    "yaxis": {
                      "automargin": true,
                      "gridcolor": "white",
                      "linecolor": "white",
                      "ticks": "",
                      "title": {
                        "standoff": 15
                      },
                      "zerolinecolor": "white",
                      "zerolinewidth": 2
                    }
                  }
                }
              }
            }
          },
          "metadata": {},
          "output_type": "display_data"
        }
      ],
      "source": [
        "fig = px.pie(df, values=\"glucosa\", names=\"genero\")\n",
        "fig.show()"
      ]
    },
    {
      "cell_type": "code",
      "execution_count": null,
      "metadata": {
        "id": "s1rUmiNGGd9F",
        "outputId": "29baf459-dd0b-43d6-c663-36e855042c5e"
      },
      "outputs": [
        {
          "data": {
            "text/html": [
              "<div>\n",
              "<style scoped>\n",
              "    .dataframe tbody tr th:only-of-type {\n",
              "        vertical-align: middle;\n",
              "    }\n",
              "\n",
              "    .dataframe tbody tr th {\n",
              "        vertical-align: top;\n",
              "    }\n",
              "\n",
              "    .dataframe thead th {\n",
              "        text-align: right;\n",
              "    }\n",
              "</style>\n",
              "<table border=\"1\" class=\"dataframe\">\n",
              "  <thead>\n",
              "    <tr style=\"text-align: right;\">\n",
              "      <th></th>\n",
              "      <th>colesterol</th>\n",
              "      <th>glucosa</th>\n",
              "      <th>hdl_chol</th>\n",
              "      <th>prop_col_hdl</th>\n",
              "      <th>edad</th>\n",
              "      <th>genero</th>\n",
              "      <th>altura</th>\n",
              "      <th>peso</th>\n",
              "      <th>IMC</th>\n",
              "      <th>ps_sistolica</th>\n",
              "      <th>ps_diastolica</th>\n",
              "      <th>cintura</th>\n",
              "      <th>caderas</th>\n",
              "      <th>prop_cin_cad</th>\n",
              "      <th>diabetes</th>\n",
              "    </tr>\n",
              "  </thead>\n",
              "  <tbody>\n",
              "    <tr>\n",
              "      <th>count</th>\n",
              "      <td>390.000000</td>\n",
              "      <td>390.000000</td>\n",
              "      <td>390.000000</td>\n",
              "      <td>390.000000</td>\n",
              "      <td>390.000000</td>\n",
              "      <td>390.000000</td>\n",
              "      <td>390.000000</td>\n",
              "      <td>390.000000</td>\n",
              "      <td>390.000000</td>\n",
              "      <td>390.000000</td>\n",
              "      <td>390.000000</td>\n",
              "      <td>390.000000</td>\n",
              "      <td>390.000000</td>\n",
              "      <td>390.000000</td>\n",
              "      <td>390.000000</td>\n",
              "    </tr>\n",
              "    <tr>\n",
              "      <th>mean</th>\n",
              "      <td>207.230769</td>\n",
              "      <td>107.338462</td>\n",
              "      <td>50.266667</td>\n",
              "      <td>4.524615</td>\n",
              "      <td>46.774359</td>\n",
              "      <td>0.584615</td>\n",
              "      <td>65.951282</td>\n",
              "      <td>177.407692</td>\n",
              "      <td>28.775641</td>\n",
              "      <td>137.133333</td>\n",
              "      <td>83.289744</td>\n",
              "      <td>37.869231</td>\n",
              "      <td>42.992308</td>\n",
              "      <td>0.881385</td>\n",
              "      <td>0.153846</td>\n",
              "    </tr>\n",
              "    <tr>\n",
              "      <th>std</th>\n",
              "      <td>44.666005</td>\n",
              "      <td>53.798188</td>\n",
              "      <td>17.279069</td>\n",
              "      <td>1.736634</td>\n",
              "      <td>16.435911</td>\n",
              "      <td>0.493421</td>\n",
              "      <td>3.918867</td>\n",
              "      <td>40.407824</td>\n",
              "      <td>6.600915</td>\n",
              "      <td>22.859528</td>\n",
              "      <td>13.498192</td>\n",
              "      <td>5.760947</td>\n",
              "      <td>5.664342</td>\n",
              "      <td>0.073212</td>\n",
              "      <td>0.361265</td>\n",
              "    </tr>\n",
              "    <tr>\n",
              "      <th>min</th>\n",
              "      <td>78.000000</td>\n",
              "      <td>48.000000</td>\n",
              "      <td>12.000000</td>\n",
              "      <td>1.500000</td>\n",
              "      <td>19.000000</td>\n",
              "      <td>0.000000</td>\n",
              "      <td>52.000000</td>\n",
              "      <td>99.000000</td>\n",
              "      <td>15.200000</td>\n",
              "      <td>90.000000</td>\n",
              "      <td>48.000000</td>\n",
              "      <td>26.000000</td>\n",
              "      <td>30.000000</td>\n",
              "      <td>0.680000</td>\n",
              "      <td>0.000000</td>\n",
              "    </tr>\n",
              "    <tr>\n",
              "      <th>25%</th>\n",
              "      <td>179.000000</td>\n",
              "      <td>81.000000</td>\n",
              "      <td>38.000000</td>\n",
              "      <td>3.200000</td>\n",
              "      <td>34.000000</td>\n",
              "      <td>0.000000</td>\n",
              "      <td>63.000000</td>\n",
              "      <td>150.250000</td>\n",
              "      <td>24.100000</td>\n",
              "      <td>122.000000</td>\n",
              "      <td>75.000000</td>\n",
              "      <td>33.000000</td>\n",
              "      <td>39.000000</td>\n",
              "      <td>0.830000</td>\n",
              "      <td>0.000000</td>\n",
              "    </tr>\n",
              "    <tr>\n",
              "      <th>50%</th>\n",
              "      <td>203.000000</td>\n",
              "      <td>90.000000</td>\n",
              "      <td>46.000000</td>\n",
              "      <td>4.200000</td>\n",
              "      <td>44.500000</td>\n",
              "      <td>1.000000</td>\n",
              "      <td>66.000000</td>\n",
              "      <td>173.000000</td>\n",
              "      <td>27.800000</td>\n",
              "      <td>136.000000</td>\n",
              "      <td>82.000000</td>\n",
              "      <td>37.000000</td>\n",
              "      <td>42.000000</td>\n",
              "      <td>0.880000</td>\n",
              "      <td>0.000000</td>\n",
              "    </tr>\n",
              "    <tr>\n",
              "      <th>75%</th>\n",
              "      <td>229.000000</td>\n",
              "      <td>107.750000</td>\n",
              "      <td>59.000000</td>\n",
              "      <td>5.400000</td>\n",
              "      <td>60.000000</td>\n",
              "      <td>1.000000</td>\n",
              "      <td>69.000000</td>\n",
              "      <td>200.000000</td>\n",
              "      <td>32.275000</td>\n",
              "      <td>148.000000</td>\n",
              "      <td>90.000000</td>\n",
              "      <td>41.000000</td>\n",
              "      <td>46.000000</td>\n",
              "      <td>0.930000</td>\n",
              "      <td>0.000000</td>\n",
              "    </tr>\n",
              "    <tr>\n",
              "      <th>max</th>\n",
              "      <td>443.000000</td>\n",
              "      <td>385.000000</td>\n",
              "      <td>120.000000</td>\n",
              "      <td>19.300000</td>\n",
              "      <td>92.000000</td>\n",
              "      <td>1.000000</td>\n",
              "      <td>76.000000</td>\n",
              "      <td>325.000000</td>\n",
              "      <td>55.800000</td>\n",
              "      <td>250.000000</td>\n",
              "      <td>124.000000</td>\n",
              "      <td>56.000000</td>\n",
              "      <td>64.000000</td>\n",
              "      <td>1.140000</td>\n",
              "      <td>1.000000</td>\n",
              "    </tr>\n",
              "  </tbody>\n",
              "</table>\n",
              "</div>"
            ],
            "text/plain": [
              "       colesterol     glucosa    hdl_chol  prop_col_hdl        edad  \\\n",
              "count  390.000000  390.000000  390.000000    390.000000  390.000000   \n",
              "mean   207.230769  107.338462   50.266667      4.524615   46.774359   \n",
              "std     44.666005   53.798188   17.279069      1.736634   16.435911   \n",
              "min     78.000000   48.000000   12.000000      1.500000   19.000000   \n",
              "25%    179.000000   81.000000   38.000000      3.200000   34.000000   \n",
              "50%    203.000000   90.000000   46.000000      4.200000   44.500000   \n",
              "75%    229.000000  107.750000   59.000000      5.400000   60.000000   \n",
              "max    443.000000  385.000000  120.000000     19.300000   92.000000   \n",
              "\n",
              "           genero      altura        peso         IMC  ps_sistolica  \\\n",
              "count  390.000000  390.000000  390.000000  390.000000    390.000000   \n",
              "mean     0.584615   65.951282  177.407692   28.775641    137.133333   \n",
              "std      0.493421    3.918867   40.407824    6.600915     22.859528   \n",
              "min      0.000000   52.000000   99.000000   15.200000     90.000000   \n",
              "25%      0.000000   63.000000  150.250000   24.100000    122.000000   \n",
              "50%      1.000000   66.000000  173.000000   27.800000    136.000000   \n",
              "75%      1.000000   69.000000  200.000000   32.275000    148.000000   \n",
              "max      1.000000   76.000000  325.000000   55.800000    250.000000   \n",
              "\n",
              "       ps_diastolica     cintura     caderas  prop_cin_cad    diabetes  \n",
              "count     390.000000  390.000000  390.000000    390.000000  390.000000  \n",
              "mean       83.289744   37.869231   42.992308      0.881385    0.153846  \n",
              "std        13.498192    5.760947    5.664342      0.073212    0.361265  \n",
              "min        48.000000   26.000000   30.000000      0.680000    0.000000  \n",
              "25%        75.000000   33.000000   39.000000      0.830000    0.000000  \n",
              "50%        82.000000   37.000000   42.000000      0.880000    0.000000  \n",
              "75%        90.000000   41.000000   46.000000      0.930000    0.000000  \n",
              "max       124.000000   56.000000   64.000000      1.140000    1.000000  "
            ]
          },
          "execution_count": 47,
          "metadata": {},
          "output_type": "execute_result"
        }
      ],
      "source": [
        "df_1.describe()"
      ]
    },
    {
      "cell_type": "code",
      "execution_count": null,
      "metadata": {
        "id": "8ANzxAKvGd9G",
        "outputId": "f0538934-2df7-43c9-c465-136444a0a269"
      },
      "outputs": [
        {
          "data": {
            "text/html": [
              "<div>\n",
              "<style scoped>\n",
              "    .dataframe tbody tr th:only-of-type {\n",
              "        vertical-align: middle;\n",
              "    }\n",
              "\n",
              "    .dataframe tbody tr th {\n",
              "        vertical-align: top;\n",
              "    }\n",
              "\n",
              "    .dataframe thead th {\n",
              "        text-align: right;\n",
              "    }\n",
              "</style>\n",
              "<table border=\"1\" class=\"dataframe\">\n",
              "  <thead>\n",
              "    <tr style=\"text-align: right;\">\n",
              "      <th></th>\n",
              "      <th>colesterol</th>\n",
              "      <th>glucosa</th>\n",
              "      <th>hdl_chol</th>\n",
              "      <th>prop_col_hdl</th>\n",
              "      <th>edad</th>\n",
              "      <th>genero</th>\n",
              "      <th>altura</th>\n",
              "      <th>peso</th>\n",
              "      <th>IMC</th>\n",
              "      <th>ps_sistolica</th>\n",
              "      <th>ps_diastolica</th>\n",
              "      <th>cintura</th>\n",
              "      <th>caderas</th>\n",
              "      <th>prop_cin_cad</th>\n",
              "      <th>diabetes</th>\n",
              "    </tr>\n",
              "  </thead>\n",
              "  <tbody>\n",
              "    <tr>\n",
              "      <th>colesterol</th>\n",
              "      <td>1.000000</td>\n",
              "      <td>0.158102</td>\n",
              "      <td>0.193162</td>\n",
              "      <td>0.475927</td>\n",
              "      <td>0.247333</td>\n",
              "      <td>0.030139</td>\n",
              "      <td>-0.063601</td>\n",
              "      <td>0.062359</td>\n",
              "      <td>0.091695</td>\n",
              "      <td>0.207741</td>\n",
              "      <td>0.166241</td>\n",
              "      <td>0.134038</td>\n",
              "      <td>0.093364</td>\n",
              "      <td>0.091847</td>\n",
              "      <td>0.204262</td>\n",
              "    </tr>\n",
              "    <tr>\n",
              "      <th>glucosa</th>\n",
              "      <td>0.158102</td>\n",
              "      <td>1.000000</td>\n",
              "      <td>-0.158302</td>\n",
              "      <td>0.282210</td>\n",
              "      <td>0.294392</td>\n",
              "      <td>-0.093372</td>\n",
              "      <td>0.098052</td>\n",
              "      <td>0.190358</td>\n",
              "      <td>0.129286</td>\n",
              "      <td>0.162777</td>\n",
              "      <td>0.020262</td>\n",
              "      <td>0.222336</td>\n",
              "      <td>0.138223</td>\n",
              "      <td>0.185117</td>\n",
              "      <td>0.689080</td>\n",
              "    </tr>\n",
              "    <tr>\n",
              "      <th>hdl_chol</th>\n",
              "      <td>0.193162</td>\n",
              "      <td>-0.158302</td>\n",
              "      <td>1.000000</td>\n",
              "      <td>-0.681867</td>\n",
              "      <td>0.028210</td>\n",
              "      <td>0.108305</td>\n",
              "      <td>-0.087238</td>\n",
              "      <td>-0.291883</td>\n",
              "      <td>-0.241860</td>\n",
              "      <td>0.031807</td>\n",
              "      <td>0.078342</td>\n",
              "      <td>-0.276697</td>\n",
              "      <td>-0.223837</td>\n",
              "      <td>-0.158777</td>\n",
              "      <td>-0.123133</td>\n",
              "    </tr>\n",
              "    <tr>\n",
              "      <th>prop_col_hdl</th>\n",
              "      <td>0.475927</td>\n",
              "      <td>0.282210</td>\n",
              "      <td>-0.681867</td>\n",
              "      <td>1.000000</td>\n",
              "      <td>0.163201</td>\n",
              "      <td>-0.102938</td>\n",
              "      <td>0.081162</td>\n",
              "      <td>0.278812</td>\n",
              "      <td>0.228407</td>\n",
              "      <td>0.115505</td>\n",
              "      <td>0.038242</td>\n",
              "      <td>0.313262</td>\n",
              "      <td>0.208902</td>\n",
              "      <td>0.243329</td>\n",
              "      <td>0.272987</td>\n",
              "    </tr>\n",
              "    <tr>\n",
              "      <th>edad</th>\n",
              "      <td>0.247333</td>\n",
              "      <td>0.294392</td>\n",
              "      <td>0.028210</td>\n",
              "      <td>0.163201</td>\n",
              "      <td>1.000000</td>\n",
              "      <td>-0.084177</td>\n",
              "      <td>-0.082229</td>\n",
              "      <td>-0.056784</td>\n",
              "      <td>-0.009164</td>\n",
              "      <td>0.453417</td>\n",
              "      <td>0.068649</td>\n",
              "      <td>0.150585</td>\n",
              "      <td>0.004675</td>\n",
              "      <td>0.275188</td>\n",
              "      <td>0.301995</td>\n",
              "    </tr>\n",
              "    <tr>\n",
              "      <th>genero</th>\n",
              "      <td>0.030139</td>\n",
              "      <td>-0.093372</td>\n",
              "      <td>0.108305</td>\n",
              "      <td>-0.102938</td>\n",
              "      <td>-0.084177</td>\n",
              "      <td>1.000000</td>\n",
              "      <td>-0.677876</td>\n",
              "      <td>-0.092053</td>\n",
              "      <td>0.254189</td>\n",
              "      <td>-0.035417</td>\n",
              "      <td>-0.071043</td>\n",
              "      <td>0.045955</td>\n",
              "      <td>0.272028</td>\n",
              "      <td>-0.346253</td>\n",
              "      <td>-0.015531</td>\n",
              "    </tr>\n",
              "    <tr>\n",
              "      <th>altura</th>\n",
              "      <td>-0.063601</td>\n",
              "      <td>0.098052</td>\n",
              "      <td>-0.087238</td>\n",
              "      <td>0.081162</td>\n",
              "      <td>-0.082229</td>\n",
              "      <td>-0.677876</td>\n",
              "      <td>1.000000</td>\n",
              "      <td>0.255389</td>\n",
              "      <td>-0.259589</td>\n",
              "      <td>-0.040704</td>\n",
              "      <td>0.043617</td>\n",
              "      <td>0.057447</td>\n",
              "      <td>-0.095906</td>\n",
              "      <td>0.252548</td>\n",
              "      <td>0.023466</td>\n",
              "    </tr>\n",
              "    <tr>\n",
              "      <th>peso</th>\n",
              "      <td>0.062359</td>\n",
              "      <td>0.190358</td>\n",
              "      <td>-0.291883</td>\n",
              "      <td>0.278812</td>\n",
              "      <td>-0.056784</td>\n",
              "      <td>-0.092053</td>\n",
              "      <td>0.255389</td>\n",
              "      <td>1.000000</td>\n",
              "      <td>0.860147</td>\n",
              "      <td>0.097497</td>\n",
              "      <td>0.166477</td>\n",
              "      <td>0.847766</td>\n",
              "      <td>0.826985</td>\n",
              "      <td>0.250461</td>\n",
              "      <td>0.162987</td>\n",
              "    </tr>\n",
              "    <tr>\n",
              "      <th>IMC</th>\n",
              "      <td>0.091695</td>\n",
              "      <td>0.129286</td>\n",
              "      <td>-0.241860</td>\n",
              "      <td>0.228407</td>\n",
              "      <td>-0.009164</td>\n",
              "      <td>0.254189</td>\n",
              "      <td>-0.259589</td>\n",
              "      <td>0.860147</td>\n",
              "      <td>1.000000</td>\n",
              "      <td>0.121408</td>\n",
              "      <td>0.145304</td>\n",
              "      <td>0.810701</td>\n",
              "      <td>0.881728</td>\n",
              "      <td>0.100873</td>\n",
              "      <td>0.145274</td>\n",
              "    </tr>\n",
              "    <tr>\n",
              "      <th>ps_sistolica</th>\n",
              "      <td>0.207741</td>\n",
              "      <td>0.162777</td>\n",
              "      <td>0.031807</td>\n",
              "      <td>0.115505</td>\n",
              "      <td>0.453417</td>\n",
              "      <td>-0.035417</td>\n",
              "      <td>-0.040704</td>\n",
              "      <td>0.097497</td>\n",
              "      <td>0.121408</td>\n",
              "      <td>1.000000</td>\n",
              "      <td>0.603662</td>\n",
              "      <td>0.210934</td>\n",
              "      <td>0.155321</td>\n",
              "      <td>0.137871</td>\n",
              "      <td>0.198600</td>\n",
              "    </tr>\n",
              "    <tr>\n",
              "      <th>ps_diastolica</th>\n",
              "      <td>0.166241</td>\n",
              "      <td>0.020262</td>\n",
              "      <td>0.078342</td>\n",
              "      <td>0.038242</td>\n",
              "      <td>0.068649</td>\n",
              "      <td>-0.071043</td>\n",
              "      <td>0.043617</td>\n",
              "      <td>0.166477</td>\n",
              "      <td>0.145304</td>\n",
              "      <td>0.603662</td>\n",
              "      <td>1.000000</td>\n",
              "      <td>0.165846</td>\n",
              "      <td>0.143898</td>\n",
              "      <td>0.077918</td>\n",
              "      <td>0.049351</td>\n",
              "    </tr>\n",
              "    <tr>\n",
              "      <th>cintura</th>\n",
              "      <td>0.134038</td>\n",
              "      <td>0.222336</td>\n",
              "      <td>-0.276697</td>\n",
              "      <td>0.313262</td>\n",
              "      <td>0.150585</td>\n",
              "      <td>0.045955</td>\n",
              "      <td>0.057447</td>\n",
              "      <td>0.847766</td>\n",
              "      <td>0.810701</td>\n",
              "      <td>0.210934</td>\n",
              "      <td>0.165846</td>\n",
              "      <td>1.000000</td>\n",
              "      <td>0.835177</td>\n",
              "      <td>0.514177</td>\n",
              "      <td>0.223378</td>\n",
              "    </tr>\n",
              "    <tr>\n",
              "      <th>caderas</th>\n",
              "      <td>0.093364</td>\n",
              "      <td>0.138223</td>\n",
              "      <td>-0.223837</td>\n",
              "      <td>0.208902</td>\n",
              "      <td>0.004675</td>\n",
              "      <td>0.272028</td>\n",
              "      <td>-0.095906</td>\n",
              "      <td>0.826985</td>\n",
              "      <td>0.881728</td>\n",
              "      <td>0.155321</td>\n",
              "      <td>0.143898</td>\n",
              "      <td>0.835177</td>\n",
              "      <td>1.000000</td>\n",
              "      <td>-0.037664</td>\n",
              "      <td>0.143792</td>\n",
              "    </tr>\n",
              "    <tr>\n",
              "      <th>prop_cin_cad</th>\n",
              "      <td>0.091847</td>\n",
              "      <td>0.185117</td>\n",
              "      <td>-0.158777</td>\n",
              "      <td>0.243329</td>\n",
              "      <td>0.275188</td>\n",
              "      <td>-0.346253</td>\n",
              "      <td>0.252548</td>\n",
              "      <td>0.250461</td>\n",
              "      <td>0.100873</td>\n",
              "      <td>0.137871</td>\n",
              "      <td>0.077918</td>\n",
              "      <td>0.514177</td>\n",
              "      <td>-0.037664</td>\n",
              "      <td>1.000000</td>\n",
              "      <td>0.175623</td>\n",
              "    </tr>\n",
              "    <tr>\n",
              "      <th>diabetes</th>\n",
              "      <td>0.204262</td>\n",
              "      <td>0.689080</td>\n",
              "      <td>-0.123133</td>\n",
              "      <td>0.272987</td>\n",
              "      <td>0.301995</td>\n",
              "      <td>-0.015531</td>\n",
              "      <td>0.023466</td>\n",
              "      <td>0.162987</td>\n",
              "      <td>0.145274</td>\n",
              "      <td>0.198600</td>\n",
              "      <td>0.049351</td>\n",
              "      <td>0.223378</td>\n",
              "      <td>0.143792</td>\n",
              "      <td>0.175623</td>\n",
              "      <td>1.000000</td>\n",
              "    </tr>\n",
              "  </tbody>\n",
              "</table>\n",
              "</div>"
            ],
            "text/plain": [
              "               colesterol   glucosa  hdl_chol  prop_col_hdl      edad  \\\n",
              "colesterol       1.000000  0.158102  0.193162      0.475927  0.247333   \n",
              "glucosa          0.158102  1.000000 -0.158302      0.282210  0.294392   \n",
              "hdl_chol         0.193162 -0.158302  1.000000     -0.681867  0.028210   \n",
              "prop_col_hdl     0.475927  0.282210 -0.681867      1.000000  0.163201   \n",
              "edad             0.247333  0.294392  0.028210      0.163201  1.000000   \n",
              "genero           0.030139 -0.093372  0.108305     -0.102938 -0.084177   \n",
              "altura          -0.063601  0.098052 -0.087238      0.081162 -0.082229   \n",
              "peso             0.062359  0.190358 -0.291883      0.278812 -0.056784   \n",
              "IMC              0.091695  0.129286 -0.241860      0.228407 -0.009164   \n",
              "ps_sistolica     0.207741  0.162777  0.031807      0.115505  0.453417   \n",
              "ps_diastolica    0.166241  0.020262  0.078342      0.038242  0.068649   \n",
              "cintura          0.134038  0.222336 -0.276697      0.313262  0.150585   \n",
              "caderas          0.093364  0.138223 -0.223837      0.208902  0.004675   \n",
              "prop_cin_cad     0.091847  0.185117 -0.158777      0.243329  0.275188   \n",
              "diabetes         0.204262  0.689080 -0.123133      0.272987  0.301995   \n",
              "\n",
              "                 genero    altura      peso       IMC  ps_sistolica  \\\n",
              "colesterol     0.030139 -0.063601  0.062359  0.091695      0.207741   \n",
              "glucosa       -0.093372  0.098052  0.190358  0.129286      0.162777   \n",
              "hdl_chol       0.108305 -0.087238 -0.291883 -0.241860      0.031807   \n",
              "prop_col_hdl  -0.102938  0.081162  0.278812  0.228407      0.115505   \n",
              "edad          -0.084177 -0.082229 -0.056784 -0.009164      0.453417   \n",
              "genero         1.000000 -0.677876 -0.092053  0.254189     -0.035417   \n",
              "altura        -0.677876  1.000000  0.255389 -0.259589     -0.040704   \n",
              "peso          -0.092053  0.255389  1.000000  0.860147      0.097497   \n",
              "IMC            0.254189 -0.259589  0.860147  1.000000      0.121408   \n",
              "ps_sistolica  -0.035417 -0.040704  0.097497  0.121408      1.000000   \n",
              "ps_diastolica -0.071043  0.043617  0.166477  0.145304      0.603662   \n",
              "cintura        0.045955  0.057447  0.847766  0.810701      0.210934   \n",
              "caderas        0.272028 -0.095906  0.826985  0.881728      0.155321   \n",
              "prop_cin_cad  -0.346253  0.252548  0.250461  0.100873      0.137871   \n",
              "diabetes      -0.015531  0.023466  0.162987  0.145274      0.198600   \n",
              "\n",
              "               ps_diastolica   cintura   caderas  prop_cin_cad  diabetes  \n",
              "colesterol          0.166241  0.134038  0.093364      0.091847  0.204262  \n",
              "glucosa             0.020262  0.222336  0.138223      0.185117  0.689080  \n",
              "hdl_chol            0.078342 -0.276697 -0.223837     -0.158777 -0.123133  \n",
              "prop_col_hdl        0.038242  0.313262  0.208902      0.243329  0.272987  \n",
              "edad                0.068649  0.150585  0.004675      0.275188  0.301995  \n",
              "genero             -0.071043  0.045955  0.272028     -0.346253 -0.015531  \n",
              "altura              0.043617  0.057447 -0.095906      0.252548  0.023466  \n",
              "peso                0.166477  0.847766  0.826985      0.250461  0.162987  \n",
              "IMC                 0.145304  0.810701  0.881728      0.100873  0.145274  \n",
              "ps_sistolica        0.603662  0.210934  0.155321      0.137871  0.198600  \n",
              "ps_diastolica       1.000000  0.165846  0.143898      0.077918  0.049351  \n",
              "cintura             0.165846  1.000000  0.835177      0.514177  0.223378  \n",
              "caderas             0.143898  0.835177  1.000000     -0.037664  0.143792  \n",
              "prop_cin_cad        0.077918  0.514177 -0.037664      1.000000  0.175623  \n",
              "diabetes            0.049351  0.223378  0.143792      0.175623  1.000000  "
            ]
          },
          "execution_count": 48,
          "metadata": {},
          "output_type": "execute_result"
        }
      ],
      "source": [
        "df_1.corr()"
      ]
    },
    {
      "cell_type": "code",
      "execution_count": null,
      "metadata": {
        "id": "aSI9pdvQGd9H",
        "outputId": "a8cd8ee3-5b01-4628-ab05-5781847ddfdc"
      },
      "outputs": [
        {
          "data": {
            "text/plain": [
              "<AxesSubplot:>"
            ]
          },
          "execution_count": 49,
          "metadata": {},
          "output_type": "execute_result"
        },
        {
          "data": {
            "image/png": "[encoded data removed]",
            "text/plain": [
              "<Figure size 432x288 with 2 Axes>"
            ]
          },
          "metadata": {
            "needs_background": "light"
          },
          "output_type": "display_data"
        }
      ],
      "source": [
        "sns.heatmap(df_1.corr(),cmap=\"YlGnBu\")"
      ]
    },
    {
      "attachments": {},
      "cell_type": "markdown",
      "metadata": {
        "id": "3BfZx-Q7Gd9H"
      },
      "source": [
        "## ***PCA desde 0***"
      ]
    },
    {
      "cell_type": "code",
      "execution_count": null,
      "metadata": {
        "id": "klYmSZUlGd9I",
        "outputId": "9404ce00-ace2-4a6e-9693-a2c4901b2739"
      },
      "outputs": [
        {
          "data": {
            "text/plain": [
              "Unnamed: 0         int64\n",
              "colesterol         int64\n",
              "glucosa            int64\n",
              "hdl_chol           int64\n",
              "prop_col_hdl     float64\n",
              "edad               int64\n",
              "genero             int64\n",
              "altura             int64\n",
              "peso               int64\n",
              "IMC              float64\n",
              "ps_sistolica       int64\n",
              "ps_diastolica      int64\n",
              "cintura            int64\n",
              "caderas            int64\n",
              "prop_cin_cad     float64\n",
              "diabetes           int64\n",
              "dtype: object"
            ]
          },
          "execution_count": 68,
          "metadata": {},
          "output_type": "execute_result"
        }
      ],
      "source": [
        "df.dtypes"
      ]
    },
    {
      "cell_type": "code",
      "execution_count": null,
      "metadata": {
        "id": "j2xxRcACGd9I"
      },
      "outputs": [],
      "source": [
        "newdf = df.drop(['diabetes', 'Unnamed: 0'], axis=1)"
      ]
    },
    {
      "cell_type": "code",
      "execution_count": null,
      "metadata": {
        "id": "SLsReicfGd9J"
      },
      "outputs": [],
      "source": [
        "features = ['colesterol', 'glucosa', 'hdl_chol', 'prop_col_hdl', 'edad', 'genero', 'altura', 'peso', 'IMC', 'ps_sistolica', 'ps_diastolica', 'cintura', 'caderas', 'prop_cin_cad']"
      ]
    },
    {
      "cell_type": "code",
      "execution_count": null,
      "metadata": {
        "id": "Mekk1JAjGd9J",
        "outputId": "3d7b696b-da6e-475a-f710-095c66210023"
      },
      "outputs": [
        {
          "data": {
            "text/html": [
              "<div>\n",
              "<style scoped>\n",
              "    .dataframe tbody tr th:only-of-type {\n",
              "        vertical-align: middle;\n",
              "    }\n",
              "\n",
              "    .dataframe tbody tr th {\n",
              "        vertical-align: top;\n",
              "    }\n",
              "\n",
              "    .dataframe thead th {\n",
              "        text-align: right;\n",
              "    }\n",
              "</style>\n",
              "<table border=\"1\" class=\"dataframe\">\n",
              "  <thead>\n",
              "    <tr style=\"text-align: right;\">\n",
              "      <th></th>\n",
              "      <th>colesterol</th>\n",
              "      <th>glucosa</th>\n",
              "      <th>hdl_chol</th>\n",
              "      <th>prop_col_hdl</th>\n",
              "      <th>edad</th>\n",
              "      <th>genero</th>\n",
              "      <th>altura</th>\n",
              "      <th>peso</th>\n",
              "      <th>IMC</th>\n",
              "      <th>ps_sistolica</th>\n",
              "      <th>ps_diastolica</th>\n",
              "      <th>cintura</th>\n",
              "      <th>caderas</th>\n",
              "      <th>prop_cin_cad</th>\n",
              "    </tr>\n",
              "  </thead>\n",
              "  <tbody>\n",
              "    <tr>\n",
              "      <th>0</th>\n",
              "      <td>193</td>\n",
              "      <td>77</td>\n",
              "      <td>49</td>\n",
              "      <td>3.9</td>\n",
              "      <td>19</td>\n",
              "      <td>1</td>\n",
              "      <td>61</td>\n",
              "      <td>119</td>\n",
              "      <td>22.5</td>\n",
              "      <td>118</td>\n",
              "      <td>70</td>\n",
              "      <td>32</td>\n",
              "      <td>38</td>\n",
              "      <td>0.84</td>\n",
              "    </tr>\n",
              "    <tr>\n",
              "      <th>1</th>\n",
              "      <td>146</td>\n",
              "      <td>79</td>\n",
              "      <td>41</td>\n",
              "      <td>3.6</td>\n",
              "      <td>19</td>\n",
              "      <td>1</td>\n",
              "      <td>60</td>\n",
              "      <td>135</td>\n",
              "      <td>26.4</td>\n",
              "      <td>108</td>\n",
              "      <td>58</td>\n",
              "      <td>33</td>\n",
              "      <td>40</td>\n",
              "      <td>0.83</td>\n",
              "    </tr>\n",
              "    <tr>\n",
              "      <th>2</th>\n",
              "      <td>217</td>\n",
              "      <td>75</td>\n",
              "      <td>54</td>\n",
              "      <td>4.0</td>\n",
              "      <td>20</td>\n",
              "      <td>1</td>\n",
              "      <td>67</td>\n",
              "      <td>187</td>\n",
              "      <td>29.3</td>\n",
              "      <td>110</td>\n",
              "      <td>72</td>\n",
              "      <td>40</td>\n",
              "      <td>45</td>\n",
              "      <td>0.89</td>\n",
              "    </tr>\n",
              "    <tr>\n",
              "      <th>3</th>\n",
              "      <td>226</td>\n",
              "      <td>97</td>\n",
              "      <td>70</td>\n",
              "      <td>3.2</td>\n",
              "      <td>20</td>\n",
              "      <td>1</td>\n",
              "      <td>64</td>\n",
              "      <td>114</td>\n",
              "      <td>19.6</td>\n",
              "      <td>122</td>\n",
              "      <td>64</td>\n",
              "      <td>31</td>\n",
              "      <td>39</td>\n",
              "      <td>0.79</td>\n",
              "    </tr>\n",
              "    <tr>\n",
              "      <th>4</th>\n",
              "      <td>164</td>\n",
              "      <td>91</td>\n",
              "      <td>67</td>\n",
              "      <td>2.4</td>\n",
              "      <td>20</td>\n",
              "      <td>1</td>\n",
              "      <td>70</td>\n",
              "      <td>141</td>\n",
              "      <td>20.2</td>\n",
              "      <td>122</td>\n",
              "      <td>86</td>\n",
              "      <td>32</td>\n",
              "      <td>39</td>\n",
              "      <td>0.82</td>\n",
              "    </tr>\n",
              "    <tr>\n",
              "      <th>...</th>\n",
              "      <td>...</td>\n",
              "      <td>...</td>\n",
              "      <td>...</td>\n",
              "      <td>...</td>\n",
              "      <td>...</td>\n",
              "      <td>...</td>\n",
              "      <td>...</td>\n",
              "      <td>...</td>\n",
              "      <td>...</td>\n",
              "      <td>...</td>\n",
              "      <td>...</td>\n",
              "      <td>...</td>\n",
              "      <td>...</td>\n",
              "      <td>...</td>\n",
              "    </tr>\n",
              "    <tr>\n",
              "      <th>385</th>\n",
              "      <td>227</td>\n",
              "      <td>105</td>\n",
              "      <td>44</td>\n",
              "      <td>5.2</td>\n",
              "      <td>83</td>\n",
              "      <td>1</td>\n",
              "      <td>59</td>\n",
              "      <td>125</td>\n",
              "      <td>25.2</td>\n",
              "      <td>150</td>\n",
              "      <td>90</td>\n",
              "      <td>35</td>\n",
              "      <td>40</td>\n",
              "      <td>0.88</td>\n",
              "    </tr>\n",
              "    <tr>\n",
              "      <th>386</th>\n",
              "      <td>226</td>\n",
              "      <td>279</td>\n",
              "      <td>52</td>\n",
              "      <td>4.3</td>\n",
              "      <td>84</td>\n",
              "      <td>1</td>\n",
              "      <td>60</td>\n",
              "      <td>192</td>\n",
              "      <td>37.5</td>\n",
              "      <td>144</td>\n",
              "      <td>88</td>\n",
              "      <td>41</td>\n",
              "      <td>48</td>\n",
              "      <td>0.85</td>\n",
              "    </tr>\n",
              "    <tr>\n",
              "      <th>387</th>\n",
              "      <td>301</td>\n",
              "      <td>90</td>\n",
              "      <td>118</td>\n",
              "      <td>2.6</td>\n",
              "      <td>89</td>\n",
              "      <td>1</td>\n",
              "      <td>61</td>\n",
              "      <td>115</td>\n",
              "      <td>21.7</td>\n",
              "      <td>218</td>\n",
              "      <td>90</td>\n",
              "      <td>31</td>\n",
              "      <td>41</td>\n",
              "      <td>0.76</td>\n",
              "    </tr>\n",
              "    <tr>\n",
              "      <th>388</th>\n",
              "      <td>232</td>\n",
              "      <td>184</td>\n",
              "      <td>114</td>\n",
              "      <td>2.0</td>\n",
              "      <td>91</td>\n",
              "      <td>1</td>\n",
              "      <td>61</td>\n",
              "      <td>127</td>\n",
              "      <td>24.0</td>\n",
              "      <td>170</td>\n",
              "      <td>82</td>\n",
              "      <td>35</td>\n",
              "      <td>38</td>\n",
              "      <td>0.92</td>\n",
              "    </tr>\n",
              "    <tr>\n",
              "      <th>389</th>\n",
              "      <td>165</td>\n",
              "      <td>94</td>\n",
              "      <td>69</td>\n",
              "      <td>2.4</td>\n",
              "      <td>92</td>\n",
              "      <td>1</td>\n",
              "      <td>62</td>\n",
              "      <td>217</td>\n",
              "      <td>39.7</td>\n",
              "      <td>160</td>\n",
              "      <td>82</td>\n",
              "      <td>51</td>\n",
              "      <td>51</td>\n",
              "      <td>1.00</td>\n",
              "    </tr>\n",
              "  </tbody>\n",
              "</table>\n",
              "<p>390 rows × 14 columns</p>\n",
              "</div>"
            ],
            "text/plain": [
              "     colesterol  glucosa  hdl_chol  prop_col_hdl  edad  genero  altura  peso  \\\n",
              "0           193       77        49           3.9    19       1      61   119   \n",
              "1           146       79        41           3.6    19       1      60   135   \n",
              "2           217       75        54           4.0    20       1      67   187   \n",
              "3           226       97        70           3.2    20       1      64   114   \n",
              "4           164       91        67           2.4    20       1      70   141   \n",
              "..          ...      ...       ...           ...   ...     ...     ...   ...   \n",
              "385         227      105        44           5.2    83       1      59   125   \n",
              "386         226      279        52           4.3    84       1      60   192   \n",
              "387         301       90       118           2.6    89       1      61   115   \n",
              "388         232      184       114           2.0    91       1      61   127   \n",
              "389         165       94        69           2.4    92       1      62   217   \n",
              "\n",
              "      IMC  ps_sistolica  ps_diastolica  cintura  caderas  prop_cin_cad  \n",
              "0    22.5           118             70       32       38          0.84  \n",
              "1    26.4           108             58       33       40          0.83  \n",
              "2    29.3           110             72       40       45          0.89  \n",
              "3    19.6           122             64       31       39          0.79  \n",
              "4    20.2           122             86       32       39          0.82  \n",
              "..    ...           ...            ...      ...      ...           ...  \n",
              "385  25.2           150             90       35       40          0.88  \n",
              "386  37.5           144             88       41       48          0.85  \n",
              "387  21.7           218             90       31       41          0.76  \n",
              "388  24.0           170             82       35       38          0.92  \n",
              "389  39.7           160             82       51       51          1.00  \n",
              "\n",
              "[390 rows x 14 columns]"
            ]
          },
          "execution_count": 70,
          "metadata": {},
          "output_type": "execute_result"
        }
      ],
      "source": [
        "newdf"
      ]
    },
    {
      "cell_type": "code",
      "execution_count": null,
      "metadata": {
        "id": "KmVswVJcGd9K"
      },
      "outputs": [],
      "source": [
        "y = df.diabetes.values"
      ]
    },
    {
      "cell_type": "code",
      "execution_count": null,
      "metadata": {
        "id": "Mv2LVmH3Gd9L",
        "outputId": "48c1b314-c861-4baf-8b27-7b8dd8635e6a"
      },
      "outputs": [
        {
          "data": {
            "text/html": [
              "<div>\n",
              "<style scoped>\n",
              "    .dataframe tbody tr th:only-of-type {\n",
              "        vertical-align: middle;\n",
              "    }\n",
              "\n",
              "    .dataframe tbody tr th {\n",
              "        vertical-align: top;\n",
              "    }\n",
              "\n",
              "    .dataframe thead th {\n",
              "        text-align: right;\n",
              "    }\n",
              "</style>\n",
              "<table border=\"1\" class=\"dataframe\">\n",
              "  <thead>\n",
              "    <tr style=\"text-align: right;\">\n",
              "      <th></th>\n",
              "      <th>colesterol</th>\n",
              "      <th>glucosa</th>\n",
              "      <th>hdl_chol</th>\n",
              "      <th>prop_col_hdl</th>\n",
              "      <th>edad</th>\n",
              "      <th>genero</th>\n",
              "      <th>altura</th>\n",
              "      <th>peso</th>\n",
              "      <th>IMC</th>\n",
              "      <th>ps_sistolica</th>\n",
              "      <th>ps_diastolica</th>\n",
              "      <th>cintura</th>\n",
              "      <th>caderas</th>\n",
              "      <th>prop_cin_cad</th>\n",
              "    </tr>\n",
              "  </thead>\n",
              "  <tbody>\n",
              "    <tr>\n",
              "      <th>0</th>\n",
              "      <td>-0.318604</td>\n",
              "      <td>-0.563931</td>\n",
              "      <td>-0.073306</td>\n",
              "      <td>-0.359670</td>\n",
              "      <td>-1.689858</td>\n",
              "      <td>0.841846</td>\n",
              "      <td>-1.263447</td>\n",
              "      <td>-1.445455</td>\n",
              "      <td>-0.950723</td>\n",
              "      <td>-0.836996</td>\n",
              "      <td>-0.984557</td>\n",
              "      <td>-1.018796</td>\n",
              "      <td>-0.881357</td>\n",
              "      <td>-0.565269</td>\n",
              "    </tr>\n",
              "    <tr>\n",
              "      <th>1</th>\n",
              "      <td>-1.370858</td>\n",
              "      <td>-0.526755</td>\n",
              "      <td>-0.536294</td>\n",
              "      <td>-0.532418</td>\n",
              "      <td>-1.689858</td>\n",
              "      <td>0.841846</td>\n",
              "      <td>-1.518623</td>\n",
              "      <td>-1.049492</td>\n",
              "      <td>-0.359896</td>\n",
              "      <td>-1.274450</td>\n",
              "      <td>-1.873565</td>\n",
              "      <td>-0.845214</td>\n",
              "      <td>-0.528271</td>\n",
              "      <td>-0.701858</td>\n",
              "    </tr>\n",
              "    <tr>\n",
              "      <th>2</th>\n",
              "      <td>0.218717</td>\n",
              "      <td>-0.601107</td>\n",
              "      <td>0.216061</td>\n",
              "      <td>-0.302088</td>\n",
              "      <td>-1.629016</td>\n",
              "      <td>0.841846</td>\n",
              "      <td>0.267607</td>\n",
              "      <td>0.237387</td>\n",
              "      <td>0.079437</td>\n",
              "      <td>-1.186959</td>\n",
              "      <td>-0.836389</td>\n",
              "      <td>0.369864</td>\n",
              "      <td>0.354444</td>\n",
              "      <td>0.117677</td>\n",
              "    </tr>\n",
              "    <tr>\n",
              "      <th>3</th>\n",
              "      <td>0.420213</td>\n",
              "      <td>-0.192171</td>\n",
              "      <td>1.142037</td>\n",
              "      <td>-0.762749</td>\n",
              "      <td>-1.629016</td>\n",
              "      <td>0.841846</td>\n",
              "      <td>-0.497920</td>\n",
              "      <td>-1.569193</td>\n",
              "      <td>-1.390056</td>\n",
              "      <td>-0.662014</td>\n",
              "      <td>-1.429061</td>\n",
              "      <td>-1.192379</td>\n",
              "      <td>-0.704814</td>\n",
              "      <td>-1.248215</td>\n",
              "    </tr>\n",
              "    <tr>\n",
              "      <th>4</th>\n",
              "      <td>-0.967867</td>\n",
              "      <td>-0.303699</td>\n",
              "      <td>0.968416</td>\n",
              "      <td>-1.223410</td>\n",
              "      <td>-1.629016</td>\n",
              "      <td>0.841846</td>\n",
              "      <td>1.033135</td>\n",
              "      <td>-0.901006</td>\n",
              "      <td>-1.299159</td>\n",
              "      <td>-0.662014</td>\n",
              "      <td>0.200787</td>\n",
              "      <td>-1.018796</td>\n",
              "      <td>-0.704814</td>\n",
              "      <td>-0.838447</td>\n",
              "    </tr>\n",
              "    <tr>\n",
              "      <th>...</th>\n",
              "      <td>...</td>\n",
              "      <td>...</td>\n",
              "      <td>...</td>\n",
              "      <td>...</td>\n",
              "      <td>...</td>\n",
              "      <td>...</td>\n",
              "      <td>...</td>\n",
              "      <td>...</td>\n",
              "      <td>...</td>\n",
              "      <td>...</td>\n",
              "      <td>...</td>\n",
              "      <td>...</td>\n",
              "      <td>...</td>\n",
              "      <td>...</td>\n",
              "    </tr>\n",
              "    <tr>\n",
              "      <th>385</th>\n",
              "      <td>0.442601</td>\n",
              "      <td>-0.043467</td>\n",
              "      <td>-0.362674</td>\n",
              "      <td>0.388904</td>\n",
              "      <td>2.204054</td>\n",
              "      <td>0.841846</td>\n",
              "      <td>-1.773799</td>\n",
              "      <td>-1.296969</td>\n",
              "      <td>-0.541689</td>\n",
              "      <td>0.562858</td>\n",
              "      <td>0.497123</td>\n",
              "      <td>-0.498048</td>\n",
              "      <td>-0.528271</td>\n",
              "      <td>-0.018912</td>\n",
              "    </tr>\n",
              "    <tr>\n",
              "      <th>386</th>\n",
              "      <td>0.420213</td>\n",
              "      <td>3.190842</td>\n",
              "      <td>0.100314</td>\n",
              "      <td>-0.129340</td>\n",
              "      <td>2.264897</td>\n",
              "      <td>0.841846</td>\n",
              "      <td>-1.518623</td>\n",
              "      <td>0.361126</td>\n",
              "      <td>1.321689</td>\n",
              "      <td>0.300385</td>\n",
              "      <td>0.348955</td>\n",
              "      <td>0.543447</td>\n",
              "      <td>0.884073</td>\n",
              "      <td>-0.428680</td>\n",
              "    </tr>\n",
              "    <tr>\n",
              "      <th>387</th>\n",
              "      <td>2.099342</td>\n",
              "      <td>-0.322287</td>\n",
              "      <td>3.919964</td>\n",
              "      <td>-1.108245</td>\n",
              "      <td>2.569109</td>\n",
              "      <td>0.841846</td>\n",
              "      <td>-1.263447</td>\n",
              "      <td>-1.544446</td>\n",
              "      <td>-1.071918</td>\n",
              "      <td>3.537548</td>\n",
              "      <td>0.497123</td>\n",
              "      <td>-1.192379</td>\n",
              "      <td>-0.351728</td>\n",
              "      <td>-1.657983</td>\n",
              "    </tr>\n",
              "    <tr>\n",
              "      <th>388</th>\n",
              "      <td>0.554543</td>\n",
              "      <td>1.424984</td>\n",
              "      <td>3.688470</td>\n",
              "      <td>-1.453741</td>\n",
              "      <td>2.690793</td>\n",
              "      <td>0.841846</td>\n",
              "      <td>-1.263447</td>\n",
              "      <td>-1.247474</td>\n",
              "      <td>-0.723482</td>\n",
              "      <td>1.437767</td>\n",
              "      <td>-0.095549</td>\n",
              "      <td>-0.498048</td>\n",
              "      <td>-0.881357</td>\n",
              "      <td>0.527444</td>\n",
              "    </tr>\n",
              "    <tr>\n",
              "      <th>389</th>\n",
              "      <td>-0.945479</td>\n",
              "      <td>-0.247935</td>\n",
              "      <td>1.084163</td>\n",
              "      <td>-1.223410</td>\n",
              "      <td>2.751636</td>\n",
              "      <td>0.841846</td>\n",
              "      <td>-1.008272</td>\n",
              "      <td>0.979818</td>\n",
              "      <td>1.654976</td>\n",
              "      <td>1.000312</td>\n",
              "      <td>-0.095549</td>\n",
              "      <td>2.279273</td>\n",
              "      <td>1.413702</td>\n",
              "      <td>1.620158</td>\n",
              "    </tr>\n",
              "  </tbody>\n",
              "</table>\n",
              "<p>390 rows × 14 columns</p>\n",
              "</div>"
            ],
            "text/plain": [
              "     colesterol   glucosa  hdl_chol  prop_col_hdl      edad    genero  \\\n",
              "0     -0.318604 -0.563931 -0.073306     -0.359670 -1.689858  0.841846   \n",
              "1     -1.370858 -0.526755 -0.536294     -0.532418 -1.689858  0.841846   \n",
              "2      0.218717 -0.601107  0.216061     -0.302088 -1.629016  0.841846   \n",
              "3      0.420213 -0.192171  1.142037     -0.762749 -1.629016  0.841846   \n",
              "4     -0.967867 -0.303699  0.968416     -1.223410 -1.629016  0.841846   \n",
              "..          ...       ...       ...           ...       ...       ...   \n",
              "385    0.442601 -0.043467 -0.362674      0.388904  2.204054  0.841846   \n",
              "386    0.420213  3.190842  0.100314     -0.129340  2.264897  0.841846   \n",
              "387    2.099342 -0.322287  3.919964     -1.108245  2.569109  0.841846   \n",
              "388    0.554543  1.424984  3.688470     -1.453741  2.690793  0.841846   \n",
              "389   -0.945479 -0.247935  1.084163     -1.223410  2.751636  0.841846   \n",
              "\n",
              "       altura      peso       IMC  ps_sistolica  ps_diastolica   cintura  \\\n",
              "0   -1.263447 -1.445455 -0.950723     -0.836996      -0.984557 -1.018796   \n",
              "1   -1.518623 -1.049492 -0.359896     -1.274450      -1.873565 -0.845214   \n",
              "2    0.267607  0.237387  0.079437     -1.186959      -0.836389  0.369864   \n",
              "3   -0.497920 -1.569193 -1.390056     -0.662014      -1.429061 -1.192379   \n",
              "4    1.033135 -0.901006 -1.299159     -0.662014       0.200787 -1.018796   \n",
              "..        ...       ...       ...           ...            ...       ...   \n",
              "385 -1.773799 -1.296969 -0.541689      0.562858       0.497123 -0.498048   \n",
              "386 -1.518623  0.361126  1.321689      0.300385       0.348955  0.543447   \n",
              "387 -1.263447 -1.544446 -1.071918      3.537548       0.497123 -1.192379   \n",
              "388 -1.263447 -1.247474 -0.723482      1.437767      -0.095549 -0.498048   \n",
              "389 -1.008272  0.979818  1.654976      1.000312      -0.095549  2.279273   \n",
              "\n",
              "      caderas  prop_cin_cad  \n",
              "0   -0.881357     -0.565269  \n",
              "1   -0.528271     -0.701858  \n",
              "2    0.354444      0.117677  \n",
              "3   -0.704814     -1.248215  \n",
              "4   -0.704814     -0.838447  \n",
              "..        ...           ...  \n",
              "385 -0.528271     -0.018912  \n",
              "386  0.884073     -0.428680  \n",
              "387 -0.351728     -1.657983  \n",
              "388 -0.881357      0.527444  \n",
              "389  1.413702      1.620158  \n",
              "\n",
              "[390 rows x 14 columns]"
            ]
          },
          "execution_count": 72,
          "metadata": {},
          "output_type": "execute_result"
        }
      ],
      "source": [
        "standarized_df = (newdf-newdf.mean())/newdf.std()\n",
        "standarized_df"
      ]
    },
    {
      "cell_type": "code",
      "execution_count": null,
      "metadata": {
        "id": "z9rqiDVDGd9k"
      },
      "outputs": [],
      "source": [
        "X_scaled = standarized_df.to_numpy()"
      ]
    },
    {
      "cell_type": "code",
      "execution_count": null,
      "metadata": {
        "id": "dfJWd0SBGd9k",
        "outputId": "badc21ba-905a-494b-dc10-8ed948607bfd"
      },
      "outputs": [
        {
          "data": {
            "text/html": [
              "<div>\n",
              "<style scoped>\n",
              "    .dataframe tbody tr th:only-of-type {\n",
              "        vertical-align: middle;\n",
              "    }\n",
              "\n",
              "    .dataframe tbody tr th {\n",
              "        vertical-align: top;\n",
              "    }\n",
              "\n",
              "    .dataframe thead th {\n",
              "        text-align: right;\n",
              "    }\n",
              "</style>\n",
              "<table border=\"1\" class=\"dataframe\">\n",
              "  <thead>\n",
              "    <tr style=\"text-align: right;\">\n",
              "      <th></th>\n",
              "      <th>0</th>\n",
              "      <th>1</th>\n",
              "      <th>2</th>\n",
              "      <th>3</th>\n",
              "      <th>4</th>\n",
              "      <th>5</th>\n",
              "      <th>6</th>\n",
              "      <th>7</th>\n",
              "      <th>8</th>\n",
              "      <th>9</th>\n",
              "      <th>10</th>\n",
              "      <th>11</th>\n",
              "      <th>12</th>\n",
              "      <th>13</th>\n",
              "    </tr>\n",
              "  </thead>\n",
              "  <tbody>\n",
              "    <tr>\n",
              "      <th>0</th>\n",
              "      <td>0.9974</td>\n",
              "      <td>0.1577</td>\n",
              "      <td>0.1927</td>\n",
              "      <td>0.4747</td>\n",
              "      <td>0.2467</td>\n",
              "      <td>0.0301</td>\n",
              "      <td>-0.0634</td>\n",
              "      <td>0.0622</td>\n",
              "      <td>0.0915</td>\n",
              "      <td>0.2072</td>\n",
              "      <td>0.1658</td>\n",
              "      <td>0.1337</td>\n",
              "      <td>0.0931</td>\n",
              "      <td>0.0916</td>\n",
              "    </tr>\n",
              "    <tr>\n",
              "      <th>1</th>\n",
              "      <td>0.1577</td>\n",
              "      <td>0.9974</td>\n",
              "      <td>-0.1579</td>\n",
              "      <td>0.2815</td>\n",
              "      <td>0.2936</td>\n",
              "      <td>-0.0931</td>\n",
              "      <td>0.0978</td>\n",
              "      <td>0.1899</td>\n",
              "      <td>0.1290</td>\n",
              "      <td>0.1624</td>\n",
              "      <td>0.0202</td>\n",
              "      <td>0.2218</td>\n",
              "      <td>0.1379</td>\n",
              "      <td>0.1846</td>\n",
              "    </tr>\n",
              "    <tr>\n",
              "      <th>2</th>\n",
              "      <td>0.1927</td>\n",
              "      <td>-0.1579</td>\n",
              "      <td>0.9974</td>\n",
              "      <td>-0.6801</td>\n",
              "      <td>0.0281</td>\n",
              "      <td>0.1080</td>\n",
              "      <td>-0.0870</td>\n",
              "      <td>-0.2911</td>\n",
              "      <td>-0.2412</td>\n",
              "      <td>0.0317</td>\n",
              "      <td>0.0781</td>\n",
              "      <td>-0.2760</td>\n",
              "      <td>-0.2233</td>\n",
              "      <td>-0.1584</td>\n",
              "    </tr>\n",
              "    <tr>\n",
              "      <th>3</th>\n",
              "      <td>0.4747</td>\n",
              "      <td>0.2815</td>\n",
              "      <td>-0.6801</td>\n",
              "      <td>0.9974</td>\n",
              "      <td>0.1628</td>\n",
              "      <td>-0.1027</td>\n",
              "      <td>0.0810</td>\n",
              "      <td>0.2781</td>\n",
              "      <td>0.2278</td>\n",
              "      <td>0.1152</td>\n",
              "      <td>0.0381</td>\n",
              "      <td>0.3125</td>\n",
              "      <td>0.2084</td>\n",
              "      <td>0.2427</td>\n",
              "    </tr>\n",
              "    <tr>\n",
              "      <th>4</th>\n",
              "      <td>0.2467</td>\n",
              "      <td>0.2936</td>\n",
              "      <td>0.0281</td>\n",
              "      <td>0.1628</td>\n",
              "      <td>0.9974</td>\n",
              "      <td>-0.0840</td>\n",
              "      <td>-0.0820</td>\n",
              "      <td>-0.0566</td>\n",
              "      <td>-0.0091</td>\n",
              "      <td>0.4523</td>\n",
              "      <td>0.0685</td>\n",
              "      <td>0.1502</td>\n",
              "      <td>0.0047</td>\n",
              "      <td>0.2745</td>\n",
              "    </tr>\n",
              "    <tr>\n",
              "      <th>5</th>\n",
              "      <td>0.0301</td>\n",
              "      <td>-0.0931</td>\n",
              "      <td>0.1080</td>\n",
              "      <td>-0.1027</td>\n",
              "      <td>-0.0840</td>\n",
              "      <td>0.9974</td>\n",
              "      <td>-0.6761</td>\n",
              "      <td>-0.0918</td>\n",
              "      <td>0.2535</td>\n",
              "      <td>-0.0353</td>\n",
              "      <td>-0.0709</td>\n",
              "      <td>0.0458</td>\n",
              "      <td>0.2713</td>\n",
              "      <td>-0.3454</td>\n",
              "    </tr>\n",
              "    <tr>\n",
              "      <th>6</th>\n",
              "      <td>-0.0634</td>\n",
              "      <td>0.0978</td>\n",
              "      <td>-0.0870</td>\n",
              "      <td>0.0810</td>\n",
              "      <td>-0.0820</td>\n",
              "      <td>-0.6761</td>\n",
              "      <td>0.9974</td>\n",
              "      <td>0.2547</td>\n",
              "      <td>-0.2589</td>\n",
              "      <td>-0.0406</td>\n",
              "      <td>0.0435</td>\n",
              "      <td>0.0573</td>\n",
              "      <td>-0.0957</td>\n",
              "      <td>0.2519</td>\n",
              "    </tr>\n",
              "    <tr>\n",
              "      <th>7</th>\n",
              "      <td>0.0622</td>\n",
              "      <td>0.1899</td>\n",
              "      <td>-0.2911</td>\n",
              "      <td>0.2781</td>\n",
              "      <td>-0.0566</td>\n",
              "      <td>-0.0918</td>\n",
              "      <td>0.2547</td>\n",
              "      <td>0.9974</td>\n",
              "      <td>0.8579</td>\n",
              "      <td>0.0972</td>\n",
              "      <td>0.1660</td>\n",
              "      <td>0.8456</td>\n",
              "      <td>0.8249</td>\n",
              "      <td>0.2498</td>\n",
              "    </tr>\n",
              "    <tr>\n",
              "      <th>8</th>\n",
              "      <td>0.0915</td>\n",
              "      <td>0.1290</td>\n",
              "      <td>-0.2412</td>\n",
              "      <td>0.2278</td>\n",
              "      <td>-0.0091</td>\n",
              "      <td>0.2535</td>\n",
              "      <td>-0.2589</td>\n",
              "      <td>0.8579</td>\n",
              "      <td>0.9974</td>\n",
              "      <td>0.1211</td>\n",
              "      <td>0.1449</td>\n",
              "      <td>0.8086</td>\n",
              "      <td>0.8795</td>\n",
              "      <td>0.1006</td>\n",
              "    </tr>\n",
              "    <tr>\n",
              "      <th>9</th>\n",
              "      <td>0.2072</td>\n",
              "      <td>0.1624</td>\n",
              "      <td>0.0317</td>\n",
              "      <td>0.1152</td>\n",
              "      <td>0.4523</td>\n",
              "      <td>-0.0353</td>\n",
              "      <td>-0.0406</td>\n",
              "      <td>0.0972</td>\n",
              "      <td>0.1211</td>\n",
              "      <td>0.9974</td>\n",
              "      <td>0.6021</td>\n",
              "      <td>0.2104</td>\n",
              "      <td>0.1549</td>\n",
              "      <td>0.1375</td>\n",
              "    </tr>\n",
              "    <tr>\n",
              "      <th>10</th>\n",
              "      <td>0.1658</td>\n",
              "      <td>0.0202</td>\n",
              "      <td>0.0781</td>\n",
              "      <td>0.0381</td>\n",
              "      <td>0.0685</td>\n",
              "      <td>-0.0709</td>\n",
              "      <td>0.0435</td>\n",
              "      <td>0.1660</td>\n",
              "      <td>0.1449</td>\n",
              "      <td>0.6021</td>\n",
              "      <td>0.9974</td>\n",
              "      <td>0.1654</td>\n",
              "      <td>0.1435</td>\n",
              "      <td>0.0777</td>\n",
              "    </tr>\n",
              "    <tr>\n",
              "      <th>11</th>\n",
              "      <td>0.1337</td>\n",
              "      <td>0.2218</td>\n",
              "      <td>-0.2760</td>\n",
              "      <td>0.3125</td>\n",
              "      <td>0.1502</td>\n",
              "      <td>0.0458</td>\n",
              "      <td>0.0573</td>\n",
              "      <td>0.8456</td>\n",
              "      <td>0.8086</td>\n",
              "      <td>0.2104</td>\n",
              "      <td>0.1654</td>\n",
              "      <td>0.9974</td>\n",
              "      <td>0.8330</td>\n",
              "      <td>0.5129</td>\n",
              "    </tr>\n",
              "    <tr>\n",
              "      <th>12</th>\n",
              "      <td>0.0931</td>\n",
              "      <td>0.1379</td>\n",
              "      <td>-0.2233</td>\n",
              "      <td>0.2084</td>\n",
              "      <td>0.0047</td>\n",
              "      <td>0.2713</td>\n",
              "      <td>-0.0957</td>\n",
              "      <td>0.8249</td>\n",
              "      <td>0.8795</td>\n",
              "      <td>0.1549</td>\n",
              "      <td>0.1435</td>\n",
              "      <td>0.8330</td>\n",
              "      <td>0.9974</td>\n",
              "      <td>-0.0376</td>\n",
              "    </tr>\n",
              "    <tr>\n",
              "      <th>13</th>\n",
              "      <td>0.0916</td>\n",
              "      <td>0.1846</td>\n",
              "      <td>-0.1584</td>\n",
              "      <td>0.2427</td>\n",
              "      <td>0.2745</td>\n",
              "      <td>-0.3454</td>\n",
              "      <td>0.2519</td>\n",
              "      <td>0.2498</td>\n",
              "      <td>0.1006</td>\n",
              "      <td>0.1375</td>\n",
              "      <td>0.0777</td>\n",
              "      <td>0.5129</td>\n",
              "      <td>-0.0376</td>\n",
              "      <td>0.9974</td>\n",
              "    </tr>\n",
              "  </tbody>\n",
              "</table>\n",
              "</div>"
            ],
            "text/plain": [
              "        0       1       2       3       4       5       6       7       8   \\\n",
              "0   0.9974  0.1577  0.1927  0.4747  0.2467  0.0301 -0.0634  0.0622  0.0915   \n",
              "1   0.1577  0.9974 -0.1579  0.2815  0.2936 -0.0931  0.0978  0.1899  0.1290   \n",
              "2   0.1927 -0.1579  0.9974 -0.6801  0.0281  0.1080 -0.0870 -0.2911 -0.2412   \n",
              "3   0.4747  0.2815 -0.6801  0.9974  0.1628 -0.1027  0.0810  0.2781  0.2278   \n",
              "4   0.2467  0.2936  0.0281  0.1628  0.9974 -0.0840 -0.0820 -0.0566 -0.0091   \n",
              "5   0.0301 -0.0931  0.1080 -0.1027 -0.0840  0.9974 -0.6761 -0.0918  0.2535   \n",
              "6  -0.0634  0.0978 -0.0870  0.0810 -0.0820 -0.6761  0.9974  0.2547 -0.2589   \n",
              "7   0.0622  0.1899 -0.2911  0.2781 -0.0566 -0.0918  0.2547  0.9974  0.8579   \n",
              "8   0.0915  0.1290 -0.2412  0.2278 -0.0091  0.2535 -0.2589  0.8579  0.9974   \n",
              "9   0.2072  0.1624  0.0317  0.1152  0.4523 -0.0353 -0.0406  0.0972  0.1211   \n",
              "10  0.1658  0.0202  0.0781  0.0381  0.0685 -0.0709  0.0435  0.1660  0.1449   \n",
              "11  0.1337  0.2218 -0.2760  0.3125  0.1502  0.0458  0.0573  0.8456  0.8086   \n",
              "12  0.0931  0.1379 -0.2233  0.2084  0.0047  0.2713 -0.0957  0.8249  0.8795   \n",
              "13  0.0916  0.1846 -0.1584  0.2427  0.2745 -0.3454  0.2519  0.2498  0.1006   \n",
              "\n",
              "        9       10      11      12      13  \n",
              "0   0.2072  0.1658  0.1337  0.0931  0.0916  \n",
              "1   0.1624  0.0202  0.2218  0.1379  0.1846  \n",
              "2   0.0317  0.0781 -0.2760 -0.2233 -0.1584  \n",
              "3   0.1152  0.0381  0.3125  0.2084  0.2427  \n",
              "4   0.4523  0.0685  0.1502  0.0047  0.2745  \n",
              "5  -0.0353 -0.0709  0.0458  0.2713 -0.3454  \n",
              "6  -0.0406  0.0435  0.0573 -0.0957  0.2519  \n",
              "7   0.0972  0.1660  0.8456  0.8249  0.2498  \n",
              "8   0.1211  0.1449  0.8086  0.8795  0.1006  \n",
              "9   0.9974  0.6021  0.2104  0.1549  0.1375  \n",
              "10  0.6021  0.9974  0.1654  0.1435  0.0777  \n",
              "11  0.2104  0.1654  0.9974  0.8330  0.5129  \n",
              "12  0.1549  0.1435  0.8330  0.9974 -0.0376  \n",
              "13  0.1375  0.0777  0.5129 -0.0376  0.9974  "
            ]
          },
          "execution_count": 74,
          "metadata": {},
          "output_type": "execute_result"
        }
      ],
      "source": [
        "coMatrix = pd.DataFrame(np.cov(standarized_df, bias=True, rowvar=False))\n",
        "round(coMatrix,4)"
      ]
    },
    {
      "cell_type": "code",
      "execution_count": null,
      "metadata": {
        "id": "pkJrTOamGd9l"
      },
      "outputs": [],
      "source": [
        "coMatrix_1 = coMatrix.to_numpy()"
      ]
    },
    {
      "cell_type": "code",
      "execution_count": null,
      "metadata": {
        "id": "vQCs-1yFGd9l",
        "outputId": "21229d4c-d89d-4693-e863-775597156f69"
      },
      "outputs": [
        {
          "name": "stdout",
          "output_type": "stream",
          "text": [
            "E-value:  [4.07533498e+00 2.27001689e+00 1.90102021e+00 1.47892233e+00\n",
            " 1.05840423e+00 9.73266762e-01 8.24493089e-01 5.91147380e-01\n",
            " 3.35495044e-01 2.60850351e-01 1.20842459e-01 6.62383799e-02\n",
            " 1.99377577e-03 6.07669223e-03]\n",
            "E-vector:  [[ 1.18911269e-01  1.46872500e-01 -3.52387140e-01 -2.52371762e-01\n",
            "  -6.51612421e-02  7.42019709e-01  7.56747648e-02 -1.22857588e-02\n",
            "   2.27731788e-02 -6.17171037e-02 -6.61715483e-02  4.54959015e-01\n",
            "  -2.68884146e-03  1.51729327e-03]\n",
            " [ 1.66169296e-01  2.24032049e-01 -8.54230257e-02 -2.27127398e-01\n",
            "   2.89043540e-01 -9.90542755e-02 -7.44451120e-01  4.59149712e-01\n",
            "   5.14851932e-02 -3.08826311e-02 -2.92462940e-02  2.02144307e-02\n",
            "  -1.33448232e-03  7.70723298e-03]\n",
            " [-2.07953014e-01 -1.10958328e-01 -3.13646541e-01  4.06993166e-01\n",
            "   3.66034638e-01  4.42208835e-01 -6.78719127e-02  5.43254083e-02\n",
            "   2.57616508e-03 -4.99209241e-02  8.21378966e-02 -5.78005390e-01\n",
            "  -1.63775636e-03  2.55656797e-04]\n",
            " [ 2.53157266e-01  2.40558569e-01  3.81629443e-02 -5.35046673e-01\n",
            "  -3.43066901e-01  1.23191799e-01  1.00006280e-01 -1.96447191e-02\n",
            "  -5.23628900e-02  1.71416677e-02  9.79247856e-02 -6.59105071e-01\n",
            "   1.56408984e-04  2.97318978e-03]\n",
            " [ 9.17700074e-02  2.69947550e-01 -3.97163749e-01 -1.46366121e-01\n",
            "   4.03050197e-01 -2.47931470e-01  2.22624682e-02 -5.53014258e-01\n",
            "   5.86388331e-02  4.40636709e-01  1.06416606e-01  1.58916432e-02\n",
            "   5.02386370e-03 -1.01557469e-02]\n",
            " [ 1.38943873e-02 -5.07833902e-01 -2.51741361e-01 -2.37918216e-01\n",
            "   4.22674196e-02 -7.56102028e-02  5.06933342e-02  2.20617063e-01\n",
            "  -6.62812889e-01  2.16501682e-01  2.70078524e-01  6.20102805e-02\n",
            "  -2.70513109e-03  1.41010159e-02]\n",
            " [ 2.07908772e-02  4.21061346e-01  3.48565760e-01  3.08486999e-01\n",
            "  -8.39031248e-02  2.04760347e-01 -2.23796258e-01 -1.87648971e-01\n",
            "  -5.47337473e-01  1.64727782e-01  1.47389669e-01  5.62265574e-02\n",
            "   4.51637286e-02  3.43090186e-01]\n",
            " [ 4.40469768e-01 -6.07954173e-02  1.98470042e-01  2.07158808e-01\n",
            "   9.56149384e-03  1.20386270e-01 -9.55248495e-02 -9.13367380e-02\n",
            "   4.94825406e-02 -1.06902937e-04  4.95532598e-01  6.27877943e-02\n",
            "  -9.47337232e-02 -6.53464325e-01]\n",
            " [ 4.27273542e-01 -2.82737451e-01  1.57194780e-02  5.36841239e-02\n",
            "   4.71381740e-02  1.35738751e-02  1.27073315e-02 -2.44846171e-02\n",
            "   3.47659741e-01 -8.02899884e-02  3.99195824e-01  3.15079474e-02\n",
            "   9.26745379e-02  6.59505975e-01]\n",
            " [ 1.54411325e-01  1.93929626e-01 -4.99038408e-01  2.01134204e-01\n",
            "  -2.21537272e-01 -2.96346109e-01 -3.50436920e-02 -1.38101010e-01\n",
            "  -2.41322396e-01 -6.54657145e-01  7.01160832e-02  9.20675839e-03\n",
            "  -6.19025825e-03  1.60848588e-03]\n",
            " [ 1.30561506e-01  1.19137736e-01 -3.61127542e-01  3.84899581e-01\n",
            "  -5.05116874e-01 -8.42424036e-02  4.81692800e-03  3.41270723e-01\n",
            "   1.59291538e-01  5.33365926e-01 -3.94557529e-02 -6.65313356e-03\n",
            "   3.85891364e-03 -1.19986428e-03]\n",
            " [ 4.61970861e-01 -3.33550953e-02  5.13536429e-02  1.13262830e-01\n",
            "   2.03540248e-01  1.36498705e-03  1.72492627e-01  6.39414528e-02\n",
            "  -1.55319886e-01  7.48045586e-03 -4.17349111e-01 -5.48821770e-02\n",
            "   6.95348339e-01 -9.92477342e-02]\n",
            " [ 4.20757274e-01 -2.75603287e-01  2.06942448e-02  9.26680963e-02\n",
            "  -1.49120542e-03  5.17633992e-02 -1.51000364e-01 -2.17432856e-01\n",
            "  -1.15433579e-01  5.14128169e-02 -5.32420660e-01 -8.73973598e-02\n",
            "  -5.94095426e-01  7.21322672e-02]\n",
            " [ 1.84251319e-01  3.70795822e-01  6.26853968e-02  6.16088868e-02\n",
            "   3.75885294e-01 -8.64881327e-02  5.56071271e-01  4.47369640e-01\n",
            "  -8.58435334e-02 -4.56232434e-02  5.83484525e-02  3.34703304e-02\n",
            "  -3.79263781e-01  6.99684079e-02]]\n"
          ]
        }
      ],
      "source": [
        "w,v = eig(coMatrix_1)\n",
        "\n",
        "\n",
        "print('E-value: ', w)\n",
        "print('E-vector: ', v)"
      ]
    },
    {
      "cell_type": "code",
      "execution_count": null,
      "metadata": {
        "id": "Q6vn8sN1Gd9l",
        "outputId": "95ff8d3e-2791-4be3-dfd5-20022324679c"
      },
      "outputs": [
        {
          "data": {
            "text/plain": [
              "13.96410256410256"
            ]
          },
          "execution_count": 77,
          "metadata": {},
          "output_type": "execute_result"
        }
      ],
      "source": [
        "s = np.sum(w)\n",
        "s"
      ]
    },
    {
      "cell_type": "code",
      "execution_count": null,
      "metadata": {
        "id": "sQWqzCGsGd9m",
        "outputId": "8fa4e4b9-45f0-4d03-bd87-8f50d3372528"
      },
      "outputs": [
        {
          "name": "stdout",
          "output_type": "stream",
          "text": [
            "14\n"
          ]
        }
      ],
      "source": [
        "vector_length = len(v)\n",
        "print(vector_length)"
      ]
    },
    {
      "cell_type": "code",
      "execution_count": null,
      "metadata": {
        "id": "INxjkU4SGd9m",
        "outputId": "458d3525-e4ef-4586-97f0-f7e098e71482"
      },
      "outputs": [
        {
          "name": "stdout",
          "output_type": "stream",
          "text": [
            "[29.184367264820477, 16.25608860334383, 13.613622527587665, 10.590887032303819, 7.5794647279245355, 6.969776665105042, 5.9043757714874925, 4.233335996069452, 2.402553564154165, 1.8680065505358316, 0.8653793452664529, 0.4743475606865308, 0.014277865393416828, 0.043516525321307425]\n"
          ]
        },
        {
          "data": {
            "text/plain": [
              "array([2.91843673e-01, 1.62560886e-01, 1.36136225e-01, 1.05908870e-01,\n",
              "       7.57946473e-02, 6.96977667e-02, 5.90437577e-02, 4.23333600e-02,\n",
              "       2.40255356e-02, 1.86800655e-02, 8.65379345e-03, 4.74347561e-03,\n",
              "       1.42778654e-04, 4.35165253e-04])"
            ]
          },
          "execution_count": 79,
          "metadata": {},
          "output_type": "execute_result"
        }
      ],
      "source": [
        "variance_explained = []\n",
        "for i in w:\n",
        "    variance_explained.append((i/sum(w))*100)\n",
        "\n",
        "print(variance_explained)\n",
        "\n",
        "variance_component = w/(w.sum())\n",
        "variance_component"
      ]
    },
    {
      "cell_type": "code",
      "execution_count": null,
      "metadata": {
        "id": "Qtvp6rjkGd9n"
      },
      "outputs": [],
      "source": [
        "variance_explained_sort = variance_explained"
      ]
    },
    {
      "cell_type": "code",
      "execution_count": null,
      "metadata": {
        "id": "wa7aQjm8Gd9n",
        "outputId": "3c6616e3-afe5-4daf-ec83-3cc9f1cabb3e"
      },
      "outputs": [
        {
          "data": {
            "text/plain": [
              "59.05407839575197"
            ]
          },
          "execution_count": 81,
          "metadata": {},
          "output_type": "execute_result"
        }
      ],
      "source": [
        "variance_explained_sort.sort(reverse = True)\n",
        "variance_explained_sort[0]+variance_explained_sort[1]+variance_explained_sort[2]"
      ]
    },
    {
      "cell_type": "code",
      "execution_count": null,
      "metadata": {
        "id": "F4Z-Jrj9Gd9o",
        "outputId": "d589f168-0b5c-4022-eff8-d2cf9838dedb"
      },
      "outputs": [
        {
          "data": {
            "image/png": "[encoded data removed]",
            "text/plain": [
              "<Figure size 432x288 with 1 Axes>"
            ]
          },
          "metadata": {},
          "output_type": "display_data"
        }
      ],
      "source": [
        "with plt.style.context('ggplot'):\n",
        "    plt.figure(figsize=(6,4))\n",
        "\n",
        "plt.bar(range(14), variance_explained, alpha=0.5, align='center', label='Varianza individual explicada')\n",
        "plt.ylabel('Radio de varianza explicada')\n",
        "plt.xlabel('Componentes principales')\n",
        "plt.legend()\n",
        "plt.tight_layout()"
      ]
    },
    {
      "cell_type": "code",
      "execution_count": null,
      "metadata": {
        "id": "B9b_ZlSBGd9o",
        "outputId": "82607c70-b7b5-4a16-a463-9a9e3a7407e6"
      },
      "outputs": [
        {
          "name": "stdout",
          "output_type": "stream",
          "text": [
            "[ 29.18436726  45.44045587  59.0540784   69.64496543  77.22443016\n",
            "  84.19420682  90.09858259  94.33191859  96.73447215  98.6024787\n",
            "  99.46785805  99.94220561  99.98572213 100.        ]\n"
          ]
        }
      ],
      "source": [
        "cumulative_variance_explained = np.cumsum(variance_explained)\n",
        "print(cumulative_variance_explained)"
      ]
    },
    {
      "cell_type": "code",
      "execution_count": null,
      "metadata": {
        "id": "Nj4E9ue3Gd9o",
        "outputId": "c685a452-fc78-43bb-82ac-11edc8d3141b"
      },
      "outputs": [
        {
          "data": {
            "text/plain": [
              "Text(0.5, 1.0, 'Varianza extendida vs Numero de componentes')"
            ]
          },
          "execution_count": 87,
          "metadata": {},
          "output_type": "execute_result"
        },
        {
          "data": {
            "image/png": "[encoded data removed]",
            "text/plain": [
              "<Figure size 432x288 with 1 Axes>"
            ]
          },
          "metadata": {
            "needs_background": "light"
          },
          "output_type": "display_data"
        }
      ],
      "source": [
        "sns.lineplot(x = [1,2,3,4,5,6,7,8,9,10,11,12,13,14], y=cumulative_variance_explained)\n",
        "plt.xlabel(\"Numero de componentes\")\n",
        "plt.ylabel(\"Varianza extendida acumulada\")\n",
        "plt.title(\"Varianza extendida vs Numero de componentes\")"
      ]
    },
    {
      "cell_type": "code",
      "execution_count": null,
      "metadata": {
        "id": "FySVDPyHGd9o",
        "outputId": "3089f629-01ed-4cba-fb7a-efb8700f86b0"
      },
      "outputs": [
        {
          "data": {
            "image/png": "[encoded data removed]",
            "text/plain": [
              "<Figure size 432x288 with 1 Axes>"
            ]
          },
          "metadata": {
            "needs_background": "light"
          },
          "output_type": "display_data"
        }
      ],
      "source": [
        "x_labels = ['PC{}'.format(i+1) for i in range(len(variance_explained))]\n",
        "plt.plot(x_labels, variance_explained, marker='o', markersize=6, color='skyblue', linewidth=2, label='Proporcion de varianza')\n",
        "plt.plot(x_labels, cumulative_variance_explained, marker='o', markersize=6, color='orange', linewidth=2, label='Varianza acumuluda')\n",
        "plt.legend()\n",
        "plt.title('Scree plot')\n",
        "plt.xlabel('Componentes principales')\n",
        "plt.ylabel('Proporcion de varianza')\n",
        "plt.show()"
      ]
    },
    {
      "cell_type": "code",
      "execution_count": null,
      "metadata": {
        "id": "Bt9vl5-vGd9p",
        "outputId": "d4669799-3c85-4a6b-f878-d98c183016e6"
      },
      "outputs": [
        {
          "name": "stdout",
          "output_type": "stream",
          "text": [
            "[[ 0.11891127  0.1468725 ]\n",
            " [ 0.1661693   0.22403205]\n",
            " [-0.20795301 -0.11095833]\n",
            " [ 0.25315727  0.24055857]\n",
            " [ 0.09177001  0.26994755]\n",
            " [ 0.01389439 -0.5078339 ]\n",
            " [ 0.02079088  0.42106135]\n",
            " [ 0.44046977 -0.06079542]\n",
            " [ 0.42727354 -0.28273745]\n",
            " [ 0.15441133  0.19392963]\n",
            " [ 0.13056151  0.11913774]\n",
            " [ 0.46197086 -0.0333551 ]\n",
            " [ 0.42075727 -0.27560329]\n",
            " [ 0.18425132  0.37079582]]\n"
          ]
        }
      ],
      "source": [
        "projection_matrix = (v.T[:][:2]).T\n",
        "print(projection_matrix)"
      ]
    },
    {
      "cell_type": "code",
      "execution_count": null,
      "metadata": {
        "id": "GFG4tzcEGd9p",
        "outputId": "126e9709-ce09-4881-d355-d1bc71a118c2"
      },
      "outputs": [
        {
          "name": "stdout",
          "output_type": "stream",
          "text": [
            "            0         1\n",
            "0   -2.623380 -1.522847\n",
            "1   -2.248262 -2.302314\n",
            "2   -0.139811 -1.386888\n",
            "3   -3.212005 -1.407491\n",
            "4   -2.742639 -0.809227\n",
            "..        ...       ...\n",
            "385 -0.710386  0.165226\n",
            "386  2.074340 -0.437775\n",
            "387 -2.209915 -0.067235\n",
            "388 -1.752766  0.411509\n",
            "389  2.781446 -0.928058\n",
            "\n",
            "[390 rows x 2 columns]\n"
          ]
        }
      ],
      "source": [
        "X_pca = standarized_df.dot(projection_matrix)\n",
        "print(X_pca)"
      ]
    },
    {
      "cell_type": "code",
      "execution_count": null,
      "metadata": {
        "id": "hkLA_m2HGd9r",
        "outputId": "cd5cf341-edc3-4b7a-97d6-b0f1b6d5a1b4"
      },
      "outputs": [
        {
          "data": {
            "text/html": [
              "<div>\n",
              "<style scoped>\n",
              "    .dataframe tbody tr th:only-of-type {\n",
              "        vertical-align: middle;\n",
              "    }\n",
              "\n",
              "    .dataframe tbody tr th {\n",
              "        vertical-align: top;\n",
              "    }\n",
              "\n",
              "    .dataframe thead th {\n",
              "        text-align: right;\n",
              "    }\n",
              "</style>\n",
              "<table border=\"1\" class=\"dataframe\">\n",
              "  <thead>\n",
              "    <tr style=\"text-align: right;\">\n",
              "      <th></th>\n",
              "      <th>PC1</th>\n",
              "      <th>PC2</th>\n",
              "    </tr>\n",
              "  </thead>\n",
              "  <tbody>\n",
              "    <tr>\n",
              "      <th>0</th>\n",
              "      <td>-2.623380</td>\n",
              "      <td>-1.522847</td>\n",
              "    </tr>\n",
              "    <tr>\n",
              "      <th>1</th>\n",
              "      <td>-2.248262</td>\n",
              "      <td>-2.302314</td>\n",
              "    </tr>\n",
              "    <tr>\n",
              "      <th>2</th>\n",
              "      <td>-0.139811</td>\n",
              "      <td>-1.386888</td>\n",
              "    </tr>\n",
              "    <tr>\n",
              "      <th>3</th>\n",
              "      <td>-3.212005</td>\n",
              "      <td>-1.407491</td>\n",
              "    </tr>\n",
              "    <tr>\n",
              "      <th>4</th>\n",
              "      <td>-2.742639</td>\n",
              "      <td>-0.809227</td>\n",
              "    </tr>\n",
              "    <tr>\n",
              "      <th>...</th>\n",
              "      <td>...</td>\n",
              "      <td>...</td>\n",
              "    </tr>\n",
              "    <tr>\n",
              "      <th>385</th>\n",
              "      <td>-0.710386</td>\n",
              "      <td>0.165226</td>\n",
              "    </tr>\n",
              "    <tr>\n",
              "      <th>386</th>\n",
              "      <td>2.074340</td>\n",
              "      <td>-0.437775</td>\n",
              "    </tr>\n",
              "    <tr>\n",
              "      <th>387</th>\n",
              "      <td>-2.209915</td>\n",
              "      <td>-0.067235</td>\n",
              "    </tr>\n",
              "    <tr>\n",
              "      <th>388</th>\n",
              "      <td>-1.752766</td>\n",
              "      <td>0.411509</td>\n",
              "    </tr>\n",
              "    <tr>\n",
              "      <th>389</th>\n",
              "      <td>2.781446</td>\n",
              "      <td>-0.928058</td>\n",
              "    </tr>\n",
              "  </tbody>\n",
              "</table>\n",
              "<p>390 rows × 2 columns</p>\n",
              "</div>"
            ],
            "text/plain": [
              "          PC1       PC2\n",
              "0   -2.623380 -1.522847\n",
              "1   -2.248262 -2.302314\n",
              "2   -0.139811 -1.386888\n",
              "3   -3.212005 -1.407491\n",
              "4   -2.742639 -0.809227\n",
              "..        ...       ...\n",
              "385 -0.710386  0.165226\n",
              "386  2.074340 -0.437775\n",
              "387 -2.209915 -0.067235\n",
              "388 -1.752766  0.411509\n",
              "389  2.781446 -0.928058\n",
              "\n",
              "[390 rows x 2 columns]"
            ]
          },
          "execution_count": 91,
          "metadata": {},
          "output_type": "execute_result"
        }
      ],
      "source": [
        "X_pca.rename(columns={0: \"PC1\", 1: \"PC2\"})"
      ]
    },
    {
      "cell_type": "code",
      "execution_count": null,
      "metadata": {
        "id": "dGFQNZq6Gd9s",
        "outputId": "1f2b9304-237f-4679-bf21-7e526ba72891"
      },
      "outputs": [
        {
          "data": {
            "text/html": [
              "<div>\n",
              "<style scoped>\n",
              "    .dataframe tbody tr th:only-of-type {\n",
              "        vertical-align: middle;\n",
              "    }\n",
              "\n",
              "    .dataframe tbody tr th {\n",
              "        vertical-align: top;\n",
              "    }\n",
              "\n",
              "    .dataframe thead th {\n",
              "        text-align: right;\n",
              "    }\n",
              "</style>\n",
              "<table border=\"1\" class=\"dataframe\">\n",
              "  <thead>\n",
              "    <tr style=\"text-align: right;\">\n",
              "      <th></th>\n",
              "      <th>0</th>\n",
              "      <th>1</th>\n",
              "    </tr>\n",
              "  </thead>\n",
              "  <tbody>\n",
              "    <tr>\n",
              "      <th>0</th>\n",
              "      <td>-2.623380</td>\n",
              "      <td>-1.522847</td>\n",
              "    </tr>\n",
              "    <tr>\n",
              "      <th>1</th>\n",
              "      <td>-2.248262</td>\n",
              "      <td>-2.302314</td>\n",
              "    </tr>\n",
              "    <tr>\n",
              "      <th>2</th>\n",
              "      <td>-0.139811</td>\n",
              "      <td>-1.386888</td>\n",
              "    </tr>\n",
              "    <tr>\n",
              "      <th>3</th>\n",
              "      <td>-3.212005</td>\n",
              "      <td>-1.407491</td>\n",
              "    </tr>\n",
              "    <tr>\n",
              "      <th>4</th>\n",
              "      <td>-2.742639</td>\n",
              "      <td>-0.809227</td>\n",
              "    </tr>\n",
              "    <tr>\n",
              "      <th>...</th>\n",
              "      <td>...</td>\n",
              "      <td>...</td>\n",
              "    </tr>\n",
              "    <tr>\n",
              "      <th>385</th>\n",
              "      <td>-0.710386</td>\n",
              "      <td>0.165226</td>\n",
              "    </tr>\n",
              "    <tr>\n",
              "      <th>386</th>\n",
              "      <td>2.074340</td>\n",
              "      <td>-0.437775</td>\n",
              "    </tr>\n",
              "    <tr>\n",
              "      <th>387</th>\n",
              "      <td>-2.209915</td>\n",
              "      <td>-0.067235</td>\n",
              "    </tr>\n",
              "    <tr>\n",
              "      <th>388</th>\n",
              "      <td>-1.752766</td>\n",
              "      <td>0.411509</td>\n",
              "    </tr>\n",
              "    <tr>\n",
              "      <th>389</th>\n",
              "      <td>2.781446</td>\n",
              "      <td>-0.928058</td>\n",
              "    </tr>\n",
              "  </tbody>\n",
              "</table>\n",
              "<p>390 rows × 2 columns</p>\n",
              "</div>"
            ],
            "text/plain": [
              "            0         1\n",
              "0   -2.623380 -1.522847\n",
              "1   -2.248262 -2.302314\n",
              "2   -0.139811 -1.386888\n",
              "3   -3.212005 -1.407491\n",
              "4   -2.742639 -0.809227\n",
              "..        ...       ...\n",
              "385 -0.710386  0.165226\n",
              "386  2.074340 -0.437775\n",
              "387 -2.209915 -0.067235\n",
              "388 -1.752766  0.411509\n",
              "389  2.781446 -0.928058\n",
              "\n",
              "[390 rows x 2 columns]"
            ]
          },
          "execution_count": 92,
          "metadata": {},
          "output_type": "execute_result"
        }
      ],
      "source": [
        "X_pca_pd = pd.DataFrame(X_pca)\n",
        "X_pca_pd"
      ]
    },
    {
      "cell_type": "code",
      "execution_count": null,
      "metadata": {
        "id": "Ph8suascGd9s",
        "outputId": "5e23d3ce-e18f-46df-b435-d9128dd12368"
      },
      "outputs": [
        {
          "data": {
            "application/vnd.plotly.v1+json": {
              "config": {
                "plotlyServerURL": "https://plot.ly"
              },
              "data": [
                {
                  "hovertemplate": "0=%{x}<br>1=%{y}<br>color=%{marker.color}<extra></extra>",
                  "legendgroup": "",
                  "marker": {
                    "color": [
                      0,
                      0,
                      0,
                      0,
                      0,
                      0,
                      0,
                      0,
                      0,
                      0,
                      0,
                      0,
                      0,
                      0,
                      0,
                      0,
                      0,
                      0,
                      0,
                      0,
                      0,
                      0,
                      0,
                      0,
                      0,
                      0,
                      0,
                      0,
                      0,
                      0,
                      0,
                      0,
                      0,
                      0,
                      0,
                      0,
                      0,
                      0,
                      0,
                      0,
                      1,
                      0,
                      0,
                      0,
                      0,
                      0,
                      0,
                      0,
                      0,
                      0,
                      0,
                      0,
                      0,
                      0,
                      0,
                      0,
                      0,
                      0,
                      0,
                      0,
                      0,
                      0,
                      0,
                      0,
                      1,
                      0,
                      0,
                      0,
                      0,
                      0,
                      0,
                      0,
                      0,
                      0,
                      0,
                      0,
                      0,
                      0,
                      0,
                      0,
                      0,
                      0,
                      1,
                      0,
                      0,
                      0,
                      0,
                      0,
                      0,
                      0,
                      0,
                      0,
                      0,
                      0,
                      0,
                      0,
                      0,
                      0,
                      0,
                      0,
                      0,
                      0,
                      0,
                      0,
                      0,
                      0,
                      0,
                      0,
                      0,
                      0,
                      0,
                      0,
                      0,
                      0,
                      0,
                      0,
                      0,
                      1,
                      0,
                      0,
                      0,
                      0,
                      0,
                      0,
                      0,
                      0,
                      0,
                      0,
                      0,
                      0,
                      0,
                      0,
                      0,
                      0,
                      0,
                      0,
                      0,
                      0,
                      0,
                      1,
                      0,
                      0,
                      0,
                      0,
                      0,
                      0,
                      0,
                      0,
                      0,
                      0,
                      0,
                      0,
                      0,
                      0,
                      0,
                      0,
                      0,
                      1,
                      0,
                      0,
                      0,
                      0,
                      0,
                      0,
                      0,
                      0,
                      0,
                      0,
                      0,
                      0,
                      0,
                      0,
                      0,
                      0,
                      0,
                      0,
                      0,
                      0,
                      0,
                      0,
                      0,
                      0,
                      0,
                      0,
                      0,
                      0,
                      0,
                      0,
                      1,
                      0,
                      0,
                      0,
                      0,
                      0,
                      1,
                      0,
                      0,
                      0,
                      0,
                      0,
                      0,
                      0,
                      1,
                      0,
                      0,
                      0,
                      0,
                      0,
                      0,
                      0,
                      0,
                      0,
                      1,
                      1,
                      0,
                      0,
                      0,
                      0,
                      0,
                      0,
                      0,
                      0,
                      0,
                      1,
                      1,
                      0,
                      0,
                      0,
                      0,
                      0,
                      0,
                      0,
                      0,
                      1,
                      1,
                      0,
                      0,
                      0,
                      0,
                      0,
                      1,
                      1,
                      1,
                      0,
                      0,
                      0,
                      0,
                      0,
                      0,
                      0,
                      1,
                      0,
                      0,
                      0,
                      0,
                      1,
                      1,
                      0,
                      0,
                      0,
                      0,
                      0,
                      0,
                      0,
                      0,
                      0,
                      0,
                      0,
                      1,
                      0,
                      0,
                      1,
                      1,
                      0,
                      0,
                      1,
                      0,
                      0,
                      0,
                      0,
                      0,
                      1,
                      0,
                      0,
                      0,
                      0,
                      1,
                      1,
                      1,
                      1,
                      0,
                      0,
                      0,
                      0,
                      0,
                      0,
                      0,
                      1,
                      1,
                      1,
                      0,
                      0,
                      0,
                      0,
                      0,
                      1,
                      1,
                      0,
                      0,
                      0,
                      1,
                      1,
                      0,
                      0,
                      0,
                      0,
                      0,
                      0,
                      0,
                      0,
                      1,
                      1,
                      1,
                      0,
                      0,
                      1,
                      1,
                      1,
                      0,
                      0,
                      0,
                      0,
                      1,
                      1,
                      0,
                      0,
                      0,
                      0,
                      0,
                      1,
                      1,
                      0,
                      0,
                      0,
                      1,
                      0,
                      0,
                      0,
                      0,
                      0,
                      0,
                      0,
                      1,
                      1,
                      0,
                      0,
                      0,
                      1,
                      0,
                      0,
                      0,
                      1,
                      0,
                      1,
                      0,
                      0,
                      1,
                      0,
                      1,
                      0,
                      0,
                      0,
                      0,
                      1,
                      0,
                      0,
                      0,
                      0,
                      0,
                      1,
                      0,
                      1,
                      0,
                      0,
                      0,
                      0,
                      1,
                      0,
                      1,
                      0
                    ],
                    "coloraxis": "coloraxis",
                    "symbol": "circle"
                  },
                  "mode": "markers",
                  "name": "",
                  "orientation": "v",
                  "showlegend": false,
                  "type": "scatter",
                  "x": [
                    -2.623380007856749,
                    -2.248262170036989,
                    -0.13981102326462747,
                    -3.2120047763810726,
                    -2.7426388426056656,
                    -1.5468637220860821,
                    -3.1277371107936256,
                    -3.3939594913971547,
                    -2.100274781288793,
                    -0.508919114500879,
                    -1.6868408532504737,
                    3.7094470212158694,
                    -0.606397941964967,
                    -2.971822243585276,
                    -2.6268794003268847,
                    -0.723010399404617,
                    -2.259653092448087,
                    1.4213288431243134,
                    -3.492079510919827,
                    -1.8367822578973803,
                    1.3141399284654143,
                    -3.4166561407834974,
                    -1.7108864197585827,
                    1.8794698186570018,
                    4.004469082049762,
                    0.6313325558261036,
                    -0.9861459416823753,
                    0.7168335700007297,
                    -2.2898598262099084,
                    1.7746151868470577,
                    -2.4221660141899823,
                    -3.0072060714118094,
                    3.043892678301696,
                    -0.35040578776485015,
                    -1.5961914264268544,
                    0.01623744251003259,
                    -2.8941553772961437,
                    -2.2242704564840237,
                    1.0960646725098127,
                    3.039581306905478,
                    -2.088875084460537,
                    -3.4303759813299046,
                    -1.9472274920420278,
                    -0.005447206203180344,
                    1.1630025118477534,
                    -0.41908758100512367,
                    3.375839398013133,
                    -1.0972484819126316,
                    -3.0624043234739236,
                    0.5473599554641879,
                    -0.39216960485718666,
                    0.40065188017861253,
                    -3.1769862006037712,
                    -0.9944174100781017,
                    0.5598361490123989,
                    -3.4741603007657815,
                    0.12482251794051215,
                    1.1659619648638369,
                    -0.9918034818101776,
                    -3.552320597920833,
                    -3.6140427273579663,
                    -2.652675020609085,
                    2.3250364158219847,
                    -0.35723703492646625,
                    -0.7393550010575507,
                    -2.6987951704086837,
                    -0.9939624306705137,
                    3.3584407036512003,
                    -1.7803810145646382,
                    -2.3550315149833145,
                    -2.0489438903114077,
                    1.7733857612539412,
                    -1.1247487414069397,
                    2.338009869482472,
                    0.16876880075889827,
                    -1.5483902768566333,
                    -3.081962863099175,
                    2.0426938365753617,
                    -1.912654915092225,
                    -2.403943138666527,
                    0.07134638131067317,
                    0.8259317189222045,
                    3.7323257698672956,
                    -2.4040668761839887,
                    -0.00902251338471824,
                    2.9799095444768944,
                    1.203890580815211,
                    -0.6441246891065071,
                    1.270959287803473,
                    4.206224913312162,
                    -3.424020765186068,
                    -1.9439913240827909,
                    -0.5616374978399112,
                    -1.96312027943838,
                    -0.25170913032787623,
                    -0.6498245916615553,
                    1.268779926660134,
                    -0.34877980668811825,
                    -1.440188961358345,
                    0.39220817776177974,
                    -2.479962333112934,
                    -1.422182659012162,
                    -0.17780055065831837,
                    -1.8626367952359828,
                    0.4286500773061101,
                    -0.3847600057762727,
                    0.7781892524533156,
                    -0.0815744030912799,
                    -0.4805198843645819,
                    2.2703278740363144,
                    -1.983730754558903,
                    -2.0228776795869146,
                    -2.6530156168744785,
                    -1.798379667035314,
                    1.0603096964534409,
                    -2.4853655470327727,
                    4.98046938875556,
                    1.112633661736808,
                    -0.31370538848715557,
                    0.3274362981590035,
                    -1.7961136839832583,
                    -1.5445687446448524,
                    2.720121666432082,
                    1.9932602725397028,
                    -1.5482415639183964,
                    2.5107610677478895,
                    2.99314200808063,
                    -0.17663798734832128,
                    1.6170710131631658,
                    -2.0027991331857464,
                    -0.24173226567599737,
                    0.4770551576605348,
                    1.6141410646125878,
                    -1.861184338450382,
                    1.7921249892624767,
                    -1.2133767180885398,
                    0.7927489816125923,
                    3.9044406466890584,
                    -1.108720575883541,
                    4.4317558746802055,
                    3.039427181763616,
                    -1.2039242142246551,
                    -3.926469380526711,
                    -0.2588516022673251,
                    1.649706344834931,
                    -1.257266564545615,
                    0.550394191220003,
                    -1.0941546941597537,
                    -1.022879544256886,
                    0.7064890287581655,
                    0.5441254834184706,
                    -0.21305425506139808,
                    4.9655635811814545,
                    2.210520337731733,
                    2.7201808558412166,
                    0.15902575071488417,
                    -0.18682446418243193,
                    2.0794043946939142,
                    -0.10249074630243521,
                    0.743841187284231,
                    -1.1893717332998492,
                    -0.574057194980482,
                    -3.7493381631704787,
                    -2.3526564295163794,
                    -1.5196447807941271,
                    0.7057471967410558,
                    -2.3972772325576512,
                    -3.248537329238541,
                    -0.2211746004631962,
                    0.6539441522698699,
                    0.9078286466206327,
                    -1.3195066212019322,
                    -0.40331239120244633,
                    3.2342557144750375,
                    0.07758943727895369,
                    -0.7846406748466805,
                    -1.571254192408573,
                    -1.0015599131299915,
                    3.3516027356525626,
                    0.8390799224653732,
                    0.6272657243739127,
                    -2.0655054075050963,
                    -1.7312898129950967,
                    -0.3532110765862116,
                    5.891128947550881,
                    0.14995319838198956,
                    0.14322555449449498,
                    0.17646378530065687,
                    0.6370630030077915,
                    -1.1353741742529053,
                    -0.25764004389822676,
                    -0.47583895950213156,
                    -0.09635212462949615,
                    0.7099548179669286,
                    1.9713293353583807,
                    -3.374223546717147,
                    0.2258770070489834,
                    -2.1399761350347135,
                    0.3696997528823128,
                    -1.163041927776191,
                    -2.3001295825500034,
                    1.6031209058209854,
                    1.978443958903628,
                    1.966824465268368,
                    -3.10562355333956,
                    1.216198581586908,
                    0.32885277944853375,
                    0.054642732850419776,
                    1.6585442976621514,
                    -2.7805320053988924,
                    -1.4269872074462029,
                    2.5667958847915253,
                    -0.044039206258018354,
                    2.8208470033355066,
                    -0.8265360657166155,
                    -3.840077484062414,
                    -0.28350572623220477,
                    -1.8616296642699406,
                    -2.050200442664396,
                    -2.3103017546384828,
                    0.3297662435432754,
                    0.5106249848924985,
                    0.49320774948175805,
                    3.7192787692787603,
                    1.6168248128268599,
                    -0.7821683607624235,
                    0.6825580421690397,
                    -1.167879912528876,
                    1.7341184922338502,
                    -0.8033710304816223,
                    -1.2314982382988862,
                    4.63598389488394,
                    1.1008336903373883,
                    6.242731421859389,
                    0.3149731289806838,
                    -1.8189014390532088,
                    -0.7601143962154617,
                    -3.368024335975175,
                    2.224903577080238,
                    0.24799659966979157,
                    4.8955118903188275,
                    1.6857252440553865,
                    5.466394219600477,
                    0.3588645769572814,
                    -2.1929357187680494,
                    -2.8393678973839567,
                    -2.4054621289405005,
                    -1.314707283537437,
                    1.0234732907766508,
                    -2.7818591105779626,
                    -1.2756215430635938,
                    0.1451121840069091,
                    0.11535267732973917,
                    0.6749139745280754,
                    -0.9212161260409397,
                    2.8212011544275732,
                    0.773319634913868,
                    -0.8690685873781986,
                    -2.5288554378961745,
                    -1.5761954131002178,
                    0.10470727235186617,
                    1.557257463932478,
                    -2.504640055976184,
                    1.238561240883818,
                    -2.7900848874240287,
                    1.5833411061662426,
                    2.1158661800413983,
                    1.7164241315310302,
                    -0.5260909685407177,
                    0.04458313804918833,
                    -1.8454693406612608,
                    1.4179600611599577,
                    1.8148223455032606,
                    -1.991409427605359,
                    -2.7191565769199895,
                    -0.8794956744314474,
                    4.907521758836757,
                    1.4583705677000862,
                    2.342755416379543,
                    0.46960162961600543,
                    0.3688375215489079,
                    -0.9806997916423801,
                    0.2507576287387497,
                    -0.35337068210967437,
                    0.5335315619896488,
                    -1.9429408634961307,
                    1.6772605603131203,
                    0.15413710758747703,
                    -0.5933351557080152,
                    0.7220532088261353,
                    -1.284096072987843,
                    -1.9789914684810994,
                    -0.13886539178545418,
                    0.8838653010885544,
                    -1.418941128749139,
                    -2.6553602467571467,
                    -0.342792633438352,
                    3.971545668858937,
                    1.2144766905697402,
                    -1.4106280491720873,
                    1.6292768266573583,
                    0.7708495239691512,
                    1.7157919891736728,
                    1.7820377642801044,
                    -2.128391601163072,
                    1.3218325985292552,
                    1.8747851804477682,
                    -0.2450291640290771,
                    3.4134339649322665,
                    -0.5586600819898055,
                    5.70160360882901,
                    2.6030211145340525,
                    -0.5926603045307097,
                    -0.3906769132810176,
                    -0.666002272799303,
                    -0.5589995619240972,
                    0.5319926234251205,
                    2.907041442404177,
                    3.6206005779442836,
                    -0.4171546832257768,
                    3.340901701311101,
                    -0.6911248361475841,
                    3.223998033360153,
                    1.4423081027329685,
                    2.561538626753462,
                    2.4117712675484566,
                    1.8441895243383737,
                    -0.14386064779084987,
                    2.1946008854367944,
                    -1.1603570490769664,
                    1.70948241139047,
                    0.48966721450882844,
                    1.3418548330152753,
                    2.450444923689699,
                    -3.3208276046808662,
                    -0.04035330640450299,
                    2.711641710173948,
                    -2.857435110568643,
                    2.8021654847787723,
                    1.8041596892493437,
                    -0.2840572632279805,
                    -2.128370894715911,
                    -0.4139296460477569,
                    -0.1026031063121028,
                    0.5133288297768871,
                    -2.001616967334366,
                    -0.010261598556059084,
                    -1.159525852873117,
                    -2.7254752471067363,
                    1.8340156368002927,
                    0.8930533198446676,
                    0.5141722289597562,
                    2.2859624440894604,
                    3.8240677113682677,
                    -2.027440040926119,
                    -0.5468222683814912,
                    3.481440454043786,
                    -0.7232602772125536,
                    1.0132309604898178,
                    1.111769266815399,
                    -0.2656213369730763,
                    0.21747885280631973,
                    1.4787391047955574,
                    0.5913159311707603,
                    0.4358826460743636,
                    1.7146417524503421,
                    2.0946377740238864,
                    1.8321766081204802,
                    3.083274147694949,
                    -0.2363875559799589,
                    -0.7652793460733855,
                    -3.041756055717388,
                    -3.35192482260472,
                    -1.0162200043942244,
                    -2.8528865360541724,
                    -1.6423750723586223,
                    -0.01587273772811787,
                    0.9596278204635842,
                    -1.0043436449409122,
                    0.7994903956740178,
                    1.8313298719440547,
                    0.8020858255498768,
                    0.2755513470532967,
                    1.1070979090516608,
                    0.8493377082197938,
                    -0.7103858537888911,
                    2.0743400440848876,
                    -2.209914822721879,
                    -1.7527662355570184,
                    2.781445671480271
                  ],
                  "xaxis": "x",
                  "y": [
                    -1.5228470832661443,
                    -2.3023137108969625,
                    -1.386887523533619,
                    -1.4074912275785298,
                    -0.809227216857441,
                    -1.5924956111993998,
                    -1.5479868088823732,
                    0.34368553194284185,
                    -0.13826915045983174,
                    -3.0429280242912222,
                    -0.12273956644092762,
                    -2.2096326552117445,
                    -1.4387491960873722,
                    -2.1379938300337984,
                    -0.3247360567435081,
                    -1.3955299241505288,
                    0.44190715760269317,
                    -3.3427085631539155,
                    -1.284924049369814,
                    -1.2530544638590444,
                    -1.139239264698512,
                    -1.8420033750661011,
                    -1.3792134693723315,
                    -2.257676702398607,
                    1.0736157238147452,
                    -2.311301410875726,
                    0.7844724149784403,
                    -0.9718452467778095,
                    0.8594919189402301,
                    -1.2352753823079339,
                    -1.1256610267645077,
                    0.9567255499599285,
                    -3.2701730888281095,
                    -1.349267876053082,
                    1.0173870954330992,
                    -1.8292297919490859,
                    0.4824414952677501,
                    -1.8499532658852798,
                    1.1829637542442728,
                    0.8636222231646759,
                    0.718013738800179,
                    -1.5776052650608468,
                    -0.28863991652599696,
                    -1.3594430113986968,
                    -1.429464415454312,
                    -1.6152006367204117,
                    -0.4296568759635554,
                    -1.8274021508955451,
                    0.485976052371906,
                    -0.7146451318000064,
                    -0.9336354559294531,
                    0.8142877986838215,
                    0.7048589300516697,
                    1.1399155746024274,
                    -2.1482266595725155,
                    -0.7464688595333192,
                    -1.9688272620889813,
                    -2.177060853397428,
                    0.7019177575194835,
                    -1.5890078562878887,
                    -1.1980361177258572,
                    -0.9331588074501911,
                    -1.2845287718238372,
                    0.4882843616382827,
                    0.23741646688854823,
                    -1.238485890513975,
                    -0.5386731732387473,
                    -2.00128606182132,
                    0.9357109846070191,
                    -1.3388159251668916,
                    -2.2357432791003857,
                    1.0648795686821058,
                    0.6930911013639122,
                    0.31386054868810015,
                    -1.6458689789909484,
                    -1.7243959246552065,
                    -1.3970859495839556,
                    -1.8791256841470996,
                    -1.8559598431087942,
                    0.11122205563057191,
                    -0.6465570984004481,
                    0.843542928972485,
                    -2.21303749450453,
                    -1.672130531908612,
                    -2.134269083411346,
                    -3.453839066790509,
                    1.177470561940029,
                    -0.48050513536865,
                    -1.12216959527579,
                    -1.5592243652492372,
                    -0.7396777943993049,
                    0.7260385889991466,
                    -1.931808255391219,
                    0.6479615479423748,
                    -1.1849976990690823,
                    0.7741767461675144,
                    1.963938396784325,
                    -2.227600666068793,
                    -2.079034213189136,
                    0.825648244982417,
                    0.22236848790536728,
                    1.3766294943387822,
                    1.1021422481318661,
                    1.3339309969775912,
                    1.9688247266100878,
                    -0.7382434705552388,
                    1.1246789564545492,
                    -1.7706804226398427,
                    0.8090618083428697,
                    -2.2351250132322855,
                    -0.5078077631007508,
                    -0.3121076380645471,
                    0.3790337262500673,
                    0.5526368860975371,
                    1.5939710444900863,
                    0.8410112062041056,
                    2.134243691861893,
                    1.6585025451625188,
                    -0.2774878219682898,
                    1.1915240195091075,
                    -2.3376944208276393,
                    -1.2995983265537103,
                    -2.6857295632303226,
                    -1.2211357146832114,
                    1.0974909507736879,
                    0.33641308684038007,
                    0.7557433256129019,
                    -1.025942126922715,
                    -2.275522462872199,
                    -0.6226843881369998,
                    -0.6117739049309006,
                    0.954343582029703,
                    -1.4267739201802712,
                    -1.571730294074905,
                    -2.5129764495360916,
                    0.49393726024124185,
                    -0.9639584390074429,
                    -2.18853852150666,
                    1.8185245982936105,
                    -0.8558578433613978,
                    -1.9925299470050106,
                    -0.3731031871070791,
                    -0.9541437828958907,
                    -0.5048987874184018,
                    -3.6713166443899765,
                    -0.2792813618027305,
                    2.2430683457671803,
                    -1.7127203501883337,
                    -1.0154246034324896,
                    0.8680571515830913,
                    1.6754724796339626,
                    -1.8192186903245455,
                    -2.904108520963601,
                    -2.313980371463759,
                    0.4962888354725884,
                    1.640550717349035,
                    -1.2823578824008608,
                    -1.6371586969706957,
                    1.001268777029331,
                    -1.1314941630547686,
                    1.293683092124316,
                    -2.061493964177143,
                    0.12145155799423946,
                    0.6370296422237808,
                    -1.2416790968475686,
                    -2.013104066721294,
                    -2.125800465535937,
                    -0.08640513767086494,
                    0.5839532110342144,
                    0.09164162959113781,
                    1.521103182272971,
                    -1.8973809416164646,
                    -0.07543149275401356,
                    -0.6363139187613259,
                    -0.028216842732309677,
                    -1.381002287823882,
                    -1.0436541719996546,
                    -0.4159207374415511,
                    -1.5258194070440194,
                    -0.8399951587569872,
                    -0.1462708759445801,
                    -1.9073140473451038,
                    -0.9188015025906067,
                    0.4464176712740442,
                    -3.2753946812206536,
                    1.404628853367479,
                    -1.4256230775792633,
                    -1.1238851521204847,
                    -1.5824004428793677,
                    1.4619218578887292,
                    2.231144029543113,
                    -0.837712408995035,
                    -0.7683785531467644,
                    -0.8186137154062894,
                    -0.17298491614019107,
                    0.9971608867583324,
                    0.7657507065663389,
                    -0.2682541583087047,
                    -0.44927420228285186,
                    0.9703717218597646,
                    -0.5894487034062038,
                    1.8622289313531641,
                    1.1959158963619507,
                    1.5546951524975225,
                    -1.4755186059877337,
                    -0.3243270250207186,
                    -1.4057192126997768,
                    -0.799760836355264,
                    0.33681912311966244,
                    -0.6209592631790904,
                    1.3980391985079292,
                    -1.8873651697734406,
                    0.3484195835590752,
                    1.7156698241876622,
                    -1.3470880783489545,
                    1.353710311013831,
                    1.7742188219782107,
                    2.7170805025826286,
                    -0.4222193587145061,
                    -0.7450288224747892,
                    1.0510253552442563,
                    1.42223174420941,
                    -2.6214123910693075,
                    2.1872146818753992,
                    -0.6507867032094683,
                    1.2659759531890624,
                    -0.1564071874525156,
                    2.0754439852365385,
                    -2.569509449846072,
                    1.8706908906557949,
                    -1.1812089788800506,
                    -0.2592179531956589,
                    0.9112816004928648,
                    2.2929187326119553,
                    2.2414732592897737,
                    1.0447641337881106,
                    -0.8279401616402831,
                    -0.2619428556356909,
                    0.08963685982982891,
                    0.91705341823336,
                    -1.6039545598889802,
                    -1.4974868358532598,
                    3.227555244418934,
                    -0.6944275326036256,
                    0.8373016954834898,
                    2.4576545204462263,
                    1.298596868592096,
                    1.2907183865748406,
                    -1.284759962166544,
                    2.1317089277080674,
                    -1.0949153589649545,
                    -1.3127058845133146,
                    -0.3947695565244671,
                    -1.069643659970184,
                    -0.6781649131085519,
                    2.6291979246113724,
                    3.2541844591625817,
                    0.4607676367774267,
                    1.4720780759422916,
                    -0.1509512191209225,
                    -0.27902860719083733,
                    1.6743705188036628,
                    0.10934894805205692,
                    -0.6747401959663513,
                    1.7814640288026986,
                    -1.712336294643455,
                    -1.1217363490078387,
                    -0.8231770128709729,
                    2.6897356815264333,
                    1.6242411341772576,
                    1.9290097469874439,
                    -1.0662866456388098,
                    4.461236462030986,
                    1.547379568782891,
                    1.2373553874235543,
                    -0.4910462066616672,
                    -1.741197042626849,
                    1.8501553920162581,
                    1.6745709470984744,
                    0.6430561493709033,
                    1.2033772002065666,
                    0.9482708595140974,
                    3.0789693701195358,
                    -1.2950902905308306,
                    -0.9270039174486842,
                    0.0013533134715019157,
                    0.6517622776312004,
                    0.18555514162836528,
                    1.1276766103186122,
                    3.21019715218109,
                    1.26235776982006,
                    -1.0926657746565396,
                    -0.34316182837672327,
                    2.0648040411038147,
                    -0.16100708232123032,
                    -0.09413412127820431,
                    -0.11051695292562366,
                    1.4043790336350908,
                    1.4284187140444302,
                    -0.9279343845460508,
                    -1.4704991622040493,
                    0.7155626071516251,
                    -0.608629496441866,
                    1.8303938458047764,
                    1.8606748291284338,
                    1.6824244873747956,
                    4.296474705030543,
                    1.3187615190162656,
                    0.7576519999352532,
                    3.191664301402613,
                    -2.351717381433479,
                    0.06364327340233064,
                    1.7008084146117532,
                    1.3315956785964025,
                    2.130713802406099,
                    2.166200129153863,
                    -0.3352306595543406,
                    -2.2050882260121525,
                    -0.41908111790710567,
                    1.9912883323355928,
                    0.3499031697919934,
                    -0.6196870943745554,
                    1.6159904603367479,
                    -0.07761741345227124,
                    1.385851529490469,
                    1.8809706268431228,
                    2.947351398534834,
                    0.15011054033372961,
                    -2.1289394574224603,
                    -1.0190598176459233,
                    -0.7315328935129021,
                    2.2552050096860903,
                    1.5580571791816367,
                    2.9876050681337087,
                    0.3319672909258627,
                    2.2632533165110926,
                    0.9717935557538975,
                    -0.7663064565624973,
                    1.9506923323828127,
                    0.7074358089939374,
                    0.8745912163963372,
                    1.294432302933185,
                    0.9175606525418589,
                    0.5455160576978224,
                    2.780392769047215,
                    -0.12562282687317747,
                    1.8759011862385744,
                    1.0161112600018873,
                    -0.5902778692750401,
                    -0.8906065315954315,
                    -0.7058220041715036,
                    1.81589569150987,
                    1.7124598638263326,
                    -1.3345715283338437,
                    -1.2797344560249537,
                    1.6646494659393087,
                    -0.9434163764892742,
                    -0.537360381676835,
                    1.3005297602800339,
                    -0.90021413129846,
                    -0.12348533662322092,
                    2.2352728745967245,
                    1.2798395488953682,
                    0.013740853109121348,
                    2.155767077246793,
                    0.6687319120908227,
                    0.5139204414445817,
                    2.464220847482861,
                    3.164417572288423,
                    0.7049627406288919,
                    1.1294287434802033,
                    0.4363096173256421,
                    1.5596858604547947,
                    -0.47780951767265084,
                    2.0777904065094708,
                    1.129084421336112,
                    -0.4591032084467554,
                    2.494602221364116,
                    0.9434087237954901,
                    3.4653905545684576,
                    1.6293636149131854,
                    0.9494583719858797,
                    0.4853528114463141,
                    0.14245808888525097,
                    2.308223363249063,
                    0.16522627686680302,
                    -0.4377752943275638,
                    -0.06723537434210813,
                    0.4115087538151805,
                    -0.9280578982592906
                  ],
                  "yaxis": "y"
                }
              ],
              "layout": {
                "annotations": [
                  {
                    "ax": 0,
                    "ay": 0,
                    "text": "colesterol",
                    "x": 0.11891126886383552,
                    "xanchor": "center",
                    "y": 0.1468724999710215,
                    "yanchor": "bottom"
                  },
                  {
                    "ax": 0,
                    "ay": 0,
                    "text": "glucosa",
                    "x": 0.16616929580209958,
                    "xanchor": "center",
                    "y": 0.2240320490622088,
                    "yanchor": "bottom"
                  },
                  {
                    "ax": 0,
                    "ay": 0,
                    "text": "hdl_chol",
                    "x": -0.20795301365483423,
                    "xanchor": "center",
                    "y": -0.11095832765087382,
                    "yanchor": "bottom"
                  },
                  {
                    "ax": 0,
                    "ay": 0,
                    "text": "prop_col_hdl",
                    "x": 0.25315726594041166,
                    "xanchor": "center",
                    "y": 0.24055856893334868,
                    "yanchor": "bottom"
                  },
                  {
                    "ax": 0,
                    "ay": 0,
                    "text": "edad",
                    "x": 0.09177000737152857,
                    "xanchor": "center",
                    "y": 0.2699475503551295,
                    "yanchor": "bottom"
                  },
                  {
                    "ax": 0,
                    "ay": 0,
                    "text": "genero",
                    "x": 0.013894387261397061,
                    "xanchor": "center",
                    "y": -0.5078339016858994,
                    "yanchor": "bottom"
                  },
                  {
                    "ax": 0,
                    "ay": 0,
                    "text": "altura",
                    "x": 0.020790877166887923,
                    "xanchor": "center",
                    "y": 0.42106134634148645,
                    "yanchor": "bottom"
                  },
                  {
                    "ax": 0,
                    "ay": 0,
                    "text": "peso",
                    "x": 0.4404697675003455,
                    "xanchor": "center",
                    "y": -0.06079541727250417,
                    "yanchor": "bottom"
                  },
                  {
                    "ax": 0,
                    "ay": 0,
                    "text": "IMC",
                    "x": 0.4272735422011336,
                    "xanchor": "center",
                    "y": -0.2827374514503661,
                    "yanchor": "bottom"
                  },
                  {
                    "ax": 0,
                    "ay": 0,
                    "text": "ps_sistolica",
                    "x": 0.1544113250435106,
                    "xanchor": "center",
                    "y": 0.19392962556197266,
                    "yanchor": "bottom"
                  },
                  {
                    "ax": 0,
                    "ay": 0,
                    "text": "ps_diastolica",
                    "x": 0.1305615059515085,
                    "xanchor": "center",
                    "y": 0.11913773616988593,
                    "yanchor": "bottom"
                  },
                  {
                    "ax": 0,
                    "ay": 0,
                    "text": "cintura",
                    "x": 0.4619708614691666,
                    "xanchor": "center",
                    "y": -0.03335509527626633,
                    "yanchor": "bottom"
                  },
                  {
                    "ax": 0,
                    "ay": 0,
                    "text": "caderas",
                    "x": 0.42075727436095356,
                    "xanchor": "center",
                    "y": -0.27560328731071543,
                    "yanchor": "bottom"
                  },
                  {
                    "ax": 0,
                    "ay": 0,
                    "text": "prop_cin_cad",
                    "x": 0.18425131858527583,
                    "xanchor": "center",
                    "y": 0.3707958221637713,
                    "yanchor": "bottom"
                  }
                ],
                "coloraxis": {
                  "colorbar": {
                    "title": {
                      "text": "color"
                    }
                  },
                  "colorscale": [
                    [
                      0,
                      "#0d0887"
                    ],
                    [
                      0.1111111111111111,
                      "#46039f"
                    ],
                    [
                      0.2222222222222222,
                      "#7201a8"
                    ],
                    [
                      0.3333333333333333,
                      "#9c179e"
                    ],
                    [
                      0.4444444444444444,
                      "#bd3786"
                    ],
                    [
                      0.5555555555555556,
                      "#d8576b"
                    ],
                    [
                      0.6666666666666666,
                      "#ed7953"
                    ],
                    [
                      0.7777777777777778,
                      "#fb9f3a"
                    ],
                    [
                      0.8888888888888888,
                      "#fdca26"
                    ],
                    [
                      1,
                      "#f0f921"
                    ]
                  ]
                },
                "legend": {
                  "tracegroupgap": 0
                },
                "margin": {
                  "t": 60
                },
                "shapes": [
                  {
                    "type": "line",
                    "x0": 0,
                    "x1": 0.11891126886383552,
                    "y0": 0,
                    "y1": 0.1468724999710215
                  },
                  {
                    "type": "line",
                    "x0": 0,
                    "x1": 0.16616929580209958,
                    "y0": 0,
                    "y1": 0.2240320490622088
                  },
                  {
                    "type": "line",
                    "x0": 0,
                    "x1": -0.20795301365483423,
                    "y0": 0,
                    "y1": -0.11095832765087382
                  },
                  {
                    "type": "line",
                    "x0": 0,
                    "x1": 0.25315726594041166,
                    "y0": 0,
                    "y1": 0.24055856893334868
                  },
                  {
                    "type": "line",
                    "x0": 0,
                    "x1": 0.09177000737152857,
                    "y0": 0,
                    "y1": 0.2699475503551295
                  },
                  {
                    "type": "line",
                    "x0": 0,
                    "x1": 0.013894387261397061,
                    "y0": 0,
                    "y1": -0.5078339016858994
                  },
                  {
                    "type": "line",
                    "x0": 0,
                    "x1": 0.020790877166887923,
                    "y0": 0,
                    "y1": 0.42106134634148645
                  },
                  {
                    "type": "line",
                    "x0": 0,
                    "x1": 0.4404697675003455,
                    "y0": 0,
                    "y1": -0.06079541727250417
                  },
                  {
                    "type": "line",
                    "x0": 0,
                    "x1": 0.4272735422011336,
                    "y0": 0,
                    "y1": -0.2827374514503661
                  },
                  {
                    "type": "line",
                    "x0": 0,
                    "x1": 0.1544113250435106,
                    "y0": 0,
                    "y1": 0.19392962556197266
                  },
                  {
                    "type": "line",
                    "x0": 0,
                    "x1": 0.1305615059515085,
                    "y0": 0,
                    "y1": 0.11913773616988593
                  },
                  {
                    "type": "line",
                    "x0": 0,
                    "x1": 0.4619708614691666,
                    "y0": 0,
                    "y1": -0.03335509527626633
                  },
                  {
                    "type": "line",
                    "x0": 0,
                    "x1": 0.42075727436095356,
                    "y0": 0,
                    "y1": -0.27560328731071543
                  },
                  {
                    "type": "line",
                    "x0": 0,
                    "x1": 0.18425131858527583,
                    "y0": 0,
                    "y1": 0.3707958221637713
                  }
                ],
                "template": {
                  "data": {
                    "bar": [
                      {
                        "error_x": {
                          "color": "#2a3f5f"
                        },
                        "error_y": {
                          "color": "#2a3f5f"
                        },
                        "marker": {
                          "line": {
                            "color": "#E5ECF6",
                            "width": 0.5
                          },
                          "pattern": {
                            "fillmode": "overlay",
                            "size": 10,
                            "solidity": 0.2
                          }
                        },
                        "type": "bar"
                      }
                    ],
                    "barpolar": [
                      {
                        "marker": {
                          "line": {
                            "color": "#E5ECF6",
                            "width": 0.5
                          },
                          "pattern": {
                            "fillmode": "overlay",
                            "size": 10,
                            "solidity": 0.2
                          }
                        },
                        "type": "barpolar"
                      }
                    ],
                    "carpet": [
                      {
                        "aaxis": {
                          "endlinecolor": "#2a3f5f",
                          "gridcolor": "white",
                          "linecolor": "white",
                          "minorgridcolor": "white",
                          "startlinecolor": "#2a3f5f"
                        },
                        "baxis": {
                          "endlinecolor": "#2a3f5f",
                          "gridcolor": "white",
                          "linecolor": "white",
                          "minorgridcolor": "white",
                          "startlinecolor": "#2a3f5f"
                        },
                        "type": "carpet"
                      }
                    ],
                    "choropleth": [
                      {
                        "colorbar": {
                          "outlinewidth": 0,
                          "ticks": ""
                        },
                        "type": "choropleth"
                      }
                    ],
                    "contour": [
                      {
                        "colorbar": {
                          "outlinewidth": 0,
                          "ticks": ""
                        },
                        "colorscale": [
                          [
                            0,
                            "#0d0887"
                          ],
                          [
                            0.1111111111111111,
                            "#46039f"
                          ],
                          [
                            0.2222222222222222,
                            "#7201a8"
                          ],
                          [
                            0.3333333333333333,
                            "#9c179e"
                          ],
                          [
                            0.4444444444444444,
                            "#bd3786"
                          ],
                          [
                            0.5555555555555556,
                            "#d8576b"
                          ],
                          [
                            0.6666666666666666,
                            "#ed7953"
                          ],
                          [
                            0.7777777777777778,
                            "#fb9f3a"
                          ],
                          [
                            0.8888888888888888,
                            "#fdca26"
                          ],
                          [
                            1,
                            "#f0f921"
                          ]
                        ],
                        "type": "contour"
                      }
                    ],
                    "contourcarpet": [
                      {
                        "colorbar": {
                          "outlinewidth": 0,
                          "ticks": ""
                        },
                        "type": "contourcarpet"
                      }
                    ],
                    "heatmap": [
                      {
                        "colorbar": {
                          "outlinewidth": 0,
                          "ticks": ""
                        },
                        "colorscale": [
                          [
                            0,
                            "#0d0887"
                          ],
                          [
                            0.1111111111111111,
                            "#46039f"
                          ],
                          [
                            0.2222222222222222,
                            "#7201a8"
                          ],
                          [
                            0.3333333333333333,
                            "#9c179e"
                          ],
                          [
                            0.4444444444444444,
                            "#bd3786"
                          ],
                          [
                            0.5555555555555556,
                            "#d8576b"
                          ],
                          [
                            0.6666666666666666,
                            "#ed7953"
                          ],
                          [
                            0.7777777777777778,
                            "#fb9f3a"
                          ],
                          [
                            0.8888888888888888,
                            "#fdca26"
                          ],
                          [
                            1,
                            "#f0f921"
                          ]
                        ],
                        "type": "heatmap"
                      }
                    ],
                    "heatmapgl": [
                      {
                        "colorbar": {
                          "outlinewidth": 0,
                          "ticks": ""
                        },
                        "colorscale": [
                          [
                            0,
                            "#0d0887"
                          ],
                          [
                            0.1111111111111111,
                            "#46039f"
                          ],
                          [
                            0.2222222222222222,
                            "#7201a8"
                          ],
                          [
                            0.3333333333333333,
                            "#9c179e"
                          ],
                          [
                            0.4444444444444444,
                            "#bd3786"
                          ],
                          [
                            0.5555555555555556,
                            "#d8576b"
                          ],
                          [
                            0.6666666666666666,
                            "#ed7953"
                          ],
                          [
                            0.7777777777777778,
                            "#fb9f3a"
                          ],
                          [
                            0.8888888888888888,
                            "#fdca26"
                          ],
                          [
                            1,
                            "#f0f921"
                          ]
                        ],
                        "type": "heatmapgl"
                      }
                    ],
                    "histogram": [
                      {
                        "marker": {
                          "pattern": {
                            "fillmode": "overlay",
                            "size": 10,
                            "solidity": 0.2
                          }
                        },
                        "type": "histogram"
                      }
                    ],
                    "histogram2d": [
                      {
                        "colorbar": {
                          "outlinewidth": 0,
                          "ticks": ""
                        },
                        "colorscale": [
                          [
                            0,
                            "#0d0887"
                          ],
                          [
                            0.1111111111111111,
                            "#46039f"
                          ],
                          [
                            0.2222222222222222,
                            "#7201a8"
                          ],
                          [
                            0.3333333333333333,
                            "#9c179e"
                          ],
                          [
                            0.4444444444444444,
                            "#bd3786"
                          ],
                          [
                            0.5555555555555556,
                            "#d8576b"
                          ],
                          [
                            0.6666666666666666,
                            "#ed7953"
                          ],
                          [
                            0.7777777777777778,
                            "#fb9f3a"
                          ],
                          [
                            0.8888888888888888,
                            "#fdca26"
                          ],
                          [
                            1,
                            "#f0f921"
                          ]
                        ],
                        "type": "histogram2d"
                      }
                    ],
                    "histogram2dcontour": [
                      {
                        "colorbar": {
                          "outlinewidth": 0,
                          "ticks": ""
                        },
                        "colorscale": [
                          [
                            0,
                            "#0d0887"
                          ],
                          [
                            0.1111111111111111,
                            "#46039f"
                          ],
                          [
                            0.2222222222222222,
                            "#7201a8"
                          ],
                          [
                            0.3333333333333333,
                            "#9c179e"
                          ],
                          [
                            0.4444444444444444,
                            "#bd3786"
                          ],
                          [
                            0.5555555555555556,
                            "#d8576b"
                          ],
                          [
                            0.6666666666666666,
                            "#ed7953"
                          ],
                          [
                            0.7777777777777778,
                            "#fb9f3a"
                          ],
                          [
                            0.8888888888888888,
                            "#fdca26"
                          ],
                          [
                            1,
                            "#f0f921"
                          ]
                        ],
                        "type": "histogram2dcontour"
                      }
                    ],
                    "mesh3d": [
                      {
                        "colorbar": {
                          "outlinewidth": 0,
                          "ticks": ""
                        },
                        "type": "mesh3d"
                      }
                    ],
                    "parcoords": [
                      {
                        "line": {
                          "colorbar": {
                            "outlinewidth": 0,
                            "ticks": ""
                          }
                        },
                        "type": "parcoords"
                      }
                    ],
                    "pie": [
                      {
                        "automargin": true,
                        "type": "pie"
                      }
                    ],
                    "scatter": [
                      {
                        "marker": {
                          "colorbar": {
                            "outlinewidth": 0,
                            "ticks": ""
                          }
                        },
                        "type": "scatter"
                      }
                    ],
                    "scatter3d": [
                      {
                        "line": {
                          "colorbar": {
                            "outlinewidth": 0,
                            "ticks": ""
                          }
                        },
                        "marker": {
                          "colorbar": {
                            "outlinewidth": 0,
                            "ticks": ""
                          }
                        },
                        "type": "scatter3d"
                      }
                    ],
                    "scattercarpet": [
                      {
                        "marker": {
                          "colorbar": {
                            "outlinewidth": 0,
                            "ticks": ""
                          }
                        },
                        "type": "scattercarpet"
                      }
                    ],
                    "scattergeo": [
                      {
                        "marker": {
                          "colorbar": {
                            "outlinewidth": 0,
                            "ticks": ""
                          }
                        },
                        "type": "scattergeo"
                      }
                    ],
                    "scattergl": [
                      {
                        "marker": {
                          "colorbar": {
                            "outlinewidth": 0,
                            "ticks": ""
                          }
                        },
                        "type": "scattergl"
                      }
                    ],
                    "scattermapbox": [
                      {
                        "marker": {
                          "colorbar": {
                            "outlinewidth": 0,
                            "ticks": ""
                          }
                        },
                        "type": "scattermapbox"
                      }
                    ],
                    "scatterpolar": [
                      {
                        "marker": {
                          "colorbar": {
                            "outlinewidth": 0,
                            "ticks": ""
                          }
                        },
                        "type": "scatterpolar"
                      }
                    ],
                    "scatterpolargl": [
                      {
                        "marker": {
                          "colorbar": {
                            "outlinewidth": 0,
                            "ticks": ""
                          }
                        },
                        "type": "scatterpolargl"
                      }
                    ],
                    "scatterternary": [
                      {
                        "marker": {
                          "colorbar": {
                            "outlinewidth": 0,
                            "ticks": ""
                          }
                        },
                        "type": "scatterternary"
                      }
                    ],
                    "surface": [
                      {
                        "colorbar": {
                          "outlinewidth": 0,
                          "ticks": ""
                        },
                        "colorscale": [
                          [
                            0,
                            "#0d0887"
                          ],
                          [
                            0.1111111111111111,
                            "#46039f"
                          ],
                          [
                            0.2222222222222222,
                            "#7201a8"
                          ],
                          [
                            0.3333333333333333,
                            "#9c179e"
                          ],
                          [
                            0.4444444444444444,
                            "#bd3786"
                          ],
                          [
                            0.5555555555555556,
                            "#d8576b"
                          ],
                          [
                            0.6666666666666666,
                            "#ed7953"
                          ],
                          [
                            0.7777777777777778,
                            "#fb9f3a"
                          ],
                          [
                            0.8888888888888888,
                            "#fdca26"
                          ],
                          [
                            1,
                            "#f0f921"
                          ]
                        ],
                        "type": "surface"
                      }
                    ],
                    "table": [
                      {
                        "cells": {
                          "fill": {
                            "color": "#EBF0F8"
                          },
                          "line": {
                            "color": "white"
                          }
                        },
                        "header": {
                          "fill": {
                            "color": "#C8D4E3"
                          },
                          "line": {
                            "color": "white"
                          }
                        },
                        "type": "table"
                      }
                    ]
                  },
                  "layout": {
                    "annotationdefaults": {
                      "arrowcolor": "#2a3f5f",
                      "arrowhead": 0,
                      "arrowwidth": 1
                    },
                    "autotypenumbers": "strict",
                    "coloraxis": {
                      "colorbar": {
                        "outlinewidth": 0,
                        "ticks": ""
                      }
                    },
                    "colorscale": {
                      "diverging": [
                        [
                          0,
                          "#8e0152"
                        ],
                        [
                          0.1,
                          "#c51b7d"
                        ],
                        [
                          0.2,
                          "#de77ae"
                        ],
                        [
                          0.3,
                          "#f1b6da"
                        ],
                        [
                          0.4,
                          "#fde0ef"
                        ],
                        [
                          0.5,
                          "#f7f7f7"
                        ],
                        [
                          0.6,
                          "#e6f5d0"
                        ],
                        [
                          0.7,
                          "#b8e186"
                        ],
                        [
                          0.8,
                          "#7fbc41"
                        ],
                        [
                          0.9,
                          "#4d9221"
                        ],
                        [
                          1,
                          "#276419"
                        ]
                      ],
                      "sequential": [
                        [
                          0,
                          "#0d0887"
                        ],
                        [
                          0.1111111111111111,
                          "#46039f"
                        ],
                        [
                          0.2222222222222222,
                          "#7201a8"
                        ],
                        [
                          0.3333333333333333,
                          "#9c179e"
                        ],
                        [
                          0.4444444444444444,
                          "#bd3786"
                        ],
                        [
                          0.5555555555555556,
                          "#d8576b"
                        ],
                        [
                          0.6666666666666666,
                          "#ed7953"
                        ],
                        [
                          0.7777777777777778,
                          "#fb9f3a"
                        ],
                        [
                          0.8888888888888888,
                          "#fdca26"
                        ],
                        [
                          1,
                          "#f0f921"
                        ]
                      ],
                      "sequentialminus": [
                        [
                          0,
                          "#0d0887"
                        ],
                        [
                          0.1111111111111111,
                          "#46039f"
                        ],
                        [
                          0.2222222222222222,
                          "#7201a8"
                        ],
                        [
                          0.3333333333333333,
                          "#9c179e"
                        ],
                        [
                          0.4444444444444444,
                          "#bd3786"
                        ],
                        [
                          0.5555555555555556,
                          "#d8576b"
                        ],
                        [
                          0.6666666666666666,
                          "#ed7953"
                        ],
                        [
                          0.7777777777777778,
                          "#fb9f3a"
                        ],
                        [
                          0.8888888888888888,
                          "#fdca26"
                        ],
                        [
                          1,
                          "#f0f921"
                        ]
                      ]
                    },
                    "colorway": [
                      "#636efa",
                      "#EF553B",
                      "#00cc96",
                      "#ab63fa",
                      "#FFA15A",
                      "#19d3f3",
                      "#FF6692",
                      "#B6E880",
                      "#FF97FF",
                      "#FECB52"
                    ],
                    "font": {
                      "color": "#2a3f5f"
                    },
                    "geo": {
                      "bgcolor": "white",
                      "lakecolor": "white",
                      "landcolor": "#E5ECF6",
                      "showlakes": true,
                      "showland": true,
                      "subunitcolor": "white"
                    },
                    "hoverlabel": {
                      "align": "left"
                    },
                    "hovermode": "closest",
                    "mapbox": {
                      "style": "light"
                    },
                    "paper_bgcolor": "white",
                    "plot_bgcolor": "#E5ECF6",
                    "polar": {
                      "angularaxis": {
                        "gridcolor": "white",
                        "linecolor": "white",
                        "ticks": ""
                      },
                      "bgcolor": "#E5ECF6",
                      "radialaxis": {
                        "gridcolor": "white",
                        "linecolor": "white",
                        "ticks": ""
                      }
                    },
                    "scene": {
                      "xaxis": {
                        "backgroundcolor": "#E5ECF6",
                        "gridcolor": "white",
                        "gridwidth": 2,
                        "linecolor": "white",
                        "showbackground": true,
                        "ticks": "",
                        "zerolinecolor": "white"
                      },
                      "yaxis": {
                        "backgroundcolor": "#E5ECF6",
                        "gridcolor": "white",
                        "gridwidth": 2,
                        "linecolor": "white",
                        "showbackground": true,
                        "ticks": "",
                        "zerolinecolor": "white"
                      },
                      "zaxis": {
                        "backgroundcolor": "#E5ECF6",
                        "gridcolor": "white",
                        "gridwidth": 2,
                        "linecolor": "white",
                        "showbackground": true,
                        "ticks": "",
                        "zerolinecolor": "white"
                      }
                    },
                    "shapedefaults": {
                      "line": {
                        "color": "#2a3f5f"
                      }
                    },
                    "ternary": {
                      "aaxis": {
                        "gridcolor": "white",
                        "linecolor": "white",
                        "ticks": ""
                      },
                      "baxis": {
                        "gridcolor": "white",
                        "linecolor": "white",
                        "ticks": ""
                      },
                      "bgcolor": "#E5ECF6",
                      "caxis": {
                        "gridcolor": "white",
                        "linecolor": "white",
                        "ticks": ""
                      }
                    },
                    "title": {
                      "x": 0.05
                    },
                    "xaxis": {
                      "automargin": true,
                      "gridcolor": "white",
                      "linecolor": "white",
                      "ticks": "",
                      "title": {
                        "standoff": 15
                      },
                      "zerolinecolor": "white",
                      "zerolinewidth": 2
                    },
                    "yaxis": {
                      "automargin": true,
                      "gridcolor": "white",
                      "linecolor": "white",
                      "ticks": "",
                      "title": {
                        "standoff": 15
                      },
                      "zerolinecolor": "white",
                      "zerolinewidth": 2
                    }
                  }
                },
                "xaxis": {
                  "anchor": "y",
                  "domain": [
                    0,
                    1
                  ],
                  "title": {
                    "text": "0"
                  }
                },
                "yaxis": {
                  "anchor": "x",
                  "domain": [
                    0,
                    1
                  ],
                  "title": {
                    "text": "1"
                  }
                }
              }
            }
          },
          "metadata": {},
          "output_type": "display_data"
        }
      ],
      "source": [
        "fig = px.scatter(X_pca_pd, x=0, y=1, color=df['diabetes'])\n",
        "for i, feature in enumerate(features):\n",
        "    fig.add_shape(\n",
        "        type='line',\n",
        "        x0=0, y0=0,\n",
        "        x1=projection_matrix[i, 0],\n",
        "        y1=projection_matrix[i, 1]\n",
        "    )\n",
        "    fig.add_annotation(\n",
        "        x=projection_matrix[i, 0],\n",
        "        y=projection_matrix[i, 1],\n",
        "        ax=0, ay=0,\n",
        "        xanchor=\"center\",\n",
        "        yanchor=\"bottom\",\n",
        "        text=feature,\n",
        "    )\n",
        "fig.show()"
      ]
    },
    {
      "cell_type": "code",
      "execution_count": null,
      "metadata": {
        "id": "AA5UypU3Gd9t",
        "outputId": "31debe5a-1973-4bdd-82d3-530f58be40cb"
      },
      "outputs": [
        {
          "data": {
            "image/png": "[encoded data removed]",
            "text/plain": [
              "<Figure size 1440x1080 with 1 Axes>"
            ]
          },
          "metadata": {
            "needs_background": "light"
          },
          "output_type": "display_data"
        }
      ],
      "source": [
        "plt.figure(figsize=(20,15))\n",
        "sns.scatterplot(x=X_pca_pd[0], y = X_pca_pd[1], hue=df['IMC'])\n",
        "plt.xlabel(\"PC1\")\n",
        "plt.ylabel(\"PC2\")\n",
        "plt.show()"
      ]
    },
    {
      "attachments": {},
      "cell_type": "markdown",
      "metadata": {
        "id": "Ja3g_W8bGd9y"
      },
      "source": [
        "## ***Analisis Factorial***"
      ]
    },
    {
      "cell_type": "code",
      "execution_count": null,
      "metadata": {
        "id": "DlVoHUooGd9z"
      },
      "outputs": [],
      "source": [
        "df_f = df.drop(columns=[\"diabetes\", \"genero\", \"Unnamed: 0\"])"
      ]
    },
    {
      "cell_type": "code",
      "execution_count": null,
      "metadata": {
        "id": "Z2EhomjwGd9z",
        "outputId": "f908916e-0318-47a2-95ad-d1d6b7792210"
      },
      "outputs": [
        {
          "name": "stdout",
          "output_type": "stream",
          "text": [
            "                      0         1         2         3         4         5\n",
            "colesterol     0.044241 -0.024177  0.130553  0.151652  0.853667 -0.052132\n",
            "glucosa        0.106985  0.160620  0.077561  0.301844  0.139137  0.033801\n",
            "hdl_chol      -0.176933 -0.945373  0.072375 -0.082426  0.210725 -0.041953\n",
            "prop_col_hdl   0.140201  0.791247  0.009548  0.218752  0.531458  0.060143\n",
            "edad          -0.074260  0.008598  0.264070  0.520407  0.153604 -0.185206\n",
            "altura        -0.044039  0.052895  0.016595  0.093618 -0.033231  0.816846\n",
            "peso           0.927123  0.129764  0.069356  0.070300  0.029294  0.324515\n",
            "IMC            0.946626  0.102703  0.054018  0.023476  0.036701 -0.237711\n",
            "ps_sistolica   0.039751  0.024778  0.966754  0.266071  0.050243 -0.102490\n",
            "ps_diastolica  0.124826 -0.049629  0.596078  0.004449  0.078927  0.082403\n",
            "cintura        0.873295  0.088802  0.057283  0.473050  0.015989  0.070815\n",
            "caderas        0.915977  0.095725  0.119813 -0.061206  0.056600 -0.102905\n",
            "prop_cin_cad   0.121168  0.065342 -0.013735  0.697292 -0.010123  0.255009\n"
          ]
        }
      ],
      "source": [
        "fa = FactorAnalyzer(n_factors = 6, rotation = 'varimax')\n",
        "fa.fit(df_f)\n",
        "print(pd.DataFrame(fa.loadings_, index=df_f.columns))"
      ]
    },
    {
      "cell_type": "code",
      "execution_count": null,
      "metadata": {
        "id": "IQ6l5KKJGd90"
      },
      "outputs": [],
      "source": [
        "loadings = fa.loadings_"
      ]
    },
    {
      "cell_type": "code",
      "execution_count": null,
      "metadata": {
        "id": "x5Id5syVGd91"
      },
      "outputs": [],
      "source": [
        "ev, v = fa.get_eigenvalues()"
      ]
    },
    {
      "cell_type": "code",
      "execution_count": null,
      "metadata": {
        "id": "nPyIWViiGd91"
      },
      "outputs": [],
      "source": [
        "xvals = range(1, df_f.shape[1]+1)"
      ]
    },
    {
      "cell_type": "code",
      "execution_count": null,
      "metadata": {
        "id": "Bk8AHB84Gd91",
        "outputId": "3c906076-c2cc-4cc1-c547-e55db37e485f"
      },
      "outputs": [
        {
          "data": {
            "image/png": "[encoded data removed]",
            "text/plain": [
              "<Figure size 432x288 with 1 Axes>"
            ]
          },
          "metadata": {
            "needs_background": "light"
          },
          "output_type": "display_data"
        }
      ],
      "source": [
        "plt.scatter(xvals, ev)\n",
        "plt.plot(xvals, ev)\n",
        "plt.title(\"Scree plot\")\n",
        "plt.xlabel(\"Factor\")\n",
        "plt.ylabel(\"Eigenvalue\")\n",
        "plt.grid()\n",
        "plt.show()"
      ]
    },
    {
      "cell_type": "code",
      "execution_count": null,
      "metadata": {
        "id": "NcViDsd3Gd91",
        "outputId": "b52abc61-e72b-4943-fdc4-9e7873c401d3"
      },
      "outputs": [
        {
          "data": {
            "text/html": [
              "<div>\n",
              "<style scoped>\n",
              "    .dataframe tbody tr th:only-of-type {\n",
              "        vertical-align: middle;\n",
              "    }\n",
              "\n",
              "    .dataframe tbody tr th {\n",
              "        vertical-align: top;\n",
              "    }\n",
              "\n",
              "    .dataframe thead th {\n",
              "        text-align: right;\n",
              "    }\n",
              "</style>\n",
              "<table border=\"1\" class=\"dataframe\">\n",
              "  <thead>\n",
              "    <tr style=\"text-align: right;\">\n",
              "      <th></th>\n",
              "      <th>0</th>\n",
              "      <th>1</th>\n",
              "      <th>2</th>\n",
              "      <th>3</th>\n",
              "      <th>4</th>\n",
              "      <th>5</th>\n",
              "    </tr>\n",
              "  </thead>\n",
              "  <tbody>\n",
              "    <tr>\n",
              "      <th>0</th>\n",
              "      <td>0.044241</td>\n",
              "      <td>-0.024177</td>\n",
              "      <td>0.130553</td>\n",
              "      <td>0.151652</td>\n",
              "      <td>0.853667</td>\n",
              "      <td>-0.052132</td>\n",
              "    </tr>\n",
              "    <tr>\n",
              "      <th>1</th>\n",
              "      <td>0.106985</td>\n",
              "      <td>0.160620</td>\n",
              "      <td>0.077561</td>\n",
              "      <td>0.301844</td>\n",
              "      <td>0.139137</td>\n",
              "      <td>0.033801</td>\n",
              "    </tr>\n",
              "    <tr>\n",
              "      <th>2</th>\n",
              "      <td>-0.176933</td>\n",
              "      <td>-0.945373</td>\n",
              "      <td>0.072375</td>\n",
              "      <td>-0.082426</td>\n",
              "      <td>0.210725</td>\n",
              "      <td>-0.041953</td>\n",
              "    </tr>\n",
              "    <tr>\n",
              "      <th>3</th>\n",
              "      <td>0.140201</td>\n",
              "      <td>0.791247</td>\n",
              "      <td>0.009548</td>\n",
              "      <td>0.218752</td>\n",
              "      <td>0.531458</td>\n",
              "      <td>0.060143</td>\n",
              "    </tr>\n",
              "    <tr>\n",
              "      <th>4</th>\n",
              "      <td>-0.074260</td>\n",
              "      <td>0.008598</td>\n",
              "      <td>0.264070</td>\n",
              "      <td>0.520407</td>\n",
              "      <td>0.153604</td>\n",
              "      <td>-0.185206</td>\n",
              "    </tr>\n",
              "    <tr>\n",
              "      <th>5</th>\n",
              "      <td>-0.044039</td>\n",
              "      <td>0.052895</td>\n",
              "      <td>0.016595</td>\n",
              "      <td>0.093618</td>\n",
              "      <td>-0.033231</td>\n",
              "      <td>0.816846</td>\n",
              "    </tr>\n",
              "    <tr>\n",
              "      <th>6</th>\n",
              "      <td>0.927123</td>\n",
              "      <td>0.129764</td>\n",
              "      <td>0.069356</td>\n",
              "      <td>0.070300</td>\n",
              "      <td>0.029294</td>\n",
              "      <td>0.324515</td>\n",
              "    </tr>\n",
              "    <tr>\n",
              "      <th>7</th>\n",
              "      <td>0.946626</td>\n",
              "      <td>0.102703</td>\n",
              "      <td>0.054018</td>\n",
              "      <td>0.023476</td>\n",
              "      <td>0.036701</td>\n",
              "      <td>-0.237711</td>\n",
              "    </tr>\n",
              "    <tr>\n",
              "      <th>8</th>\n",
              "      <td>0.039751</td>\n",
              "      <td>0.024778</td>\n",
              "      <td>0.966754</td>\n",
              "      <td>0.266071</td>\n",
              "      <td>0.050243</td>\n",
              "      <td>-0.102490</td>\n",
              "    </tr>\n",
              "    <tr>\n",
              "      <th>9</th>\n",
              "      <td>0.124826</td>\n",
              "      <td>-0.049629</td>\n",
              "      <td>0.596078</td>\n",
              "      <td>0.004449</td>\n",
              "      <td>0.078927</td>\n",
              "      <td>0.082403</td>\n",
              "    </tr>\n",
              "    <tr>\n",
              "      <th>10</th>\n",
              "      <td>0.873295</td>\n",
              "      <td>0.088802</td>\n",
              "      <td>0.057283</td>\n",
              "      <td>0.473050</td>\n",
              "      <td>0.015989</td>\n",
              "      <td>0.070815</td>\n",
              "    </tr>\n",
              "    <tr>\n",
              "      <th>11</th>\n",
              "      <td>0.915977</td>\n",
              "      <td>0.095725</td>\n",
              "      <td>0.119813</td>\n",
              "      <td>-0.061206</td>\n",
              "      <td>0.056600</td>\n",
              "      <td>-0.102905</td>\n",
              "    </tr>\n",
              "    <tr>\n",
              "      <th>12</th>\n",
              "      <td>0.121168</td>\n",
              "      <td>0.065342</td>\n",
              "      <td>-0.013735</td>\n",
              "      <td>0.697292</td>\n",
              "      <td>-0.010123</td>\n",
              "      <td>0.255009</td>\n",
              "    </tr>\n",
              "  </tbody>\n",
              "</table>\n",
              "</div>"
            ],
            "text/plain": [
              "           0         1         2         3         4         5\n",
              "0   0.044241 -0.024177  0.130553  0.151652  0.853667 -0.052132\n",
              "1   0.106985  0.160620  0.077561  0.301844  0.139137  0.033801\n",
              "2  -0.176933 -0.945373  0.072375 -0.082426  0.210725 -0.041953\n",
              "3   0.140201  0.791247  0.009548  0.218752  0.531458  0.060143\n",
              "4  -0.074260  0.008598  0.264070  0.520407  0.153604 -0.185206\n",
              "5  -0.044039  0.052895  0.016595  0.093618 -0.033231  0.816846\n",
              "6   0.927123  0.129764  0.069356  0.070300  0.029294  0.324515\n",
              "7   0.946626  0.102703  0.054018  0.023476  0.036701 -0.237711\n",
              "8   0.039751  0.024778  0.966754  0.266071  0.050243 -0.102490\n",
              "9   0.124826 -0.049629  0.596078  0.004449  0.078927  0.082403\n",
              "10  0.873295  0.088802  0.057283  0.473050  0.015989  0.070815\n",
              "11  0.915977  0.095725  0.119813 -0.061206  0.056600 -0.102905\n",
              "12  0.121168  0.065342 -0.013735  0.697292 -0.010123  0.255009"
            ]
          },
          "execution_count": 105,
          "metadata": {},
          "output_type": "execute_result"
        }
      ],
      "source": [
        "pd.DataFrame.from_records(loadings)"
      ]
    },
    {
      "attachments": {},
      "cell_type": "markdown",
      "metadata": {
        "id": "3KeB9XETGd-b"
      },
      "source": [
        "## ***PCA usando sklearn***"
      ]
    },
    {
      "cell_type": "code",
      "execution_count": null,
      "metadata": {
        "id": "9PMnVlxwGd-c",
        "outputId": "40cd933f-39f3-42a9-ab54-5610e7e8f6cd"
      },
      "outputs": [
        {
          "data": {
            "application/vnd.plotly.v1+json": {
              "config": {
                "plotlyServerURL": "https://plot.ly"
              },
              "data": [
                {
                  "hovertemplate": "0=%{x}<br>1=%{y}<br>color=%{marker.color}<extra></extra>",
                  "legendgroup": "",
                  "marker": {
                    "color": [
                      0,
                      0,
                      0,
                      0,
                      0,
                      0,
                      0,
                      0,
                      0,
                      0,
                      0,
                      0,
                      0,
                      0,
                      0,
                      0,
                      0,
                      0,
                      0,
                      0,
                      0,
                      0,
                      0,
                      0,
                      0,
                      0,
                      0,
                      0,
                      0,
                      0,
                      0,
                      0,
                      0,
                      0,
                      0,
                      0,
                      0,
                      0,
                      0,
                      0,
                      1,
                      0,
                      0,
                      0,
                      0,
                      0,
                      0,
                      0,
                      0,
                      0,
                      0,
                      0,
                      0,
                      0,
                      0,
                      0,
                      0,
                      0,
                      0,
                      0,
                      0,
                      0,
                      0,
                      0,
                      1,
                      0,
                      0,
                      0,
                      0,
                      0,
                      0,
                      0,
                      0,
                      0,
                      0,
                      0,
                      0,
                      0,
                      0,
                      0,
                      0,
                      0,
                      1,
                      0,
                      0,
                      0,
                      0,
                      0,
                      0,
                      0,
                      0,
                      0,
                      0,
                      0,
                      0,
                      0,
                      0,
                      0,
                      0,
                      0,
                      0,
                      0,
                      0,
                      0,
                      0,
                      0,
                      0,
                      0,
                      0,
                      0,
                      0,
                      0,
                      0,
                      0,
                      0,
                      0,
                      0,
                      1,
                      0,
                      0,
                      0,
                      0,
                      0,
                      0,
                      0,
                      0,
                      0,
                      0,
                      0,
                      0,
                      0,
                      0,
                      0,
                      0,
                      0,
                      0,
                      0,
                      0,
                      0,
                      1,
                      0,
                      0,
                      0,
                      0,
                      0,
                      0,
                      0,
                      0,
                      0,
                      0,
                      0,
                      0,
                      0,
                      0,
                      0,
                      0,
                      0,
                      1,
                      0,
                      0,
                      0,
                      0,
                      0,
                      0,
                      0,
                      0,
                      0,
                      0,
                      0,
                      0,
                      0,
                      0,
                      0,
                      0,
                      0,
                      0,
                      0,
                      0,
                      0,
                      0,
                      0,
                      0,
                      0,
                      0,
                      0,
                      0,
                      0,
                      0,
                      1,
                      0,
                      0,
                      0,
                      0,
                      0,
                      1,
                      0,
                      0,
                      0,
                      0,
                      0,
                      0,
                      0,
                      1,
                      0,
                      0,
                      0,
                      0,
                      0,
                      0,
                      0,
                      0,
                      0,
                      1,
                      1,
                      0,
                      0,
                      0,
                      0,
                      0,
                      0,
                      0,
                      0,
                      0,
                      1,
                      1,
                      0,
                      0,
                      0,
                      0,
                      0,
                      0,
                      0,
                      0,
                      1,
                      1,
                      0,
                      0,
                      0,
                      0,
                      0,
                      1,
                      1,
                      1,
                      0,
                      0,
                      0,
                      0,
                      0,
                      0,
                      0,
                      1,
                      0,
                      0,
                      0,
                      0,
                      1,
                      1,
                      0,
                      0,
                      0,
                      0,
                      0,
                      0,
                      0,
                      0,
                      0,
                      0,
                      0,
                      1,
                      0,
                      0,
                      1,
                      1,
                      0,
                      0,
                      1,
                      0,
                      0,
                      0,
                      0,
                      0,
                      1,
                      0,
                      0,
                      0,
                      0,
                      1,
                      1,
                      1,
                      1,
                      0,
                      0,
                      0,
                      0,
                      0,
                      0,
                      0,
                      1,
                      1,
                      1,
                      0,
                      0,
                      0,
                      0,
                      0,
                      1,
                      1,
                      0,
                      0,
                      0,
                      1,
                      1,
                      0,
                      0,
                      0,
                      0,
                      0,
                      0,
                      0,
                      0,
                      1,
                      1,
                      1,
                      0,
                      0,
                      1,
                      1,
                      1,
                      0,
                      0,
                      0,
                      0,
                      1,
                      1,
                      0,
                      0,
                      0,
                      0,
                      0,
                      1,
                      1,
                      0,
                      0,
                      0,
                      1,
                      0,
                      0,
                      0,
                      0,
                      0,
                      0,
                      0,
                      1,
                      1,
                      0,
                      0,
                      0,
                      1,
                      0,
                      0,
                      0,
                      1,
                      0,
                      1,
                      0,
                      0,
                      1,
                      0,
                      1,
                      0,
                      0,
                      0,
                      0,
                      1,
                      0,
                      0,
                      0,
                      0,
                      0,
                      1,
                      0,
                      1,
                      0,
                      0,
                      0,
                      0,
                      1,
                      0,
                      1,
                      0
                    ],
                    "coloraxis": "coloraxis",
                    "symbol": "circle"
                  },
                  "mode": "markers",
                  "name": "",
                  "orientation": "v",
                  "showlegend": false,
                  "type": "scatter",
                  "x": [
                    -53.73449822778976,
                    -63.85459886213113,
                    -28.770478609291548,
                    -27.27349118275607,
                    -44.600903443533085,
                    -57.95041626687438,
                    -70.44027115209212,
                    -63.01434022968084,
                    -1.2608022367220084,
                    -15.667006982725338,
                    -16.865240887998397,
                    22.985408918985897,
                    -39.75593025863943,
                    -37.67628656788441,
                    -53.691229216022975,
                    -35.766282964366745,
                    -15.733409916374905,
                    -24.03544534185005,
                    -65.54851828169902,
                    -61.349951908890276,
                    -11.8330797693477,
                    -41.96410947084113,
                    -57.99990345923234,
                    -13.303733598018432,
                    17.552528162025634,
                    -46.695322241628844,
                    -12.096242652301472,
                    -39.75223492898084,
                    -43.78442150344075,
                    -17.0606045596526,
                    -54.87071858261703,
                    -42.9979988803652,
                    -10.732082157281397,
                    -23.915456234591744,
                    -11.018636023888398,
                    6.547876295240252,
                    -68.81479520014544,
                    -40.81720029005512,
                    17.197774334990864,
                    2.4423092452072868,
                    -48.739958877971695,
                    -61.23640238664494,
                    -22.069685026681583,
                    -22.799289344786228,
                    -9.399867819451247,
                    -6.783869557057954,
                    28.97544560858984,
                    -44.888376746722344,
                    -57.86930799253613,
                    -5.487351427186161,
                    -28.260803291133545,
                    10.099384488323274,
                    -64.45459455802826,
                    -24.323325781088027,
                    -45.1871095402677,
                    -66.45228998364065,
                    -12.341097845702869,
                    -33.94736145334287,
                    -42.37120035760615,
                    -60.89070669161209,
                    -75.0662330463579,
                    -55.30127577781081,
                    -14.725078159118626,
                    -16.048761835158903,
                    131.98208334167947,
                    -62.297042857010396,
                    -44.22653740662639,
                    -10.152569557682078,
                    -51.155322632086936,
                    -55.14810421925438,
                    -51.50384130917161,
                    -11.051935056795603,
                    -32.43954813130016,
                    30.261684988815674,
                    -41.47931763198352,
                    -38.26617591438462,
                    -54.873810738990755,
                    -21.862419522474937,
                    -26.138023047128765,
                    -49.196348563111215,
                    8.54016373371769,
                    21.27191871936582,
                    53.45362050394314,
                    -53.1293177471754,
                    -29.320283507600386,
                    -8.684570024140946,
                    15.153845941620636,
                    -27.34559756055894,
                    -12.340021748758637,
                    -4.345649240094629,
                    -58.80821328300065,
                    -20.700884492098776,
                    -1.2524729388416198,
                    -46.3463981055086,
                    -15.904980886938025,
                    2.3095144463533193,
                    -1.600269137373058,
                    -31.310669528812785,
                    -39.42643302593591,
                    -17.03779441125692,
                    -34.05349349562336,
                    -43.47035322857855,
                    22.95638469143317,
                    -5.074991321520001,
                    17.71808045466609,
                    -52.70689487466663,
                    -10.733808539194964,
                    -49.30530641165681,
                    -36.47132371371317,
                    55.4394252442527,
                    -31.12097025718283,
                    -51.46207560943205,
                    -47.09177357896422,
                    -43.0512890421789,
                    -4.804518400866619,
                    -46.48419046769193,
                    154.10503450223078,
                    24.954288814573964,
                    -24.666829927494696,
                    -16.20823904440254,
                    -46.05994079247412,
                    -47.10269470816938,
                    -24.844178967099516,
                    -27.468204876402847,
                    -36.05993969295593,
                    9.581971725561594,
                    12.295785979948652,
                    -22.20179491612872,
                    24.237568828621825,
                    -56.105882859409945,
                    -18.72691530298404,
                    -31.52906853470273,
                    18.706786383743317,
                    -45.13686760088207,
                    22.125586399277157,
                    -36.312572146808336,
                    6.162953154484866,
                    41.601927634951544,
                    31.911639372325315,
                    199.7607705378597,
                    -7.192454482897168,
                    -17.37123182074418,
                    -71.84040058134937,
                    -10.049355210128784,
                    -17.219218869447598,
                    -48.370797746759365,
                    -20.11041717741931,
                    -9.829247599417736,
                    -47.181042131919156,
                    -14.449378013752776,
                    -15.725207084376304,
                    -37.1560933354443,
                    11.50497992212398,
                    -5.164301561559768,
                    -8.680958551841057,
                    -10.462648680007367,
                    -35.68679364499379,
                    48.04442975606479,
                    -17.71553107867522,
                    2.3121315250076693,
                    -39.540697686462096,
                    -46.69196184290231,
                    -52.056720503964286,
                    -22.16391212255802,
                    -35.1641354081074,
                    -27.23090667300539,
                    -23.317892788782263,
                    -37.86277438628437,
                    -21.10037511674298,
                    -15.69892158076679,
                    -6.247805815019583,
                    -23.72985296972391,
                    -30.606110062906808,
                    -3.8485462789680054,
                    -15.164068995860253,
                    -35.255760302562166,
                    -0.10963267022319868,
                    -36.27590032156115,
                    -0.18251136264254741,
                    -23.310562802627157,
                    -35.94929575745197,
                    -0.38244210363783715,
                    -17.0229895841649,
                    -26.992091807510963,
                    39.93858276843405,
                    9.854257307378417,
                    -10.458764956640913,
                    -30.368738442067347,
                    103.0514382155487,
                    -29.507193702822196,
                    4.286525871978155,
                    -24.708724289863124,
                    -22.96272560592163,
                    -11.593756624089297,
                    78.72095604285477,
                    -53.52857979715136,
                    -26.273447424364015,
                    -5.7099228848237775,
                    -8.903401964537625,
                    -29.273252417957604,
                    -37.36095055266335,
                    33.3134526552102,
                    40.399642884852476,
                    4.04754272399072,
                    -43.535411709962474,
                    5.237471937087042,
                    12.87233524827267,
                    -28.516522504530325,
                    -14.078755932858627,
                    -55.70684748381856,
                    -15.817713403291435,
                    4.419258482242392,
                    19.07841835836036,
                    119.24656287604459,
                    -6.230901577369706,
                    -59.69597180570677,
                    -21.631397480219515,
                    -14.442351011395866,
                    -36.42423976377092,
                    -35.06810175697203,
                    -8.276925259052168,
                    13.861531313863956,
                    -29.1985480972287,
                    91.36540482212642,
                    124.13102425718503,
                    -29.752790256357923,
                    -7.998271305341068,
                    -3.049379461369608,
                    -27.44926753929306,
                    31.791348083738267,
                    -29.969593837452024,
                    76.56693589325957,
                    -18.47278870743374,
                    165.25176438517738,
                    222.81396493219924,
                    -34.58099867255812,
                    3.3210142358708037,
                    -36.43228612824458,
                    -2.7157311169827874,
                    -20.962199582415572,
                    37.18574917038956,
                    80.84835697915656,
                    167.7470696968813,
                    -32.068184586719795,
                    -28.81540164402844,
                    -19.770962527567338,
                    -39.392038445429534,
                    -28.68978373874581,
                    19.248497331725616,
                    -56.47293197333263,
                    -0.4420524734845753,
                    -21.32107158876828,
                    12.381165866905338,
                    -22.177811022904365,
                    -35.96214925088848,
                    192.9238090450282,
                    260.6848553237156,
                    -24.982619206025714,
                    -32.6946241428834,
                    -33.45060356331285,
                    2.6089670056916447,
                    55.193243498333736,
                    2.9798494848964423,
                    -4.385509390385441,
                    -37.38701555010803,
                    -31.429068708495162,
                    7.553700438276466,
                    11.830610251276378,
                    104.99173593242371,
                    -8.45535656671611,
                    -30.026121180824102,
                    64.75999844063955,
                    151.53637526349445,
                    -48.191267087713,
                    -46.63845874461452,
                    51.40842798726157,
                    24.56943971729147,
                    -0.7875743446316819,
                    14.731429502264577,
                    1.5914119335000518,
                    -46.96298787291997,
                    92.01528592689773,
                    9.26559685220784,
                    -5.706874335894115,
                    21.566689678990382,
                    -17.4716137183352,
                    126.26865584505157,
                    -1.59203175932562,
                    7.145387793041849,
                    167.9226991962994,
                    -21.594075103782032,
                    -62.595600823302036,
                    -16.34409419576445,
                    10.23006163158823,
                    20.22394423548611,
                    -48.827691429574045,
                    175.34809626646367,
                    187.6242456242037,
                    80.87273868123826,
                    -32.056969443777525,
                    -18.375851003978358,
                    26.14094306018013,
                    1.081854147604161,
                    -22.26258392538687,
                    -29.109567982872594,
                    104.84032429896347,
                    225.8794278821861,
                    19.226447242127538,
                    -1.8741917411231996,
                    2.9416481035986615,
                    49.254718482681845,
                    96.2341648754619,
                    -22.336741011031467,
                    -44.524822890487364,
                    -27.798718082502198,
                    -19.444335776918383,
                    9.970399000338867,
                    -1.9921192714009968,
                    31.04359572693817,
                    -35.49296613250977,
                    74.14496622772755,
                    11.20262008687838,
                    185.17007318304562,
                    -19.159928117189267,
                    25.571146710613228,
                    68.50395284496301,
                    2.9836982678033035,
                    91.35727529196724,
                    21.37918919665166,
                    -12.45487576504456,
                    0.3390252162048751,
                    -44.305832465296746,
                    46.067103798607356,
                    223.24606942932093,
                    -24.965595286416676,
                    -32.10493145662944,
                    18.30168646723357,
                    -1.3281979769258736,
                    67.91421713607467,
                    22.10414232193585,
                    50.73269999881225,
                    -72.40126044899809,
                    -20.362538650845142,
                    10.394390395512515,
                    30.5817447282784,
                    -7.986103061909742,
                    209.1185153018649,
                    -30.762018374588752,
                    -2.8057846594804725,
                    -11.797068754518955,
                    -9.51545774364967,
                    -12.223440013541975,
                    94.99341757498026,
                    44.489455130369194,
                    -30.955717065684624,
                    -22.50034559780049,
                    39.14388323223912,
                    85.52804812064471,
                    10.418403762176666,
                    -14.488994106043542,
                    -35.64317552674139,
                    -28.435955021038684,
                    12.68243160539503,
                    23.745260928147843,
                    23.215000414619215,
                    0.8950805737616351,
                    173.4005927440717,
                    -14.321287841026782,
                    237.88148961280805,
                    -19.862883694722424,
                    -28.183460010631922,
                    -8.474069206213363,
                    -12.749397445242,
                    -0.1257560294668123,
                    -37.04906735311503,
                    -33.44694586368498,
                    -2.8444236002784593,
                    54.159384715457854,
                    -13.931723656274889,
                    144.21727744128563,
                    -14.204619968748018,
                    62.80859660142877,
                    32.28149999885482,
                    0.27007609186123704,
                    24.861728885537882,
                    -4.955996304484782,
                    167.40398295081215,
                    7.654678609815249,
                    66.52631344093795,
                    -7.416520407770136
                  ],
                  "xaxis": "x",
                  "y": [
                    1.3706150256722884,
                    -47.90166529600433,
                    12.372887393221163,
                    29.438167739061736,
                    -29.478445748006788,
                    -23.44431403083916,
                    -38.941871903620395,
                    -26.433949468262583,
                    19.318111439418516,
                    -23.312505778003345,
                    -24.589048956508424,
                    -25.116455828374377,
                    -72.8573274430874,
                    9.754582876789565,
                    -62.39024725294501,
                    -7.822229479006354,
                    43.151593693247456,
                    -13.381996425786236,
                    -23.487929202135536,
                    -26.339342856556698,
                    6.481988034195608,
                    31.838825690699757,
                    -59.22091806355541,
                    -40.2476089396663,
                    9.111791646245253,
                    -52.29527661884699,
                    18.894723560613798,
                    -22.646667749281438,
                    -10.803371069681496,
                    -49.37793779612493,
                    35.825339128094555,
                    7.000859791921256,
                    -80.29101945636974,
                    -29.690837013011805,
                    22.768838125160503,
                    -62.12940996094555,
                    -34.32896469578596,
                    -12.542353838799077,
                    73.57270867615695,
                    9.31656190430297,
                    31.630609476210132,
                    -16.07601342598776,
                    -1.8912234188589747,
                    35.16874122194664,
                    -16.4072996412667,
                    -4.800984170853799,
                    1.2181933741217175,
                    8.408663634982677,
                    -25.541381560874427,
                    30.429686212149747,
                    -36.71254852689597,
                    0.1369074965229403,
                    -35.7454494168829,
                    -18.732065516294224,
                    -33.99541280918887,
                    -39.45969715096992,
                    -20.71660857312434,
                    -72.54938932934306,
                    -19.075959952924375,
                    -57.65671251529857,
                    -19.600700494175914,
                    13.78717190260766,
                    -50.82739429311619,
                    -25.686892057388498,
                    -64.64987048753483,
                    -32.052817144481146,
                    -26.416047355269146,
                    -26.449384624015103,
                    -54.25860503651096,
                    -6.78215547382074,
                    -53.64342627973073,
                    -7.454699174003841,
                    4.087153703997264,
                    -34.93093169976565,
                    -15.803579434714575,
                    -22.357310772880407,
                    -23.5510049170613,
                    -21.141807550085108,
                    3.781215904087982,
                    -10.15207578487887,
                    84.1135171221099,
                    82.0350216668864,
                    -39.338678976336226,
                    -36.36552017172218,
                    -19.276024554175983,
                    -43.93820295213715,
                    26.734137862174784,
                    14.4043807114479,
                    11.913187633436099,
                    -70.92363398054512,
                    -24.842906106054993,
                    35.546462773390765,
                    50.38291604850417,
                    -13.871391812483557,
                    98.17109906804632,
                    40.65967276242244,
                    7.241781375011369,
                    26.115759664813403,
                    -25.556310647042903,
                    -32.58668612484264,
                    -4.260388161395151,
                    -46.31403534390298,
                    123.46249172641214,
                    30.794369064004314,
                    2.953421446874526,
                    -76.28069423533744,
                    20.883639806830168,
                    -38.22841782654152,
                    -14.49260586350074,
                    -34.756410724624615,
                    -0.03470801494214108,
                    -14.903718829352934,
                    -1.878247746846551,
                    -15.63515130225993,
                    16.257172388182433,
                    -1.1039567970281416,
                    82.75093731461227,
                    28.70540723509801,
                    28.098761044529716,
                    -14.199074845439768,
                    30.40185476330527,
                    19.491470548233323,
                    37.57437345500422,
                    -51.562023490614926,
                    -6.788546890426277,
                    -10.542259746860678,
                    13.749849396096224,
                    9.162443002919483,
                    -19.982642524558237,
                    -45.40072661412892,
                    4.047756432308907,
                    -56.328615359614375,
                    86.64806810619184,
                    -54.382751859115366,
                    -9.488717390501492,
                    -38.666407224984354,
                    60.90956824939329,
                    19.505560912965187,
                    -8.165392259489845,
                    -82.62056078394828,
                    -30.344766312931203,
                    45.74332403257407,
                    18.770770011916927,
                    1.0169841493758622,
                    -53.10359659110224,
                    -20.169572590998765,
                    20.85195042709807,
                    13.651886641932768,
                    -12.240446057414644,
                    5.368156292593095,
                    -34.07823313574779,
                    -12.795919536131505,
                    -36.340472407563055,
                    -29.389008511234593,
                    -24.2041717304043,
                    7.997204883407954,
                    -32.436444293531544,
                    37.12855053833543,
                    31.818905477908853,
                    -9.973950923196591,
                    -10.042590499744527,
                    -16.799044859190218,
                    0.07788991186586318,
                    32.13305142883902,
                    -7.32203563410393,
                    -3.684411524339226,
                    42.26141469329593,
                    -28.166072356240857,
                    69.53855992763752,
                    66.73690709480374,
                    66.56272980870574,
                    -32.001751039227514,
                    -7.2767379294978305,
                    -6.690591774738026,
                    -25.984148594862173,
                    -3.1117145019163965,
                    0.038929452527912294,
                    -8.821578776028213,
                    30.35368955628234,
                    -30.687997315757478,
                    -44.76841414657504,
                    125.79464839499313,
                    53.655786836742664,
                    -31.135678848485572,
                    -40.813931477635016,
                    -13.84983381168509,
                    28.355544296725988,
                    -7.438527785205581,
                    -59.15105003148915,
                    1.9140781797604378,
                    36.24168423226591,
                    -30.679215131481147,
                    63.92897103287665,
                    7.8305518758926,
                    -28.472695562912797,
                    21.535667087908756,
                    -12.27760823559704,
                    18.83373040275276,
                    27.215721974195343,
                    -17.735889185560566,
                    1.6651078496573728,
                    -77.81443882300546,
                    1.0714696767423322,
                    -22.001666035104424,
                    10.941228836297103,
                    9.37278965950423,
                    30.494680557132284,
                    -13.380060363426516,
                    32.79987818246987,
                    -70.44632777965359,
                    65.98754505593584,
                    8.38329026870795,
                    34.56909827697166,
                    -81.58324627558176,
                    -33.93142227112339,
                    5.9885182645411765,
                    -60.60753417597797,
                    75.10867476756542,
                    11.527759705654358,
                    14.143864895548704,
                    4.364666876012244,
                    96.4262134630021,
                    -10.562045657778626,
                    -85.40332640607345,
                    -11.994064999079843,
                    -40.47954975712418,
                    50.58583718092725,
                    1.0162425908948773,
                    -14.673718763304771,
                    77.43288007104002,
                    -4.883433364628412,
                    -64.15660804474581,
                    -48.627136929855105,
                    -95.77064086790695,
                    -148.18203809163995,
                    1.78249991817936,
                    82.0832445485771,
                    40.844282329955746,
                    38.55925139723507,
                    30.052990079941875,
                    -13.119758945538138,
                    -19.059837286052186,
                    182.79198011613258,
                    23.079590576129515,
                    -25.900129232350505,
                    71.67980524173443,
                    -10.698023435464265,
                    14.268872059145771,
                    54.46241161996417,
                    22.638829853148682,
                    -5.052737293353309,
                    22.74536966668344,
                    68.34772847180257,
                    22.79894178975936,
                    -6.766841125755351,
                    -32.71297698108051,
                    3.5761195402331394,
                    27.927197391755815,
                    8.879315252998794,
                    22.626929807392422,
                    37.7801970338241,
                    -83.34665075515943,
                    82.25863379646665,
                    -1.4624160328324627,
                    -17.298871951925697,
                    -41.86121002235472,
                    48.037973553923806,
                    -56.45770562853478,
                    -66.08959849919698,
                    0.6770564904888676,
                    -68.75335862970357,
                    -20.084161101687553,
                    155.09571952891895,
                    -52.21785362868597,
                    -18.30537571049683,
                    -16.233290960999398,
                    14.953273709623,
                    17.411367273996106,
                    -4.629030618636839,
                    50.38647367964313,
                    22.348130623289507,
                    -131.42556859767566,
                    -6.735896875316821,
                    10.368353935849138,
                    6.531222387957025,
                    24.047982756488697,
                    -59.704821355420265,
                    -7.9217609285202855,
                    15.985096616304704,
                    27.670065315539436,
                    -0.27362983036372507,
                    7.373375999507229,
                    44.24107600845931,
                    27.366812028720148,
                    71.93657346264138,
                    -30.051788167339037,
                    61.74112667672549,
                    12.203145074555914,
                    -117.23564646081581,
                    10.285817378878633,
                    -59.351976833916005,
                    87.83425940602804,
                    4.370490891054201,
                    -12.652203072936924,
                    5.169635782813367,
                    -22.131025048576628,
                    -14.307846150781646,
                    -6.879395602436624,
                    -48.37680175525375,
                    31.299371401886113,
                    11.415612006563986,
                    -39.21938605398189,
                    -19.744917648818554,
                    9.83706641947782,
                    -4.813168851660549,
                    24.213080852194945,
                    95.38792249843189,
                    -13.766016507230217,
                    71.77983121187474,
                    -43.52880543837188,
                    60.65750566875047,
                    8.69865436445089,
                    81.3627942003627,
                    13.923043106137287,
                    35.78089850493856,
                    -57.36110920069979,
                    40.74139471152132,
                    16.22971836902486,
                    3.5310748482082763,
                    30.38565705797881,
                    9.025923260606511,
                    -24.516068169623424,
                    -66.00494641369576,
                    -57.68333188242041,
                    71.16093592372886,
                    -14.099596943541762,
                    73.44173306173846,
                    18.890564521338863,
                    -43.6647809860543,
                    44.44242380438945,
                    -18.26697318568699,
                    -112.68836815615288,
                    3.7079403242772155,
                    -41.244743024543446,
                    44.84947822161631,
                    -3.113429095164971,
                    -134.7087741816186,
                    26.14818169157254,
                    42.30885949535857,
                    65.72173649052515,
                    39.66409988975736,
                    -13.560510577735595,
                    -56.28111096905153,
                    66.70909571942542,
                    47.78273137795267,
                    3.206795580220748,
                    12.206665079121239,
                    -15.400180765771097,
                    -4.599408475687088,
                    9.157894172642832,
                    19.99607938547363,
                    11.221293607084236,
                    24.281941122919758,
                    27.851146185687725,
                    96.57998233179494,
                    35.55208481913796,
                    39.863399781368315,
                    1.7344775604947906,
                    -31.98406815680691,
                    -45.15307675209168,
                    6.252481926957209,
                    -20.03689605883,
                    25.640693909427934,
                    11.433180918391734,
                    39.637471041620664,
                    18.858185632290095,
                    23.6647961751553,
                    -31.103994894462538,
                    38.109478831664546,
                    47.83899619209056,
                    -43.46109149010034,
                    37.90092226668051,
                    59.21462627631004,
                    43.90891037907149,
                    49.73210298520029,
                    31.133979169746947,
                    -33.62199611900228,
                    122.71618834073938,
                    23.084288304139736,
                    -33.795813249775776
                  ],
                  "yaxis": "y"
                }
              ],
              "layout": {
                "annotations": [
                  {
                    "ax": 0,
                    "ay": 0,
                    "text": "colesterol",
                    "x": 18.75158471924843,
                    "xanchor": "center",
                    "y": 40.168355613976814,
                    "yanchor": "bottom"
                  },
                  {
                    "ax": 0,
                    "ay": 0,
                    "text": "glucosa",
                    "x": 50.373638445791734,
                    "xanchor": "center",
                    "y": -13.258727720409338,
                    "yanchor": "bottom"
                  },
                  {
                    "ax": 0,
                    "ay": 0,
                    "text": "hdl_chol",
                    "x": -2.678656503681698,
                    "xanchor": "center",
                    "y": 5.934491196811922,
                    "yanchor": "bottom"
                  },
                  {
                    "ax": 0,
                    "ay": 0,
                    "text": "prop_col_hdl",
                    "x": 0.7605629650744988,
                    "xanchor": "center",
                    "y": 0.47167029287495765,
                    "yanchor": "bottom"
                  },
                  {
                    "ax": 0,
                    "ay": 0,
                    "text": "edad",
                    "x": 5.739789403292124,
                    "xanchor": "center",
                    "y": 3.0172162918312324,
                    "yanchor": "bottom"
                  },
                  {
                    "ax": 0,
                    "ay": 0,
                    "text": "genero",
                    "x": -0.045837511400722425,
                    "xanchor": "center",
                    "y": 0.03818104971260325,
                    "yanchor": "bottom"
                  },
                  {
                    "ax": 0,
                    "ay": 0,
                    "text": "altura",
                    "x": 0.4422795324051891,
                    "xanchor": "center",
                    "y": -0.5647762065902243,
                    "yanchor": "bottom"
                  },
                  {
                    "ax": 0,
                    "ay": 0,
                    "text": "peso",
                    "x": 15.814601430855804,
                    "xanchor": "center",
                    "y": -7.280246108009871,
                    "yanchor": "bottom"
                  },
                  {
                    "ax": 0,
                    "ay": 0,
                    "text": "IMC",
                    "x": 2.1261186061624313,
                    "xanchor": "center",
                    "y": -0.6822641703917912,
                    "yanchor": "bottom"
                  },
                  {
                    "ax": 0,
                    "ay": 0,
                    "text": "ps_sistolica",
                    "x": 6.229006284319104,
                    "xanchor": "center",
                    "y": 4.4635773018363185,
                    "yanchor": "bottom"
                  },
                  {
                    "ax": 0,
                    "ay": 0,
                    "text": "ps_diastolica",
                    "x": 1.74748919496629,
                    "xanchor": "center",
                    "y": 2.3869539259020907,
                    "yanchor": "bottom"
                  },
                  {
                    "ax": 0,
                    "ay": 0,
                    "text": "cintura",
                    "x": 2.407116798278184,
                    "xanchor": "center",
                    "y": -0.5136014277124819,
                    "yanchor": "bottom"
                  },
                  {
                    "ax": 0,
                    "ay": 0,
                    "text": "caderas",
                    "x": 1.841717019090366,
                    "xanchor": "center",
                    "y": -0.5498286069927277,
                    "yanchor": "bottom"
                  },
                  {
                    "ax": 0,
                    "ay": 0,
                    "text": "prop_cin_cad",
                    "x": 0.018154390340558244,
                    "xanchor": "center",
                    "y": -0.0011176827477352486,
                    "yanchor": "bottom"
                  }
                ],
                "coloraxis": {
                  "colorbar": {
                    "title": {
                      "text": "color"
                    }
                  },
                  "colorscale": [
                    [
                      0,
                      "#0d0887"
                    ],
                    [
                      0.1111111111111111,
                      "#46039f"
                    ],
                    [
                      0.2222222222222222,
                      "#7201a8"
                    ],
                    [
                      0.3333333333333333,
                      "#9c179e"
                    ],
                    [
                      0.4444444444444444,
                      "#bd3786"
                    ],
                    [
                      0.5555555555555556,
                      "#d8576b"
                    ],
                    [
                      0.6666666666666666,
                      "#ed7953"
                    ],
                    [
                      0.7777777777777778,
                      "#fb9f3a"
                    ],
                    [
                      0.8888888888888888,
                      "#fdca26"
                    ],
                    [
                      1,
                      "#f0f921"
                    ]
                  ]
                },
                "legend": {
                  "tracegroupgap": 0
                },
                "margin": {
                  "t": 60
                },
                "shapes": [
                  {
                    "type": "line",
                    "x0": 0,
                    "x1": 18.75158471924843,
                    "y0": 0,
                    "y1": 40.168355613976814
                  },
                  {
                    "type": "line",
                    "x0": 0,
                    "x1": 50.373638445791734,
                    "y0": 0,
                    "y1": -13.258727720409338
                  },
                  {
                    "type": "line",
                    "x0": 0,
                    "x1": -2.678656503681698,
                    "y0": 0,
                    "y1": 5.934491196811922
                  },
                  {
                    "type": "line",
                    "x0": 0,
                    "x1": 0.7605629650744988,
                    "y0": 0,
                    "y1": 0.47167029287495765
                  },
                  {
                    "type": "line",
                    "x0": 0,
                    "x1": 5.739789403292124,
                    "y0": 0,
                    "y1": 3.0172162918312324
                  },
                  {
                    "type": "line",
                    "x0": 0,
                    "x1": -0.045837511400722425,
                    "y0": 0,
                    "y1": 0.03818104971260325
                  },
                  {
                    "type": "line",
                    "x0": 0,
                    "x1": 0.4422795324051891,
                    "y0": 0,
                    "y1": -0.5647762065902243
                  },
                  {
                    "type": "line",
                    "x0": 0,
                    "x1": 15.814601430855804,
                    "y0": 0,
                    "y1": -7.280246108009871
                  },
                  {
                    "type": "line",
                    "x0": 0,
                    "x1": 2.1261186061624313,
                    "y0": 0,
                    "y1": -0.6822641703917912
                  },
                  {
                    "type": "line",
                    "x0": 0,
                    "x1": 6.229006284319104,
                    "y0": 0,
                    "y1": 4.4635773018363185
                  },
                  {
                    "type": "line",
                    "x0": 0,
                    "x1": 1.74748919496629,
                    "y0": 0,
                    "y1": 2.3869539259020907
                  },
                  {
                    "type": "line",
                    "x0": 0,
                    "x1": 2.407116798278184,
                    "y0": 0,
                    "y1": -0.5136014277124819
                  },
                  {
                    "type": "line",
                    "x0": 0,
                    "x1": 1.841717019090366,
                    "y0": 0,
                    "y1": -0.5498286069927277
                  },
                  {
                    "type": "line",
                    "x0": 0,
                    "x1": 0.018154390340558244,
                    "y0": 0,
                    "y1": -0.0011176827477352486
                  }
                ],
                "template": {
                  "data": {
                    "bar": [
                      {
                        "error_x": {
                          "color": "#2a3f5f"
                        },
                        "error_y": {
                          "color": "#2a3f5f"
                        },
                        "marker": {
                          "line": {
                            "color": "#E5ECF6",
                            "width": 0.5
                          },
                          "pattern": {
                            "fillmode": "overlay",
                            "size": 10,
                            "solidity": 0.2
                          }
                        },
                        "type": "bar"
                      }
                    ],
                    "barpolar": [
                      {
                        "marker": {
                          "line": {
                            "color": "#E5ECF6",
                            "width": 0.5
                          },
                          "pattern": {
                            "fillmode": "overlay",
                            "size": 10,
                            "solidity": 0.2
                          }
                        },
                        "type": "barpolar"
                      }
                    ],
                    "carpet": [
                      {
                        "aaxis": {
                          "endlinecolor": "#2a3f5f",
                          "gridcolor": "white",
                          "linecolor": "white",
                          "minorgridcolor": "white",
                          "startlinecolor": "#2a3f5f"
                        },
                        "baxis": {
                          "endlinecolor": "#2a3f5f",
                          "gridcolor": "white",
                          "linecolor": "white",
                          "minorgridcolor": "white",
                          "startlinecolor": "#2a3f5f"
                        },
                        "type": "carpet"
                      }
                    ],
                    "choropleth": [
                      {
                        "colorbar": {
                          "outlinewidth": 0,
                          "ticks": ""
                        },
                        "type": "choropleth"
                      }
                    ],
                    "contour": [
                      {
                        "colorbar": {
                          "outlinewidth": 0,
                          "ticks": ""
                        },
                        "colorscale": [
                          [
                            0,
                            "#0d0887"
                          ],
                          [
                            0.1111111111111111,
                            "#46039f"
                          ],
                          [
                            0.2222222222222222,
                            "#7201a8"
                          ],
                          [
                            0.3333333333333333,
                            "#9c179e"
                          ],
                          [
                            0.4444444444444444,
                            "#bd3786"
                          ],
                          [
                            0.5555555555555556,
                            "#d8576b"
                          ],
                          [
                            0.6666666666666666,
                            "#ed7953"
                          ],
                          [
                            0.7777777777777778,
                            "#fb9f3a"
                          ],
                          [
                            0.8888888888888888,
                            "#fdca26"
                          ],
                          [
                            1,
                            "#f0f921"
                          ]
                        ],
                        "type": "contour"
                      }
                    ],
                    "contourcarpet": [
                      {
                        "colorbar": {
                          "outlinewidth": 0,
                          "ticks": ""
                        },
                        "type": "contourcarpet"
                      }
                    ],
                    "heatmap": [
                      {
                        "colorbar": {
                          "outlinewidth": 0,
                          "ticks": ""
                        },
                        "colorscale": [
                          [
                            0,
                            "#0d0887"
                          ],
                          [
                            0.1111111111111111,
                            "#46039f"
                          ],
                          [
                            0.2222222222222222,
                            "#7201a8"
                          ],
                          [
                            0.3333333333333333,
                            "#9c179e"
                          ],
                          [
                            0.4444444444444444,
                            "#bd3786"
                          ],
                          [
                            0.5555555555555556,
                            "#d8576b"
                          ],
                          [
                            0.6666666666666666,
                            "#ed7953"
                          ],
                          [
                            0.7777777777777778,
                            "#fb9f3a"
                          ],
                          [
                            0.8888888888888888,
                            "#fdca26"
                          ],
                          [
                            1,
                            "#f0f921"
                          ]
                        ],
                        "type": "heatmap"
                      }
                    ],
                    "heatmapgl": [
                      {
                        "colorbar": {
                          "outlinewidth": 0,
                          "ticks": ""
                        },
                        "colorscale": [
                          [
                            0,
                            "#0d0887"
                          ],
                          [
                            0.1111111111111111,
                            "#46039f"
                          ],
                          [
                            0.2222222222222222,
                            "#7201a8"
                          ],
                          [
                            0.3333333333333333,
                            "#9c179e"
                          ],
                          [
                            0.4444444444444444,
                            "#bd3786"
                          ],
                          [
                            0.5555555555555556,
                            "#d8576b"
                          ],
                          [
                            0.6666666666666666,
                            "#ed7953"
                          ],
                          [
                            0.7777777777777778,
                            "#fb9f3a"
                          ],
                          [
                            0.8888888888888888,
                            "#fdca26"
                          ],
                          [
                            1,
                            "#f0f921"
                          ]
                        ],
                        "type": "heatmapgl"
                      }
                    ],
                    "histogram": [
                      {
                        "marker": {
                          "pattern": {
                            "fillmode": "overlay",
                            "size": 10,
                            "solidity": 0.2
                          }
                        },
                        "type": "histogram"
                      }
                    ],
                    "histogram2d": [
                      {
                        "colorbar": {
                          "outlinewidth": 0,
                          "ticks": ""
                        },
                        "colorscale": [
                          [
                            0,
                            "#0d0887"
                          ],
                          [
                            0.1111111111111111,
                            "#46039f"
                          ],
                          [
                            0.2222222222222222,
                            "#7201a8"
                          ],
                          [
                            0.3333333333333333,
                            "#9c179e"
                          ],
                          [
                            0.4444444444444444,
                            "#bd3786"
                          ],
                          [
                            0.5555555555555556,
                            "#d8576b"
                          ],
                          [
                            0.6666666666666666,
                            "#ed7953"
                          ],
                          [
                            0.7777777777777778,
                            "#fb9f3a"
                          ],
                          [
                            0.8888888888888888,
                            "#fdca26"
                          ],
                          [
                            1,
                            "#f0f921"
                          ]
                        ],
                        "type": "histogram2d"
                      }
                    ],
                    "histogram2dcontour": [
                      {
                        "colorbar": {
                          "outlinewidth": 0,
                          "ticks": ""
                        },
                        "colorscale": [
                          [
                            0,
                            "#0d0887"
                          ],
                          [
                            0.1111111111111111,
                            "#46039f"
                          ],
                          [
                            0.2222222222222222,
                            "#7201a8"
                          ],
                          [
                            0.3333333333333333,
                            "#9c179e"
                          ],
                          [
                            0.4444444444444444,
                            "#bd3786"
                          ],
                          [
                            0.5555555555555556,
                            "#d8576b"
                          ],
                          [
                            0.6666666666666666,
                            "#ed7953"
                          ],
                          [
                            0.7777777777777778,
                            "#fb9f3a"
                          ],
                          [
                            0.8888888888888888,
                            "#fdca26"
                          ],
                          [
                            1,
                            "#f0f921"
                          ]
                        ],
                        "type": "histogram2dcontour"
                      }
                    ],
                    "mesh3d": [
                      {
                        "colorbar": {
                          "outlinewidth": 0,
                          "ticks": ""
                        },
                        "type": "mesh3d"
                      }
                    ],
                    "parcoords": [
                      {
                        "line": {
                          "colorbar": {
                            "outlinewidth": 0,
                            "ticks": ""
                          }
                        },
                        "type": "parcoords"
                      }
                    ],
                    "pie": [
                      {
                        "automargin": true,
                        "type": "pie"
                      }
                    ],
                    "scatter": [
                      {
                        "marker": {
                          "colorbar": {
                            "outlinewidth": 0,
                            "ticks": ""
                          }
                        },
                        "type": "scatter"
                      }
                    ],
                    "scatter3d": [
                      {
                        "line": {
                          "colorbar": {
                            "outlinewidth": 0,
                            "ticks": ""
                          }
                        },
                        "marker": {
                          "colorbar": {
                            "outlinewidth": 0,
                            "ticks": ""
                          }
                        },
                        "type": "scatter3d"
                      }
                    ],
                    "scattercarpet": [
                      {
                        "marker": {
                          "colorbar": {
                            "outlinewidth": 0,
                            "ticks": ""
                          }
                        },
                        "type": "scattercarpet"
                      }
                    ],
                    "scattergeo": [
                      {
                        "marker": {
                          "colorbar": {
                            "outlinewidth": 0,
                            "ticks": ""
                          }
                        },
                        "type": "scattergeo"
                      }
                    ],
                    "scattergl": [
                      {
                        "marker": {
                          "colorbar": {
                            "outlinewidth": 0,
                            "ticks": ""
                          }
                        },
                        "type": "scattergl"
                      }
                    ],
                    "scattermapbox": [
                      {
                        "marker": {
                          "colorbar": {
                            "outlinewidth": 0,
                            "ticks": ""
                          }
                        },
                        "type": "scattermapbox"
                      }
                    ],
                    "scatterpolar": [
                      {
                        "marker": {
                          "colorbar": {
                            "outlinewidth": 0,
                            "ticks": ""
                          }
                        },
                        "type": "scatterpolar"
                      }
                    ],
                    "scatterpolargl": [
                      {
                        "marker": {
                          "colorbar": {
                            "outlinewidth": 0,
                            "ticks": ""
                          }
                        },
                        "type": "scatterpolargl"
                      }
                    ],
                    "scatterternary": [
                      {
                        "marker": {
                          "colorbar": {
                            "outlinewidth": 0,
                            "ticks": ""
                          }
                        },
                        "type": "scatterternary"
                      }
                    ],
                    "surface": [
                      {
                        "colorbar": {
                          "outlinewidth": 0,
                          "ticks": ""
                        },
                        "colorscale": [
                          [
                            0,
                            "#0d0887"
                          ],
                          [
                            0.1111111111111111,
                            "#46039f"
                          ],
                          [
                            0.2222222222222222,
                            "#7201a8"
                          ],
                          [
                            0.3333333333333333,
                            "#9c179e"
                          ],
                          [
                            0.4444444444444444,
                            "#bd3786"
                          ],
                          [
                            0.5555555555555556,
                            "#d8576b"
                          ],
                          [
                            0.6666666666666666,
                            "#ed7953"
                          ],
                          [
                            0.7777777777777778,
                            "#fb9f3a"
                          ],
                          [
                            0.8888888888888888,
                            "#fdca26"
                          ],
                          [
                            1,
                            "#f0f921"
                          ]
                        ],
                        "type": "surface"
                      }
                    ],
                    "table": [
                      {
                        "cells": {
                          "fill": {
                            "color": "#EBF0F8"
                          },
                          "line": {
                            "color": "white"
                          }
                        },
                        "header": {
                          "fill": {
                            "color": "#C8D4E3"
                          },
                          "line": {
                            "color": "white"
                          }
                        },
                        "type": "table"
                      }
                    ]
                  },
                  "layout": {
                    "annotationdefaults": {
                      "arrowcolor": "#2a3f5f",
                      "arrowhead": 0,
                      "arrowwidth": 1
                    },
                    "autotypenumbers": "strict",
                    "coloraxis": {
                      "colorbar": {
                        "outlinewidth": 0,
                        "ticks": ""
                      }
                    },
                    "colorscale": {
                      "diverging": [
                        [
                          0,
                          "#8e0152"
                        ],
                        [
                          0.1,
                          "#c51b7d"
                        ],
                        [
                          0.2,
                          "#de77ae"
                        ],
                        [
                          0.3,
                          "#f1b6da"
                        ],
                        [
                          0.4,
                          "#fde0ef"
                        ],
                        [
                          0.5,
                          "#f7f7f7"
                        ],
                        [
                          0.6,
                          "#e6f5d0"
                        ],
                        [
                          0.7,
                          "#b8e186"
                        ],
                        [
                          0.8,
                          "#7fbc41"
                        ],
                        [
                          0.9,
                          "#4d9221"
                        ],
                        [
                          1,
                          "#276419"
                        ]
                      ],
                      "sequential": [
                        [
                          0,
                          "#0d0887"
                        ],
                        [
                          0.1111111111111111,
                          "#46039f"
                        ],
                        [
                          0.2222222222222222,
                          "#7201a8"
                        ],
                        [
                          0.3333333333333333,
                          "#9c179e"
                        ],
                        [
                          0.4444444444444444,
                          "#bd3786"
                        ],
                        [
                          0.5555555555555556,
                          "#d8576b"
                        ],
                        [
                          0.6666666666666666,
                          "#ed7953"
                        ],
                        [
                          0.7777777777777778,
                          "#fb9f3a"
                        ],
                        [
                          0.8888888888888888,
                          "#fdca26"
                        ],
                        [
                          1,
                          "#f0f921"
                        ]
                      ],
                      "sequentialminus": [
                        [
                          0,
                          "#0d0887"
                        ],
                        [
                          0.1111111111111111,
                          "#46039f"
                        ],
                        [
                          0.2222222222222222,
                          "#7201a8"
                        ],
                        [
                          0.3333333333333333,
                          "#9c179e"
                        ],
                        [
                          0.4444444444444444,
                          "#bd3786"
                        ],
                        [
                          0.5555555555555556,
                          "#d8576b"
                        ],
                        [
                          0.6666666666666666,
                          "#ed7953"
                        ],
                        [
                          0.7777777777777778,
                          "#fb9f3a"
                        ],
                        [
                          0.8888888888888888,
                          "#fdca26"
                        ],
                        [
                          1,
                          "#f0f921"
                        ]
                      ]
                    },
                    "colorway": [
                      "#636efa",
                      "#EF553B",
                      "#00cc96",
                      "#ab63fa",
                      "#FFA15A",
                      "#19d3f3",
                      "#FF6692",
                      "#B6E880",
                      "#FF97FF",
                      "#FECB52"
                    ],
                    "font": {
                      "color": "#2a3f5f"
                    },
                    "geo": {
                      "bgcolor": "white",
                      "lakecolor": "white",
                      "landcolor": "#E5ECF6",
                      "showlakes": true,
                      "showland": true,
                      "subunitcolor": "white"
                    },
                    "hoverlabel": {
                      "align": "left"
                    },
                    "hovermode": "closest",
                    "mapbox": {
                      "style": "light"
                    },
                    "paper_bgcolor": "white",
                    "plot_bgcolor": "#E5ECF6",
                    "polar": {
                      "angularaxis": {
                        "gridcolor": "white",
                        "linecolor": "white",
                        "ticks": ""
                      },
                      "bgcolor": "#E5ECF6",
                      "radialaxis": {
                        "gridcolor": "white",
                        "linecolor": "white",
                        "ticks": ""
                      }
                    },
                    "scene": {
                      "xaxis": {
                        "backgroundcolor": "#E5ECF6",
                        "gridcolor": "white",
                        "gridwidth": 2,
                        "linecolor": "white",
                        "showbackground": true,
                        "ticks": "",
                        "zerolinecolor": "white"
                      },
                      "yaxis": {
                        "backgroundcolor": "#E5ECF6",
                        "gridcolor": "white",
                        "gridwidth": 2,
                        "linecolor": "white",
                        "showbackground": true,
                        "ticks": "",
                        "zerolinecolor": "white"
                      },
                      "zaxis": {
                        "backgroundcolor": "#E5ECF6",
                        "gridcolor": "white",
                        "gridwidth": 2,
                        "linecolor": "white",
                        "showbackground": true,
                        "ticks": "",
                        "zerolinecolor": "white"
                      }
                    },
                    "shapedefaults": {
                      "line": {
                        "color": "#2a3f5f"
                      }
                    },
                    "ternary": {
                      "aaxis": {
                        "gridcolor": "white",
                        "linecolor": "white",
                        "ticks": ""
                      },
                      "baxis": {
                        "gridcolor": "white",
                        "linecolor": "white",
                        "ticks": ""
                      },
                      "bgcolor": "#E5ECF6",
                      "caxis": {
                        "gridcolor": "white",
                        "linecolor": "white",
                        "ticks": ""
                      }
                    },
                    "title": {
                      "x": 0.05
                    },
                    "xaxis": {
                      "automargin": true,
                      "gridcolor": "white",
                      "linecolor": "white",
                      "ticks": "",
                      "title": {
                        "standoff": 15
                      },
                      "zerolinecolor": "white",
                      "zerolinewidth": 2
                    },
                    "yaxis": {
                      "automargin": true,
                      "gridcolor": "white",
                      "linecolor": "white",
                      "ticks": "",
                      "title": {
                        "standoff": 15
                      },
                      "zerolinecolor": "white",
                      "zerolinewidth": 2
                    }
                  }
                },
                "xaxis": {
                  "anchor": "y",
                  "domain": [
                    0,
                    1
                  ],
                  "title": {
                    "text": "0"
                  }
                },
                "yaxis": {
                  "anchor": "x",
                  "domain": [
                    0,
                    1
                  ],
                  "title": {
                    "text": "1"
                  }
                }
              }
            }
          },
          "metadata": {},
          "output_type": "display_data"
        }
      ],
      "source": [
        "features_1 = ['colesterol', 'glucosa', 'hdl_chol', 'prop_col_hdl', 'edad', 'genero', 'altura', 'peso', 'IMC', 'ps_sistolica', 'ps_diastolica', 'cintura', 'caderas', 'prop_cin_cad']\n",
        "X_1 = df[features]\n",
        "\n",
        "pca = PCA(n_components=2)\n",
        "componentes = pca.fit_transform(X_1)\n",
        "\n",
        "loadings_1 = pca.components_.T * np.sqrt(pca.explained_variance_)\n",
        "\n",
        "fig = px.scatter(componentes, x=0, y=1, color=df['diabetes'])\n",
        "for i, feature in enumerate(features_1):\n",
        "    fig.add_shape(\n",
        "        type='line',\n",
        "        x0=0, y0=0,\n",
        "        x1=loadings_1[i, 0],\n",
        "        y1=loadings_1[i, 1]\n",
        "    )\n",
        "    fig.add_annotation(\n",
        "        x=loadings_1[i, 0],\n",
        "        y=loadings_1[i, 1],\n",
        "        ax=0, ay=0,\n",
        "        xanchor=\"center\",\n",
        "        yanchor=\"bottom\",\n",
        "        text=feature,\n",
        "    )\n",
        "fig.show()\n",
        "\n"
      ]
    },
    {
      "attachments": {},
      "cell_type": "markdown",
      "metadata": {
        "id": "ypiwgxmFGd-c"
      },
      "source": [
        "## ***Red Bayesiana***"
      ]
    },
    {
      "cell_type": "code",
      "execution_count": null,
      "metadata": {
        "id": "dsN26_ghGd-c"
      },
      "outputs": [],
      "source": [
        "df_b = df"
      ]
    },
    {
      "cell_type": "code",
      "execution_count": null,
      "metadata": {
        "id": "ILg4lbkgGd-d"
      },
      "outputs": [],
      "source": [
        "df_b['diabetes'].replace(['No_diabetes', 'Diabetes'], [0,1], inplace=True)"
      ]
    },
    {
      "cell_type": "code",
      "execution_count": null,
      "metadata": {
        "id": "Djsbk08HGd-k",
        "outputId": "5009c0d2-0602-4f51-8584-3d5cd5cd30bf"
      },
      "outputs": [
        {
          "data": {
            "text/html": [
              "<div>\n",
              "<style scoped>\n",
              "    .dataframe tbody tr th:only-of-type {\n",
              "        vertical-align: middle;\n",
              "    }\n",
              "\n",
              "    .dataframe tbody tr th {\n",
              "        vertical-align: top;\n",
              "    }\n",
              "\n",
              "    .dataframe thead th {\n",
              "        text-align: right;\n",
              "    }\n",
              "</style>\n",
              "<table border=\"1\" class=\"dataframe\">\n",
              "  <thead>\n",
              "    <tr style=\"text-align: right;\">\n",
              "      <th></th>\n",
              "      <th>Unnamed: 0</th>\n",
              "      <th>colesterol</th>\n",
              "      <th>glucosa</th>\n",
              "      <th>hdl_chol</th>\n",
              "      <th>prop_col_hdl</th>\n",
              "      <th>edad</th>\n",
              "      <th>genero</th>\n",
              "      <th>altura</th>\n",
              "      <th>peso</th>\n",
              "      <th>IMC</th>\n",
              "      <th>ps_sistolica</th>\n",
              "      <th>ps_diastolica</th>\n",
              "      <th>cintura</th>\n",
              "      <th>caderas</th>\n",
              "      <th>prop_cin_cad</th>\n",
              "      <th>diabetes</th>\n",
              "    </tr>\n",
              "  </thead>\n",
              "  <tbody>\n",
              "    <tr>\n",
              "      <th>0</th>\n",
              "      <td>1</td>\n",
              "      <td>193</td>\n",
              "      <td>77</td>\n",
              "      <td>49</td>\n",
              "      <td>3.9</td>\n",
              "      <td>19</td>\n",
              "      <td>1</td>\n",
              "      <td>61</td>\n",
              "      <td>119</td>\n",
              "      <td>22.5</td>\n",
              "      <td>118</td>\n",
              "      <td>70</td>\n",
              "      <td>32</td>\n",
              "      <td>38</td>\n",
              "      <td>0.84</td>\n",
              "      <td>0</td>\n",
              "    </tr>\n",
              "    <tr>\n",
              "      <th>1</th>\n",
              "      <td>2</td>\n",
              "      <td>146</td>\n",
              "      <td>79</td>\n",
              "      <td>41</td>\n",
              "      <td>3.6</td>\n",
              "      <td>19</td>\n",
              "      <td>1</td>\n",
              "      <td>60</td>\n",
              "      <td>135</td>\n",
              "      <td>26.4</td>\n",
              "      <td>108</td>\n",
              "      <td>58</td>\n",
              "      <td>33</td>\n",
              "      <td>40</td>\n",
              "      <td>0.83</td>\n",
              "      <td>0</td>\n",
              "    </tr>\n",
              "    <tr>\n",
              "      <th>2</th>\n",
              "      <td>3</td>\n",
              "      <td>217</td>\n",
              "      <td>75</td>\n",
              "      <td>54</td>\n",
              "      <td>4.0</td>\n",
              "      <td>20</td>\n",
              "      <td>1</td>\n",
              "      <td>67</td>\n",
              "      <td>187</td>\n",
              "      <td>29.3</td>\n",
              "      <td>110</td>\n",
              "      <td>72</td>\n",
              "      <td>40</td>\n",
              "      <td>45</td>\n",
              "      <td>0.89</td>\n",
              "      <td>0</td>\n",
              "    </tr>\n",
              "    <tr>\n",
              "      <th>3</th>\n",
              "      <td>4</td>\n",
              "      <td>226</td>\n",
              "      <td>97</td>\n",
              "      <td>70</td>\n",
              "      <td>3.2</td>\n",
              "      <td>20</td>\n",
              "      <td>1</td>\n",
              "      <td>64</td>\n",
              "      <td>114</td>\n",
              "      <td>19.6</td>\n",
              "      <td>122</td>\n",
              "      <td>64</td>\n",
              "      <td>31</td>\n",
              "      <td>39</td>\n",
              "      <td>0.79</td>\n",
              "      <td>0</td>\n",
              "    </tr>\n",
              "    <tr>\n",
              "      <th>4</th>\n",
              "      <td>5</td>\n",
              "      <td>164</td>\n",
              "      <td>91</td>\n",
              "      <td>67</td>\n",
              "      <td>2.4</td>\n",
              "      <td>20</td>\n",
              "      <td>1</td>\n",
              "      <td>70</td>\n",
              "      <td>141</td>\n",
              "      <td>20.2</td>\n",
              "      <td>122</td>\n",
              "      <td>86</td>\n",
              "      <td>32</td>\n",
              "      <td>39</td>\n",
              "      <td>0.82</td>\n",
              "      <td>0</td>\n",
              "    </tr>\n",
              "  </tbody>\n",
              "</table>\n",
              "</div>"
            ],
            "text/plain": [
              "   Unnamed: 0  colesterol  glucosa  hdl_chol  prop_col_hdl  edad  genero  \\\n",
              "0           1         193       77        49           3.9    19       1   \n",
              "1           2         146       79        41           3.6    19       1   \n",
              "2           3         217       75        54           4.0    20       1   \n",
              "3           4         226       97        70           3.2    20       1   \n",
              "4           5         164       91        67           2.4    20       1   \n",
              "\n",
              "   altura  peso   IMC  ps_sistolica  ps_diastolica  cintura  caderas  \\\n",
              "0      61   119  22.5           118             70       32       38   \n",
              "1      60   135  26.4           108             58       33       40   \n",
              "2      67   187  29.3           110             72       40       45   \n",
              "3      64   114  19.6           122             64       31       39   \n",
              "4      70   141  20.2           122             86       32       39   \n",
              "\n",
              "   prop_cin_cad  diabetes  \n",
              "0          0.84         0  \n",
              "1          0.83         0  \n",
              "2          0.89         0  \n",
              "3          0.79         0  \n",
              "4          0.82         0  "
            ]
          },
          "execution_count": 12,
          "metadata": {},
          "output_type": "execute_result"
        }
      ],
      "source": [
        "df_b.head(5)"
      ]
    },
    {
      "cell_type": "code",
      "execution_count": null,
      "metadata": {
        "id": "w20NAjKPGd-k",
        "outputId": "18a8985e-bf5e-47d5-e9ea-bc234192574c"
      },
      "outputs": [
        {
          "name": "stderr",
          "output_type": "stream",
          "text": [
            "/Users/davogonzalez/opt/miniconda3/lib/python3.8/site-packages/pgmpy/models/BayesianModel.py:8: FutureWarning:\n",
            "\n",
            "BayesianModel has been renamed to BayesianNetwork. Please use BayesianNetwork class, BayesianModel will be removed in future.\n",
            "\n"
          ]
        }
      ],
      "source": [
        "model_1 = BayesianModel([(\"colesterol\", \"diabetes\"), (\"glucosa\", \"diabetes\")])"
      ]
    },
    {
      "cell_type": "code",
      "execution_count": null,
      "metadata": {
        "id": "unPnhazOGd-l"
      },
      "outputs": [],
      "source": [
        "model_1.fit(df_b, estimator=MaximumLikelihoodEstimator)"
      ]
    },
    {
      "cell_type": "code",
      "execution_count": null,
      "metadata": {
        "id": "MBgeTQG2Gd-m",
        "outputId": "2409261c-741f-45e1-e336-25ba82b191bc"
      },
      "outputs": [
        {
          "name": "stdout",
          "output_type": "stream",
          "text": [
            "+--------------+------------+\n",
            "| glucosa(48)  | 0.0025641  |\n",
            "+--------------+------------+\n",
            "| glucosa(52)  | 0.0025641  |\n",
            "+--------------+------------+\n",
            "| glucosa(54)  | 0.0025641  |\n",
            "+--------------+------------+\n",
            "| glucosa(56)  | 0.00512821 |\n",
            "+--------------+------------+\n",
            "| glucosa(57)  | 0.0025641  |\n",
            "+--------------+------------+\n",
            "| glucosa(58)  | 0.0025641  |\n",
            "+--------------+------------+\n",
            "| glucosa(59)  | 0.0025641  |\n",
            "+--------------+------------+\n",
            "| glucosa(60)  | 0.0025641  |\n",
            "+--------------+------------+\n",
            "| glucosa(62)  | 0.0025641  |\n",
            "+--------------+------------+\n",
            "| glucosa(64)  | 0.00512821 |\n",
            "+--------------+------------+\n",
            "| glucosa(65)  | 0.00512821 |\n",
            "+--------------+------------+\n",
            "| glucosa(66)  | 0.0025641  |\n",
            "+--------------+------------+\n",
            "| glucosa(67)  | 0.0102564  |\n",
            "+--------------+------------+\n",
            "| glucosa(68)  | 0.00512821 |\n",
            "+--------------+------------+\n",
            "| glucosa(69)  | 0.0102564  |\n",
            "+--------------+------------+\n",
            "| glucosa(70)  | 0.00769231 |\n",
            "+--------------+------------+\n",
            "| glucosa(71)  | 0.0153846  |\n",
            "+--------------+------------+\n",
            "| glucosa(72)  | 0.0025641  |\n",
            "+--------------+------------+\n",
            "| glucosa(73)  | 0.00512821 |\n",
            "+--------------+------------+\n",
            "| glucosa(74)  | 0.025641   |\n",
            "+--------------+------------+\n",
            "| glucosa(75)  | 0.0205128  |\n",
            "+--------------+------------+\n",
            "| glucosa(76)  | 0.025641   |\n",
            "+--------------+------------+\n",
            "| glucosa(77)  | 0.0282051  |\n",
            "+--------------+------------+\n",
            "| glucosa(78)  | 0.0128205  |\n",
            "+--------------+------------+\n",
            "| glucosa(79)  | 0.0179487  |\n",
            "+--------------+------------+\n",
            "| glucosa(80)  | 0.0153846  |\n",
            "+--------------+------------+\n",
            "| glucosa(81)  | 0.0384615  |\n",
            "+--------------+------------+\n",
            "| glucosa(82)  | 0.025641   |\n",
            "+--------------+------------+\n",
            "| glucosa(83)  | 0.0282051  |\n",
            "+--------------+------------+\n",
            "| glucosa(84)  | 0.0307692  |\n",
            "+--------------+------------+\n",
            "| glucosa(85)  | 0.0461538  |\n",
            "+--------------+------------+\n",
            "| glucosa(86)  | 0.0179487  |\n",
            "+--------------+------------+\n",
            "| glucosa(87)  | 0.0307692  |\n",
            "+--------------+------------+\n",
            "| glucosa(88)  | 0.0230769  |\n",
            "+--------------+------------+\n",
            "| glucosa(89)  | 0.0153846  |\n",
            "+--------------+------------+\n",
            "| glucosa(90)  | 0.025641   |\n",
            "+--------------+------------+\n",
            "| glucosa(91)  | 0.025641   |\n",
            "+--------------+------------+\n",
            "| glucosa(92)  | 0.0358974  |\n",
            "+--------------+------------+\n",
            "| glucosa(93)  | 0.00769231 |\n",
            "+--------------+------------+\n",
            "| glucosa(94)  | 0.0205128  |\n",
            "+--------------+------------+\n",
            "| glucosa(95)  | 0.0179487  |\n",
            "+--------------+------------+\n",
            "| glucosa(96)  | 0.00512821 |\n",
            "+--------------+------------+\n",
            "| glucosa(97)  | 0.0179487  |\n",
            "+--------------+------------+\n",
            "| glucosa(98)  | 0.00769231 |\n",
            "+--------------+------------+\n",
            "| glucosa(99)  | 0.00512821 |\n",
            "+--------------+------------+\n",
            "| glucosa(100) | 0.0128205  |\n",
            "+--------------+------------+\n",
            "| glucosa(101) | 0.0205128  |\n",
            "+--------------+------------+\n",
            "| glucosa(102) | 0.00769231 |\n",
            "+--------------+------------+\n",
            "| glucosa(103) | 0.00769231 |\n",
            "+--------------+------------+\n",
            "| glucosa(104) | 0.00512821 |\n",
            "+--------------+------------+\n",
            "| glucosa(105) | 0.0128205  |\n",
            "+--------------+------------+\n",
            "| glucosa(106) | 0.0128205  |\n",
            "+--------------+------------+\n",
            "| glucosa(107) | 0.0025641  |\n",
            "+--------------+------------+\n",
            "| glucosa(108) | 0.00512821 |\n",
            "+--------------+------------+\n",
            "| glucosa(109) | 0.00769231 |\n",
            "+--------------+------------+\n",
            "| glucosa(110) | 0.00512821 |\n",
            "+--------------+------------+\n",
            "| glucosa(111) | 0.00769231 |\n",
            "+--------------+------------+\n",
            "| glucosa(112) | 0.0128205  |\n",
            "+--------------+------------+\n",
            "| glucosa(113) | 0.00512821 |\n",
            "+--------------+------------+\n",
            "| glucosa(115) | 0.00769231 |\n",
            "+--------------+------------+\n",
            "| glucosa(117) | 0.0025641  |\n",
            "+--------------+------------+\n",
            "| glucosa(118) | 0.00769231 |\n",
            "+--------------+------------+\n",
            "| glucosa(119) | 0.00769231 |\n",
            "+--------------+------------+\n",
            "| glucosa(120) | 0.0128205  |\n",
            "+--------------+------------+\n",
            "| glucosa(121) | 0.00512821 |\n",
            "+--------------+------------+\n",
            "| glucosa(122) | 0.00512821 |\n",
            "+--------------+------------+\n",
            "| glucosa(124) | 0.0025641  |\n",
            "+--------------+------------+\n",
            "| glucosa(125) | 0.0025641  |\n",
            "+--------------+------------+\n",
            "| glucosa(126) | 0.00512821 |\n",
            "+--------------+------------+\n",
            "| glucosa(128) | 0.00512821 |\n",
            "+--------------+------------+\n",
            "| glucosa(130) | 0.00512821 |\n",
            "+--------------+------------+\n",
            "| glucosa(131) | 0.0025641  |\n",
            "+--------------+------------+\n",
            "| glucosa(133) | 0.0025641  |\n",
            "+--------------+------------+\n",
            "| glucosa(138) | 0.0025641  |\n",
            "+--------------+------------+\n",
            "| glucosa(145) | 0.0025641  |\n",
            "+--------------+------------+\n",
            "| glucosa(153) | 0.0025641  |\n",
            "+--------------+------------+\n",
            "| glucosa(155) | 0.00769231 |\n",
            "+--------------+------------+\n",
            "| glucosa(161) | 0.0025641  |\n",
            "+--------------+------------+\n",
            "| glucosa(171) | 0.0025641  |\n",
            "+--------------+------------+\n",
            "| glucosa(172) | 0.0025641  |\n",
            "+--------------+------------+\n",
            "| glucosa(173) | 0.00769231 |\n",
            "+--------------+------------+\n",
            "| glucosa(174) | 0.0025641  |\n",
            "+--------------+------------+\n",
            "| glucosa(176) | 0.0025641  |\n",
            "+--------------+------------+\n",
            "| glucosa(177) | 0.0025641  |\n",
            "+--------------+------------+\n",
            "| glucosa(182) | 0.0025641  |\n",
            "+--------------+------------+\n",
            "| glucosa(184) | 0.0025641  |\n",
            "+--------------+------------+\n",
            "| glucosa(185) | 0.0025641  |\n",
            "+--------------+------------+\n",
            "| glucosa(187) | 0.0025641  |\n",
            "+--------------+------------+\n",
            "| glucosa(193) | 0.0025641  |\n",
            "+--------------+------------+\n",
            "| glucosa(196) | 0.0025641  |\n",
            "+--------------+------------+\n",
            "| glucosa(197) | 0.00512821 |\n",
            "+--------------+------------+\n",
            "| glucosa(203) | 0.0025641  |\n",
            "+--------------+------------+\n",
            "| glucosa(206) | 0.00769231 |\n",
            "+--------------+------------+\n",
            "| glucosa(223) | 0.0025641  |\n",
            "+--------------+------------+\n",
            "| glucosa(225) | 0.00512821 |\n",
            "+--------------+------------+\n",
            "| glucosa(228) | 0.0025641  |\n",
            "+--------------+------------+\n",
            "| glucosa(233) | 0.0025641  |\n",
            "+--------------+------------+\n",
            "| glucosa(235) | 0.0025641  |\n",
            "+--------------+------------+\n",
            "| glucosa(236) | 0.0025641  |\n",
            "+--------------+------------+\n",
            "| glucosa(239) | 0.0025641  |\n",
            "+--------------+------------+\n",
            "| glucosa(248) | 0.0025641  |\n",
            "+--------------+------------+\n",
            "| glucosa(251) | 0.0025641  |\n",
            "+--------------+------------+\n",
            "| glucosa(255) | 0.0025641  |\n",
            "+--------------+------------+\n",
            "| glucosa(262) | 0.0025641  |\n",
            "+--------------+------------+\n",
            "| glucosa(267) | 0.0025641  |\n",
            "+--------------+------------+\n",
            "| glucosa(269) | 0.0025641  |\n",
            "+--------------+------------+\n",
            "| glucosa(270) | 0.00512821 |\n",
            "+--------------+------------+\n",
            "| glucosa(279) | 0.0025641  |\n",
            "+--------------+------------+\n",
            "| glucosa(297) | 0.0025641  |\n",
            "+--------------+------------+\n",
            "| glucosa(299) | 0.0025641  |\n",
            "+--------------+------------+\n",
            "| glucosa(330) | 0.0025641  |\n",
            "+--------------+------------+\n",
            "| glucosa(341) | 0.0025641  |\n",
            "+--------------+------------+\n",
            "| glucosa(342) | 0.0025641  |\n",
            "+--------------+------------+\n",
            "| glucosa(369) | 0.0025641  |\n",
            "+--------------+------------+\n",
            "| glucosa(371) | 0.0025641  |\n",
            "+--------------+------------+\n",
            "| glucosa(385) | 0.0025641  |\n",
            "+--------------+------------+\n"
          ]
        }
      ],
      "source": [
        "print(model_1.get_cpds('glucosa'))"
      ]
    },
    {
      "cell_type": "code",
      "execution_count": null,
      "metadata": {
        "id": "DM2XE0WzGd-m"
      },
      "outputs": [],
      "source": [
        "first_network_infer = VariableElimination(model_1)"
      ]
    },
    {
      "cell_type": "code",
      "execution_count": null,
      "metadata": {
        "id": "bA8vA3bsGd-m",
        "outputId": "f3596c38-e1ec-4a3a-d532-def73e7f1d81"
      },
      "outputs": [
        {
          "name": "stderr",
          "output_type": "stream",
          "text": [
            "\n",
            "\u001b[A\n",
            "\u001b[A\n",
            "\n",
            "\u001b[A\u001b[A\n",
            "\n",
            "Eliminating: colesterol: 100%|██████████| 1/1 [00:00<00:00, 673.57it/s]"
          ]
        },
        {
          "name": "stdout",
          "output_type": "stream",
          "text": [
            "+-------------+-----------------+\n",
            "| diabetes    |   phi(diabetes) |\n",
            "+=============+=================+\n",
            "| diabetes(0) |          0.5205 |\n",
            "+-------------+-----------------+\n",
            "| diabetes(1) |          0.4795 |\n",
            "+-------------+-----------------+\n"
          ]
        },
        {
          "name": "stderr",
          "output_type": "stream",
          "text": [
            "\n"
          ]
        }
      ],
      "source": [
        "q1 = first_network_infer.query(variables=['diabetes'], evidence={'glucosa': 70})\n",
        "print(q1)"
      ]
    },
    {
      "cell_type": "code",
      "execution_count": null,
      "metadata": {
        "id": "ODuWnE1rGd-n",
        "outputId": "3d436ba8-6c18-4d07-e5fc-3516640536ce"
      },
      "outputs": [
        {
          "name": "stderr",
          "output_type": "stream",
          "text": [
            "/Users/davogonzalez/opt/miniconda3/lib/python3.8/site-packages/pgmpy/models/BayesianModel.py:8: FutureWarning:\n",
            "\n",
            "BayesianModel has been renamed to BayesianNetwork. Please use BayesianNetwork class, BayesianModel will be removed in future.\n",
            "\n"
          ]
        }
      ],
      "source": [
        "model_2 = BayesianModel([(\"hdl_chol\", \"diabetes\"), (\"prop_col_hdl\", \"diabetes\")])"
      ]
    },
    {
      "cell_type": "code",
      "execution_count": null,
      "metadata": {
        "id": "VSVyMVQCGd-n"
      },
      "outputs": [],
      "source": [
        "model_2.fit(df_b, estimator=MaximumLikelihoodEstimator)"
      ]
    },
    {
      "cell_type": "code",
      "execution_count": null,
      "metadata": {
        "id": "033P3yPlGd-n"
      },
      "outputs": [],
      "source": [
        "second_network_infer = VariableElimination(model_2)"
      ]
    },
    {
      "cell_type": "code",
      "execution_count": null,
      "metadata": {
        "id": "KV0ghznbGd-n",
        "outputId": "2c84edcb-a98d-4ef6-c207-52be4c69dd36"
      },
      "outputs": [
        {
          "name": "stderr",
          "output_type": "stream",
          "text": [
            "Finding Elimination Order: : 100%|██████████| 1/1 [00:00<00:00, 238.39it/s]\n",
            "Eliminating: prop_col_hdl: 100%|██████████| 1/1 [00:00<00:00, 304.69it/s]"
          ]
        },
        {
          "name": "stdout",
          "output_type": "stream",
          "text": [
            "+-------------+-----------------+\n",
            "| diabetes    |   phi(diabetes) |\n",
            "+=============+=================+\n",
            "| diabetes(0) |          0.5872 |\n",
            "+-------------+-----------------+\n",
            "| diabetes(1) |          0.4128 |\n",
            "+-------------+-----------------+\n"
          ]
        },
        {
          "name": "stderr",
          "output_type": "stream",
          "text": [
            "\n"
          ]
        }
      ],
      "source": [
        "q2 = second_network_infer.query(variables=['diabetes'], evidence={'hdl_chol': 36})\n",
        "print(q2)"
      ]
    },
    {
      "cell_type": "code",
      "execution_count": null,
      "metadata": {
        "id": "7229wWN4Gd-r",
        "outputId": "5d9c1572-a83d-41ca-c96d-6b62aaaaf375"
      },
      "outputs": [
        {
          "name": "stderr",
          "output_type": "stream",
          "text": [
            "/Users/davogonzalez/opt/miniconda3/lib/python3.8/site-packages/pgmpy/models/BayesianModel.py:8: FutureWarning:\n",
            "\n",
            "BayesianModel has been renamed to BayesianNetwork. Please use BayesianNetwork class, BayesianModel will be removed in future.\n",
            "\n"
          ]
        }
      ],
      "source": [
        "model_3 = BayesianModel([(\"ps_sistolica\", \"diabetes\"), (\"ps_diastolica\", \"diabetes\"), (\"cintura\", \"diabetes\"), (\"caderas\", \"diabetes\"), \n",
        "(\"prop_cin_cad\", \"diabetes\")])"
      ]
    },
    {
      "cell_type": "code",
      "execution_count": null,
      "metadata": {
        "id": "hAY9ECH_Gd-r",
        "outputId": "f55b8d62-f37f-41f4-f2e8-e78d9900228e"
      },
      "outputs": [
        {
          "name": "stderr",
          "output_type": "stream",
          "text": [
            "/Users/davogonzalez/opt/miniconda3/lib/python3.8/site-packages/pgmpy/models/BayesianModel.py:8: FutureWarning: BayesianModel has been renamed to BayesianNetwork. Please use BayesianNetwork class, BayesianModel will be removed in future.\n",
            "  warnings.warn(\n"
          ]
        }
      ],
      "source": [
        "model = BayesianModel([(\"colesterol\", \"diabetes\"), (\"glucosa\", \"diabetes\"), (\"hdl_chol\", \"diabetes\"), (\"prop_col_hdl\", \"diabetes\"), (\"edad\", \"diabetes\"), (\"genero\", \"diabetes\"), (\"altura\", \"diabetes\"),\n",
        "(\"peso\", \"diabetes\"), (\"IMC\", \"diabetes\"), (\"ps_sistolica\", \"diabetes\"), (\"ps_diastolica\", \"diabetes\"), (\"cintura\", \"diabetes\"), (\"caderas\", \"diabetes\"), \n",
        "(\"prop_cin_cad\", \"diabetes\")])"
      ]
    },
    {
      "cell_type": "code",
      "execution_count": null,
      "metadata": {
        "id": "gtVXLFNAGd-s"
      },
      "outputs": [],
      "source": [
        "model_1 = BayesianModel([(\"colesterol\", \"diabetes\"), (\"glucosa\", \"diabetes\")])"
      ]
    },
    {
      "cell_type": "code",
      "execution_count": null,
      "metadata": {
        "id": "frrjXzfbGd-s"
      },
      "outputs": [],
      "source": [
        "model_1.fit(df, estimator=MaximumLikelihoodEstimator)"
      ]
    },
    {
      "cell_type": "code",
      "execution_count": null,
      "metadata": {
        "id": "cAx5mehHGd-s"
      },
      "outputs": [],
      "source": [
        "first_network_infer = VariableElimination(model_1)"
      ]
    },
    {
      "cell_type": "code",
      "execution_count": null,
      "metadata": {
        "id": "-PBHxO8LGd-s",
        "outputId": "964f2e85-80b9-4223-e8e3-bf2427a142b3"
      },
      "outputs": [
        {
          "name": "stderr",
          "output_type": "stream",
          "text": [
            "\n",
            "\u001b[A\n",
            "Eliminating: glucosa: 100%|██████████| 1/1 [00:00<00:00, 580.45it/s]"
          ]
        },
        {
          "name": "stdout",
          "output_type": "stream",
          "text": [
            "+-------------+-----------------+\n",
            "| diabetes    |   phi(diabetes) |\n",
            "+=============+=================+\n",
            "| diabetes(0) |          0.5962 |\n",
            "+-------------+-----------------+\n",
            "| diabetes(1) |          0.4038 |\n",
            "+-------------+-----------------+\n"
          ]
        },
        {
          "name": "stderr",
          "output_type": "stream",
          "text": [
            "\n"
          ]
        }
      ],
      "source": [
        "q1 = first_network_infer.query(variables=['diabetes'], evidence={'colesterol': 179})\n",
        "print(q1)"
      ]
    },
    {
      "cell_type": "code",
      "execution_count": null,
      "metadata": {
        "id": "Z7G1Sp5uGd-s"
      },
      "outputs": [],
      "source": [
        "second_network_infer = VariableElimination(model_1)"
      ]
    },
    {
      "cell_type": "code",
      "execution_count": null,
      "metadata": {
        "id": "XKADaWwgGd-t",
        "outputId": "2e24a60a-8bb8-4dab-edd1-463a81b92c20"
      },
      "outputs": [
        {
          "name": "stderr",
          "output_type": "stream",
          "text": [
            "\n",
            "0it [00:00, ?it/s]"
          ]
        },
        {
          "name": "stdout",
          "output_type": "stream",
          "text": [
            "+-----------------------+-----------------+\n",
            "| diabetes              |   phi(diabetes) |\n",
            "+=======================+=================+\n",
            "| diabetes(Diabetes)    |          0.5000 |\n",
            "+-----------------------+-----------------+\n",
            "| diabetes(No_diabetes) |          0.5000 |\n",
            "+-----------------------+-----------------+\n"
          ]
        },
        {
          "name": "stderr",
          "output_type": "stream",
          "text": [
            "\n"
          ]
        }
      ],
      "source": [
        "q2 = second_network_infer.query(variables=['diabetes'], evidence={'colesterol': 220})\n",
        "print(q2)"
      ]
    },
    {
      "cell_type": "code",
      "execution_count": null,
      "metadata": {
        "id": "jVSb5i73Gd-u",
        "outputId": "3797d659-c312-4f1b-e0a8-d12867ccca82"
      },
      "outputs": [
        {
          "name": "stderr",
          "output_type": "stream",
          "text": [
            "/Users/davogonzalez/opt/miniconda3/lib/python3.8/site-packages/pgmpy/models/BayesianModel.py:8: FutureWarning:\n",
            "\n",
            "BayesianModel has been renamed to BayesianNetwork. Please use BayesianNetwork class, BayesianModel will be removed in future.\n",
            "\n"
          ]
        }
      ],
      "source": [
        "model_3 = model_3 = BayesianModel([(\"IMC\", \"diabetes\"), (\"prop_cin_cad\", \"diabetes\"), (\"prop_col_hdl\", \"diabetes\")])"
      ]
    },
    {
      "cell_type": "code",
      "execution_count": null,
      "metadata": {
        "id": "Yhs48MLiGd-u"
      },
      "outputs": [],
      "source": [
        "model_3.fit(df_b, estimator=MaximumLikelihoodEstimator)"
      ]
    },
    {
      "cell_type": "code",
      "execution_count": null,
      "metadata": {
        "id": "CHGLGq5PGd-u"
      },
      "outputs": [],
      "source": [
        "third_network_infer = VariableElimination(model_3)"
      ]
    },
    {
      "cell_type": "code",
      "execution_count": null,
      "metadata": {
        "id": "yzJ2xjHQGd-u",
        "outputId": "02b7b284-6453-4698-ea66-0e6d617603ca"
      },
      "outputs": [
        {
          "name": "stderr",
          "output_type": "stream",
          "text": [
            "Eliminating: prop_col_hdl: 100%|██████████| 2/2 [00:00<00:00, 609.19it/s]"
          ]
        },
        {
          "name": "stdout",
          "output_type": "stream",
          "text": [
            "+-------------+-----------------+\n",
            "| diabetes    |   phi(diabetes) |\n",
            "+=============+=================+\n",
            "| diabetes(0) |          0.5001 |\n",
            "+-------------+-----------------+\n",
            "| diabetes(1) |          0.4999 |\n",
            "+-------------+-----------------+\n"
          ]
        },
        {
          "name": "stderr",
          "output_type": "stream",
          "text": [
            "\n"
          ]
        }
      ],
      "source": [
        "q3 = third_network_infer.query(variables=['diabetes'], evidence={'prop_cin_cad': 1.02})\n",
        "print(q3)"
      ]
    },
    {
      "cell_type": "code",
      "execution_count": null,
      "metadata": {
        "id": "1zlDIuT4Gd-v"
      },
      "outputs": [],
      "source": []
    }
  ],
  "metadata": {
    "colab": {
      "provenance": []
    },
    "kernelspec": {
      "display_name": "Python 3.8.10 ('base')",
      "language": "python",
      "name": "python3"
    },
    "language_info": {
      "codemirror_mode": {
        "name": "ipython",
        "version": 3
      },
      "file_extension": ".py",
      "mimetype": "text/x-python",
      "name": "python",
      "nbconvert_exporter": "python",
      "pygments_lexer": "ipython3",
      "version": "3.8.10"
    },
    "orig_nbformat": 4,
    "vscode": {
      "interpreter": {
        "hash": "9ce96328f3b2f5e6ba2c793a2af23cc9f9da45dcfb53b23bcbd25f07032fe2e1"
      }
    }
  },
  "nbformat": 4,
  "nbformat_minor": 0
}
